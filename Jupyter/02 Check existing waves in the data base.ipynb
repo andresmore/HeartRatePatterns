{
 "cells": [
  {
   "cell_type": "markdown",
   "metadata": {},
   "source": [
    "# 02 Check existing waves in the data base"
   ]
  },
  {
   "cell_type": "markdown",
   "metadata": {},
   "source": [
    "1) Import de las librerias que utilizaremos"
   ]
  },
  {
   "cell_type": "code",
   "execution_count": 1,
   "metadata": {},
   "outputs": [],
   "source": [
    "import psycopg2\n",
    "import numpy as np\n",
    "import collections\n",
    "import matplotlib.pyplot as plt"
   ]
  },
  {
   "cell_type": "markdown",
   "metadata": {},
   "source": [
    "2) Conexion a la base de datos"
   ]
  },
  {
   "cell_type": "code",
   "execution_count": 2,
   "metadata": {},
   "outputs": [],
   "source": [
    "conn = psycopg2.connect(\"dbname=test\")\n",
    "cur = conn.cursor()"
   ]
  },
  {
   "cell_type": "markdown",
   "metadata": {},
   "source": [
    "3) Select de los valores"
   ]
  },
  {
   "cell_type": "code",
   "execution_count": 3,
   "metadata": {},
   "outputs": [],
   "source": [
    "select_stament = 'select lef.signame from waveformFields lef left join (select max(recorddate) as recorddate,subject_id from waveformFields group by subject_id) rig on lef.subject_id = rig.subject_id and lef.recorddate = rig.recorddate where rig.subject_id is not null order by lef.subject_id'\n",
    "cur.execute(select_stament)"
   ]
  },
  {
   "cell_type": "code",
   "execution_count": 4,
   "metadata": {},
   "outputs": [],
   "source": [
    "patient = []\n",
    "for row in cur:\n",
    "    patient += row[0]\n",
    "#    np.concatenate((patient, np.array(row)))"
   ]
  },
  {
   "cell_type": "code",
   "execution_count": 5,
   "metadata": {},
   "outputs": [],
   "source": [
    "conn.close()"
   ]
  },
  {
   "cell_type": "markdown",
   "metadata": {},
   "source": [
    "Posibles Ondas que existen"
   ]
  },
  {
   "cell_type": "code",
   "execution_count": 6,
   "metadata": {},
   "outputs": [
    {
     "name": "stdout",
     "output_type": "stream",
     "text": [
      "('MCL1+', 'P4', 'CO2', '[0]++', 'MCL', 'RESP', 'ART', 'ABP', 'UAP', 'PLETHr', 'AVL', 'UVP', '[0]', 'II+', 'RAP', 'V1', '[0]+', 'III', 'aVR', 'aVF', 'aVL', 'MCL1', 'IC1', 'ICP', 'PLETH L', 'P1', 'PLETH R', 'CVP', 'II', 'I+', 'III+', 'V', 'Ao', '[0]+++', 'LAP', 'AVF', 'I', 'PAP', 'AVR', 'PLETH', '[0]++++', '???', 'ECG', 'AOBP', 'Resp', 'V+')\n"
     ]
    }
   ],
   "source": [
    "labels, values = zip(*collections.Counter(patient).items())\n",
    "print(labels)"
   ]
  },
  {
   "cell_type": "markdown",
   "metadata": {},
   "source": [
    "Muestrame el top 15 de las Ondas mas comunes"
   ]
  },
  {
   "cell_type": "code",
   "execution_count": 7,
   "metadata": {},
   "outputs": [
    {
     "data": {
      "image/png": "[encoded data removed]",
      "text/plain": [
       "<matplotlib.figure.Figure at 0x7fc2732998d0>"
      ]
     },
     "metadata": {},
     "output_type": "display_data"
    }
   ],
   "source": [
    "labels, values = zip(*collections.Counter(patient).most_common(14))\n",
    "indexes = np.arange(len(labels))\n",
    "width = 0.5\n",
    "fig_size = [12,9]\n",
    "plt.rcParams[\"figure.figsize\"] = fig_size\n",
    "\n",
    "fig, ax = plt.subplots() \n",
    "for i, v in enumerate(values):\n",
    "    ax.text(i-0.3,v+12, str(v), color='blue', fontweight='bold')\n",
    "    \n",
    "plt.bar(indexes, values, width)\n",
    "plt.xticks(indexes + width * 0.01, labels)\n",
    "plt.show()"
   ]
  },
  {
   "cell_type": "code",
   "execution_count": null,
   "metadata": {},
   "outputs": [],
   "source": []
  }
 ],
 "metadata": {
  "kernelspec": {
   "display_name": "Python 3",
   "language": "python",
   "name": "python3"
  },
  "language_info": {
   "codemirror_mode": {
    "name": "ipython",
    "version": 3
   },
   "file_extension": ".py",
   "mimetype": "text/x-python",
   "name": "python",
   "nbconvert_exporter": "python",
   "pygments_lexer": "ipython3",
   "version": "3.4.3"
  }
 },
 "nbformat": 4,
 "nbformat_minor": 2
}
