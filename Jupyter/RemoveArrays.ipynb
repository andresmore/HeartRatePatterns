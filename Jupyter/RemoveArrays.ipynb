{
 "cells": [
  {
   "cell_type": "code",
   "execution_count": 1,
   "metadata": {},
   "outputs": [],
   "source": [
    "from scidbpy import connect\n",
    "sdb = connect('http://localhost:8080')"
   ]
  },
  {
   "cell_type": "code",
   "execution_count": 2,
   "metadata": {},
   "outputs": [],
   "source": [
    "#arreglo = dir(sdb.arrays)\n",
    "#arreglo\n",
    "arreglo = [\"array1\",\"array2\"]"
   ]
  },
  {
   "cell_type": "code",
   "execution_count": 3,
   "metadata": {},
   "outputs": [
    {
     "name": "stdout",
     "output_type": "stream",
     "text": [
      "ScyDB doesnt contain array: array1\n",
      "ScyDB doesnt contain array: array2\n"
     ]
    }
   ],
   "source": [
    "for line in arreglo:\n",
    " try:\n",
    "  sdb.iquery('remove('+line+')')\n",
    " except:\n",
    "  print(\"ScyDB doesnt contain array: \"+line)"
   ]
  }
 ],
 "metadata": {
  "kernelspec": {
   "display_name": "Python 3",
   "language": "python",
   "name": "python3"
  },
  "language_info": {
   "codemirror_mode": {
    "name": "ipython",
    "version": 3
   },
   "file_extension": ".py",
   "mimetype": "text/x-python",
   "name": "python",
   "nbconvert_exporter": "python",
   "pygments_lexer": "ipython3",
   "version": "3.4.3"
  }
 },
 "nbformat": 4,
 "nbformat_minor": 2
}
