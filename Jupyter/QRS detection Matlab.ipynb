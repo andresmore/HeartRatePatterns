{
 "cells": [
  {
   "cell_type": "markdown",
   "metadata": {},
   "source": [
    "# QRS detection with MatLab script of Hooman Sedghamiz"
   ]
  },
  {
   "cell_type": "code",
   "execution_count": 1,
   "metadata": {},
   "outputs": [],
   "source": [
    "import wfdb\n",
    "import numpy as np\n",
    "import matplotlib.pyplot as plt\n",
    "import sys\n",
    "from oct2py import octave"
   ]
  },
  {
   "cell_type": "markdown",
   "metadata": {},
   "source": [
    "Downloading an ECG from mimic III"
   ]
  },
  {
   "cell_type": "code",
   "execution_count": 2,
   "metadata": {},
   "outputs": [],
   "source": [
    "folder = \"p05/p050140\"\n",
    "waveform = \"p050140-2188-07-26-05-51\"\n",
    "sig, fields = wfdb.srdsamp(waveform,pbdir='mimic3wdb/matched/'+folder)"
   ]
  },
  {
   "cell_type": "code",
   "execution_count": 3,
   "metadata": {},
   "outputs": [
    {
     "name": "stdout",
     "output_type": "stream",
     "text": [
      "signame: ['aVR', 'II', 'I', 'III', 'ABP', 'CVP', 'PLETH']\n",
      "units: ['mV', 'mV', 'mV', 'mV', 'mmHg', 'mmHg', 'NU']\n",
      "fs: 125\n",
      "comments: ['Location: micu']\n",
      "fields: {'signame': ['aVR', 'II', 'I', 'III', 'ABP', 'CVP', 'PLETH'], 'comments': ['Location: micu'], 'units': ['mV', 'mV', 'mV', 'mV', 'mmHg', 'mmHg', 'NU'], 'fs': 125}\n"
     ]
    }
   ],
   "source": [
    "print(\"signame: \" + str(fields['signame']))\n",
    "print(\"units: \" + str(fields['units']))\n",
    "print(\"fs: \" + str(fields['fs']))\n",
    "print(\"comments: \" + str(fields['comments']))\n",
    "print(\"fields: \" + str(fields))"
   ]
  },
  {
   "cell_type": "markdown",
   "metadata": {},
   "source": [
    "Lets check if the signal contains the signal II"
   ]
  },
  {
   "cell_type": "code",
   "execution_count": 4,
   "metadata": {},
   "outputs": [
    {
     "name": "stdout",
     "output_type": "stream",
     "text": [
      "List contain value  1\n"
     ]
    }
   ],
   "source": [
    "signalII = None\n",
    "try:\n",
    "    signalII = fields['signame'].index(\"II\")\n",
    "except ValueError:\n",
    "    print(\"List does not contain value\")\n",
    "if(signalII!=None):\n",
    "    print(\"List contain value \",signalII)"
   ]
  },
  {
   "cell_type": "markdown",
   "metadata": {},
   "source": [
    "Obtain only the signal II from the ECG"
   ]
  },
  {
   "cell_type": "code",
   "execution_count": 5,
   "metadata": {},
   "outputs": [],
   "source": [
    "array = sig[:, signalII]\n",
    "array = np.nan_to_num(array)"
   ]
  },
  {
   "cell_type": "markdown",
   "metadata": {},
   "source": [
    "Save the Frame Secuence"
   ]
  },
  {
   "cell_type": "code",
   "execution_count": 6,
   "metadata": {},
   "outputs": [
    {
     "data": {
      "text/plain": [
       "125"
      ]
     },
     "execution_count": 6,
     "metadata": {},
     "output_type": "execute_result"
    }
   ],
   "source": [
    "fs = fields['fs']\n",
    "fs"
   ]
  },
  {
   "cell_type": "markdown",
   "metadata": {},
   "source": [
    "SubArray 400000"
   ]
  },
  {
   "cell_type": "code",
   "execution_count": 7,
   "metadata": {},
   "outputs": [
    {
     "name": "stdout",
     "output_type": "stream",
     "text": [
      "100000\n",
      "[ 0.          0.          0.         ...,  0.45669291  0.          0.46456693]\n"
     ]
    }
   ],
   "source": [
    "window = 100000\n",
    "sampfrom = 0\n",
    "sampto = window\n",
    "subArray = array[sampfrom:sampto]\n",
    "print(len(subArray))\n",
    "print(subArray)"
   ]
  },
  {
   "cell_type": "code",
   "execution_count": 8,
   "metadata": {},
   "outputs": [],
   "source": [
    "octave.addpath('/home/scidb/HeartRatePatterns/Matlab/')\n",
    "octave.eval('pkg load signal')"
   ]
  },
  {
   "cell_type": "code",
   "execution_count": 9,
   "metadata": {},
   "outputs": [],
   "source": [
    "%load_ext oct2py.ipython"
   ]
  },
  {
   "cell_type": "code",
   "execution_count": 10,
   "metadata": {
    "scrolled": true
   },
   "outputs": [
    {
     "data": {
      "text/plain": [
       "warning: peakdetect: some elements in list of return values are undefined"
      ]
     },
     "metadata": {},
     "output_type": "display_data"
    }
   ],
   "source": [
    "%%octave -i subArray,fs -o R_i,R_amp,S_i,S_amp,T_i,T_amp,Q_i,Q_amp,heart_rate,buffer_plot\n",
    "[R_i,R_amp,S_i,S_amp,T_i,T_amp,Q_i,Q_amp,heart_rate,buffer_plot] = peakdetect(subArray,fs,false); "
   ]
  },
  {
   "cell_type": "code",
   "execution_count": 11,
   "metadata": {},
   "outputs": [],
   "source": [
    "Ri = R_i\n",
    "Ramp = R_amp\n",
    "Si = S_i\n",
    "Samp = S_amp\n",
    "Ti = T_i\n",
    "Tamp = T_amp\n",
    "Qi = Q_i\n",
    "Qamp = Q_amp"
   ]
  },
  {
   "cell_type": "code",
   "execution_count": 12,
   "metadata": {},
   "outputs": [],
   "source": [
    "sampfrom += window+1\n",
    "sampto += window\n",
    "subArray = array[sampfrom:sampto]"
   ]
  },
  {
   "cell_type": "code",
   "execution_count": 13,
   "metadata": {},
   "outputs": [
    {
     "data": {
      "text/plain": [
       "warning: peakdetect: some elements in list of return values are undefined"
      ]
     },
     "metadata": {},
     "output_type": "display_data"
    }
   ],
   "source": [
    "%%octave -i subArray,fs -o R_i,R_amp,S_i,S_amp,T_i,T_amp,Q_i,Q_amp,heart_rate,buffer_plot\n",
    "[R_i,R_amp,S_i,S_amp,T_i,T_amp,Q_i,Q_amp,heart_rate,buffer_plot] = peakdetect(subArray,fs,false); "
   ]
  },
  {
   "cell_type": "code",
   "execution_count": 14,
   "metadata": {},
   "outputs": [
    {
     "name": "stdout",
     "output_type": "stream",
     "text": [
      "R_i [[    6  6075 13056 13225 13379 13507 17934 22778 27435 28321 30818 32968\n",
      "  35755 37923 43269 44622 46610 47850 50096 52297 57450 58840 62361 62707\n",
      "  64675 69542 72768 82832 83574 87979 95117 96789 98113]]\n",
      "Ri [[ 3350  3609  3727  3833  4044  4255  4532  4947  5148  5576  5787  5929\n",
      "   6139  6345  6560  6757  7329  7816  8452  8589  9079  9285  9640 10057\n",
      "  10541 10749 10959 11171 11386 11599 11811 12088 12295 12910 13059 13271\n",
      "  13486 13762 14075 14256 14401 14612 14817 15088 15177 15384 15524 16296\n",
      "  16504 16713 17199 17480 17619 17921 18174 18374 18923 20983 21550 21900\n",
      "  22800 23157 23362 24343 24837 25042 25247 25452 25655 25861 26063 26261\n",
      "  26402 26674 27006 27152 27356 27701 28253 28526 28787 29464 29808 29992\n",
      "  30189 30594 30793 31699 31895 32222 33145 34074 35028 35133 35239 35387\n",
      "  35461 35842 36889 37108 37925 38252 38652 39115 39444 39903 40035 40154\n",
      "  40370 40566 40718 40820 40892 40967 41297 41395 41586 42267 42399 42583\n",
      "  42714 43275 43399 43522 43595 43663 43782 43969 44332 44421 44517 44610\n",
      "  44820 44944 45179 45261 45447 45572 45752 45876 46037 46168 46312 46405\n",
      "  46552 46923 47211 47418 47667 47793 47981 48102 48179 48606 48867 49311\n",
      "  49504 49817 51213 51468 51938 52193 54405 54721 55038 55199 55623 56284\n",
      "  56897 59177 59866 60182 60744 61058 62546 62710 64748 66783 67376 67567\n",
      "  68785 69348 70224 70494 70996 74494 75110 76526 82995 86841 89790 91361\n",
      "  91691 93719 93864 98698]]\n",
      "S_i [[ 5036  8275 13091 13284 13413 15267 22708 25994 27708 30055 32834 34252\n",
      "  37788 40465 43743 45234 46954 48127 50448 55584 58280 59267 62505 64194\n",
      "  68932 72676 81606 83375 87033 93473 95880 97628 98952]]\n",
      "R_i [[ 6015 13185 13293 13421 17901 22741 27398 28286 30799 32935 35719 37872\n",
      "  43265 44616 46574 47815 50060 52263 57432 58802 62347 62668 64638 69510\n",
      "  72688 82800 83541 87960 95100 96753 98075]]\n",
      "Q_i [[    1  6070 13051 13220 13374 13502 17929 22773 27430 28316 30813 32963\n",
      "  35750 37918 43268 44621 46605 47845 50091 52292 57445 58835 62356 62702\n",
      "  64670 69537 72763 82827 83569 87974 95112 96784 98108]]\n",
      "[]\n",
      "[[ 0.62047244  0.68503937  0.7496063  ...,  0.89291339  0.88188976\n",
      "   0.83622047]]\n"
     ]
    }
   ],
   "source": [
    "print(\"R_i\",R_i)\n",
    "print(\"Ri\",Ri)\n",
    "print(\"S_i\",S_i)\n",
    "print(\"R_i\",T_i)\n",
    "print(\"Q_i\",Q_i)\n",
    "print(heart_rate)\n",
    "print(buffer_plot)"
   ]
  },
  {
   "cell_type": "code",
   "execution_count": 15,
   "metadata": {},
   "outputs": [
    {
     "name": "stdout",
     "output_type": "stream",
     "text": [
      "22740\n"
     ]
    }
   ],
   "source": [
    "To= 5\n",
    "subarray = buffer_plot[0][Q_i[0][0]:T_i[0][To]]\n",
    "print(len(subarray))\n",
    "subQ_i = Q_i[0][:To]\n",
    "subQ_amp = Q_amp[0][:To]\n",
    "subR_i = R_i[0][:To]\n",
    "subR_amp = R_amp[0][:To]\n",
    "subS_i = S_i[0][:To]\n",
    "subS_amp = S_amp[0][:To]\n",
    "subT_i = T_i[0][:To]\n",
    "subT_amp = T_amp[0][:To]"
   ]
  },
  {
   "cell_type": "code",
   "execution_count": 16,
   "metadata": {},
   "outputs": [],
   "source": [
    "fig_size = [12,9]\n",
    "plt.rcParams[\"figure.figsize\"] = fig_size"
   ]
  },
  {
   "cell_type": "code",
   "execution_count": 17,
   "metadata": {},
   "outputs": [
    {
     "data": {
      "image/png": "[encoded data removed]",
      "text/plain": [
       "<matplotlib.figure.Figure at 0x7f8d7ee9ec50>"
      ]
     },
     "metadata": {},
     "output_type": "display_data"
    }
   ],
   "source": [
    "plt.plot(np.arange(Q_i[0][0],T_i[0][To]),np.array(subarray),c='lightgreen')\n",
    "plt.scatter(subQ_i, subQ_amp,c='yellow')\n",
    "plt.scatter(subR_i, subR_amp,c='blue')\n",
    "plt.scatter(subS_i, subS_amp,c='red')\n",
    "plt.scatter(subT_i, subT_amp,c='black')\n",
    "plt.show()"
   ]
  },
  {
   "cell_type": "code",
   "execution_count": 18,
   "metadata": {},
   "outputs": [
    {
     "data": {
      "text/plain": [
       "array([5035, 2205,   40,   64,   39, 1765, 4779, 3221,  278, 1739, 2021,\n",
       "       1289, 2038, 2547,  475,  613,  349,  282,  357, 3292,  835,  432,\n",
       "        149, 1492, 4262, 3139, 8843,  548, 3464, 5499,  768,  844,  844])"
      ]
     },
     "execution_count": 18,
     "metadata": {},
     "output_type": "execute_result"
    }
   ],
   "source": [
    "size = 65\n",
    "sq = S_i[0][:size]-Q_i[0][:size]\n",
    "sq"
   ]
  },
  {
   "cell_type": "code",
   "execution_count": 19,
   "metadata": {},
   "outputs": [
    {
     "ename": "ValueError",
     "evalue": "operands could not be broadcast together with shapes (31,) (33,) ",
     "output_type": "error",
     "traceback": [
      "\u001b[0;31m-------------------------------------------------------------------\u001b[0m",
      "\u001b[0;31mValueError\u001b[0m                        Traceback (most recent call last)",
      "\u001b[0;32m<ipython-input-19-3557b753815f>\u001b[0m in \u001b[0;36m<module>\u001b[0;34m()\u001b[0m\n\u001b[0;32m----> 1\u001b[0;31m \u001b[0mtq\u001b[0m \u001b[0;34m=\u001b[0m \u001b[0mT_i\u001b[0m\u001b[0;34m[\u001b[0m\u001b[0;36m0\u001b[0m\u001b[0;34m]\u001b[0m\u001b[0;34m[\u001b[0m\u001b[0;34m:\u001b[0m\u001b[0msize\u001b[0m\u001b[0;34m]\u001b[0m\u001b[0;34m-\u001b[0m\u001b[0mQ_i\u001b[0m\u001b[0;34m[\u001b[0m\u001b[0;36m0\u001b[0m\u001b[0;34m]\u001b[0m\u001b[0;34m[\u001b[0m\u001b[0;34m:\u001b[0m\u001b[0msize\u001b[0m\u001b[0;34m]\u001b[0m\u001b[0;34m\u001b[0m\u001b[0m\n\u001b[0m\u001b[1;32m      2\u001b[0m \u001b[0mtq\u001b[0m\u001b[0;34m\u001b[0m\u001b[0m\n",
      "\u001b[0;31mValueError\u001b[0m: operands could not be broadcast together with shapes (31,) (33,) "
     ]
    }
   ],
   "source": [
    "tq = T_i[0][:size]-Q_i[0][:size]\n",
    "tq"
   ]
  },
  {
   "cell_type": "code",
   "execution_count": null,
   "metadata": {},
   "outputs": [],
   "source": [
    "ts = T_i[0][:size]-S_i[0][:size]\n",
    "ts"
   ]
  },
  {
   "cell_type": "code",
   "execution_count": null,
   "metadata": {},
   "outputs": [],
   "source": [
    "heartRate = np.stack((sq, tq,ts), axis=-1)"
   ]
  },
  {
   "cell_type": "code",
   "execution_count": null,
   "metadata": {},
   "outputs": [],
   "source": [
    "from sklearn.cluster import KMeans"
   ]
  },
  {
   "cell_type": "code",
   "execution_count": null,
   "metadata": {},
   "outputs": [],
   "source": [
    "X = np.array(heartRate)\n",
    "est = KMeans(n_clusters=10).fit(X)"
   ]
  },
  {
   "cell_type": "code",
   "execution_count": null,
   "metadata": {},
   "outputs": [],
   "source": [
    "print(est.labels_)\n",
    "print(est.cluster_centers_)"
   ]
  },
  {
   "cell_type": "code",
   "execution_count": null,
   "metadata": {},
   "outputs": [],
   "source": [
    "import collections"
   ]
  },
  {
   "cell_type": "code",
   "execution_count": null,
   "metadata": {},
   "outputs": [],
   "source": [
    "labels, values = zip(*collections.Counter(est.labels_).items())\n",
    "#labels, values = zip(*collections.Counter(patient).most_common(14))\n",
    "indexes = np.arange(len(labels))\n",
    "width = 0.5\n",
    "fig_size = [12,9]\n",
    "fig, ax = plt.subplots() \n",
    "for i, v in enumerate(values):\n",
    "    ax.text(i-0.1,v+1, str(v), color='blue', fontweight='bold')\n",
    "    \n",
    "plt.rcParams[\"figure.figsize\"] = fig_size\n",
    "plt.bar(indexes, values, width)\n",
    "plt.xticks(indexes + width * 0.01, labels)\n",
    "plt.show()"
   ]
  },
  {
   "cell_type": "code",
   "execution_count": null,
   "metadata": {},
   "outputs": [],
   "source": [
    "sampfrom = max(max(R_i[0]),max(S_i[0]),max(T_i[0]),max(Q_i[0]))\n",
    "sampfrom"
   ]
  },
  {
   "cell_type": "code",
   "execution_count": null,
   "metadata": {},
   "outputs": [],
   "source": [
    "sampfrom = 400000\n",
    "sampto = 400000+sampfrom\n",
    "folder = \"p05/p050140\"\n",
    "waveform = \"p050140-2188-07-26-05-51\"\n",
    "sig, fields = wfdb.srdsamp(waveform,pbdir='mimic3wdb/matched/'+folder,\n",
    "                           sampfrom=sampfrom, sampto=sampto)"
   ]
  },
  {
   "cell_type": "code",
   "execution_count": null,
   "metadata": {},
   "outputs": [],
   "source": [
    "array = np.nan_to_num(sig[:, signalII])\n",
    "array = array\n",
    "array"
   ]
  },
  {
   "cell_type": "code",
   "execution_count": null,
   "metadata": {
    "scrolled": true
   },
   "outputs": [],
   "source": [
    "%%octave -i array -o R_i,R_amp,S_i,S_amp,T_i,T_amp,Q_i,Q_amp,heart_rate,buffer_plot\n",
    "[R_i,R_amp,S_i,S_amp,T_i,T_amp,Q_i,Q_amp,heart_rate,buffer_plot] = peakdetect(array,125,false); "
   ]
  },
  {
   "cell_type": "code",
   "execution_count": null,
   "metadata": {},
   "outputs": [],
   "source": [
    "print(fs)\n",
    "print(\"R_i\",R_i)\n",
    "print(\"S_i\",S_i)\n",
    "print(\"R_i\",T_i)\n",
    "print(\"Q_i\",Q_i)\n",
    "print(heart_rate)\n",
    "print(buffer_plot)"
   ]
  },
  {
   "cell_type": "code",
   "execution_count": null,
   "metadata": {},
   "outputs": [],
   "source": []
  }
 ],
 "metadata": {
  "kernelspec": {
   "display_name": "Python 3",
   "language": "python",
   "name": "python3"
  },
  "language_info": {
   "codemirror_mode": {
    "name": "ipython",
    "version": 3
   },
   "file_extension": ".py",
   "mimetype": "text/x-python",
   "name": "python",
   "nbconvert_exporter": "python",
   "pygments_lexer": "ipython3",
   "version": "3.4.3"
  }
 },
 "nbformat": 4,
 "nbformat_minor": 2
}
