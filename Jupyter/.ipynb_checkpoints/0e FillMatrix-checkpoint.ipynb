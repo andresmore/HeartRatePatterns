{
 "cells": [
  {
   "cell_type": "code",
   "execution_count": null,
   "metadata": {},
   "outputs": [],
   "source": []
  },
  {
   "cell_type": "code",
   "execution_count": 1,
   "metadata": {},
   "outputs": [],
   "source": [
    "from time import time\n",
    "import psycopg2\n",
    "from collections import Counter\n",
    "import gc\n",
    "import pandas as pd\n",
    "import numpy as np\n",
    "from sklearn.decomposition import NMF, LatentDirichletAllocation\n",
    "from sklearn.model_selection import train_test_split\n",
    "from sklearn.linear_model import LogisticRegression,LogisticRegressionCV\n",
    "from sklearn.metrics import accuracy_score\n",
    "np.set_printoptions(suppress=True,precision=10)"
   ]
  },
  {
   "cell_type": "code",
   "execution_count": 3,
   "metadata": {},
   "outputs": [],
   "source": [
    "def cleanMatrix(dbname=\"mimic\") :\n",
    "    conn = psycopg2.connect(\"dbname=\"+dbname)\n",
    "    cur = conn.cursor()\n",
    "    select_stament = (\"DELETE \"\n",
    "                      \" FROM matrix\"\n",
    "    )\n",
    "    cur.execute(select_stament)\n",
    "    conn.commit()\n",
    "    cur.close()\n",
    "    conn.close()"
   ]
  },
  {
   "cell_type": "code",
   "execution_count": 4,
   "metadata": {},
   "outputs": [],
   "source": [
    "def selectWord(dbname=\"mimic\") :\n",
    "    conn = psycopg2.connect(\"dbname=\"+dbname)\n",
    "    cur = conn.cursor()\n",
    "    select_stament = '''SELECT subject_id,word,isalive \n",
    "    FROM subjectwords \n",
    "    WHERE length(word)>1000 \n",
    "    AND ((isalive=0 AND length(word)>3750) OR isalive=1)\n",
    "    ''' \n",
    "    cur.execute(select_stament)\n",
    "    select = []\n",
    "    for row in cur :\n",
    "        select.append({'subject_id':row[0],'word':row[1],'isalive':row[2]})\n",
    "    conn.close()\n",
    "    return select"
   ]
  },
  {
   "cell_type": "code",
   "execution_count": 5,
   "metadata": {},
   "outputs": [],
   "source": [
    "def get_all_substrings(input_string,length=5):\n",
    "    substrings = []\n",
    "    for j in range(len(input_string)) :\n",
    "        for i in range(length) :\n",
    "            substrings.append(input_string[j:j+i+1])\n",
    "    return Counter(substrings)"
   ]
  },
  {
   "cell_type": "code",
   "execution_count": 6,
   "metadata": {},
   "outputs": [],
   "source": [
    "def saveMatrix(matrix,dbname=\"mimic\") :\n",
    "    conn = psycopg2.connect(\"dbname=\"+dbname)\n",
    "    cur = conn.cursor()\n",
    "    insert_statement=('INSERT INTO matrix(word,subject_id,counting)'\n",
    "                      ' SELECT unnest( %(word)s ) ,'\n",
    "                      ' unnest( %(subject_id)s) ,'\n",
    "                      ' unnest( %(counting)s)')\n",
    "    word=[r['word'] for r in matrix]\n",
    "    subject_id=[r['subject_id'] for r in matrix]\n",
    "    counting=[r['counting'] for r in matrix]\n",
    "#    print(cur.mogrify(insert_statement,locals()))\n",
    "    cur.execute(insert_statement,locals())\n",
    "    conn.commit()\n",
    "    cur.close()\n",
    "    conn.close()"
   ]
  },
  {
   "cell_type": "code",
   "execution_count": 7,
   "metadata": {},
   "outputs": [],
   "source": [
    "def fillMatrix(length):\n",
    "    cleanMatrix()\n",
    "    i=0\n",
    "    matrix = []\n",
    "    for word in selectWord() :\n",
    "        subject = word['subject_id']\n",
    "        subs =get_all_substrings(word['word'],length=length)\n",
    "        for key in subs:\n",
    "            matrix.append({'word':key,'counting':subs[key],'subject_id':subject})\n",
    "    saveMatrix(matrix)\n",
    "    print(\"The matrix was filled with \"+str(len(matrix))+\" values.\")"
   ]
  },
  {
   "cell_type": "code",
   "execution_count": 8,
   "metadata": {},
   "outputs": [],
   "source": [
    "def fixMatrix(dbname=\"mimic\") :\n",
    "    conn = psycopg2.connect(\"dbname=\"+dbname)\n",
    "    cur = conn.cursor()\n",
    "    select_stament = (\"DELETE \"\n",
    "                      \" FROM matrix\"\n",
    "                      \" WHERE word in (SELECT word FROM matrix GROUP BY word HAVING sum(counting)<5)\"\n",
    "    )\n",
    "    cur.execute(select_stament)\n",
    "    select_stament = '''DELETE \n",
    "    FROM matrix \n",
    "    WHERE word IN (SELECT word FROM matrix group by word HAVING count(1)>=(\n",
    "    SELECT count(distinct subject_id) FROM matrix))\n",
    "    '''\n",
    "    cur.execute(select_stament)\n",
    "    conn.commit()\n",
    "    cur.close()\n",
    "    conn.close()"
   ]
  },
  {
   "cell_type": "code",
   "execution_count": 9,
   "metadata": {},
   "outputs": [],
   "source": [
    "def selectMatrix(dbname=\"mimic\") :\n",
    "    conn = psycopg2.connect(\"dbname=\"+dbname)\n",
    "    cur = conn.cursor()\n",
    "    select_stament = (\"SELECT m.subject_id,m.word,m.counting,s.isalive \"\n",
    "                      \" FROM matrix m LEFT JOIN subjectwords s ON m.subject_id=s.subject_id\"\n",
    "    )\n",
    "    cur.execute(select_stament)\n",
    "    select = []\n",
    "    for row in cur :\n",
    "        select.append((row))\n",
    "    cur.close()\n",
    "    conn.close()\n",
    "    return select"
   ]
  },
  {
   "cell_type": "code",
   "execution_count": 10,
   "metadata": {},
   "outputs": [],
   "source": [
    "def convertMatrix() :\n",
    "    labels = ['subject_id', 'Word', 'Counting','isAlive']\n",
    "    df = pd.DataFrame.from_records(selectMatrix(), columns=labels)\n",
    "    print(len(df))\n",
    "    return pd.pivot_table(df,index=[\"subject_id\",\"isAlive\"],columns=[\"Word\"],values=[\"Counting\"],\n",
    "                       aggfunc={\"Counting\":[np.sum]},fill_value=0)"
   ]
  },
  {
   "cell_type": "code",
   "execution_count": 11,
   "metadata": {},
   "outputs": [
    {
     "name": "stdout",
     "output_type": "stream",
     "text": [
      "The matrix was filled with 1102152 values.\n",
      "fillMatrix done in 80.318s.\n"
     ]
    }
   ],
   "source": [
    "t0 = time()\n",
    "fillMatrix(length=8)\n",
    "print(\"fillMatrix done in %0.3fs.\" % (time() - t0))"
   ]
  },
  {
   "cell_type": "code",
   "execution_count": 12,
   "metadata": {},
   "outputs": [
    {
     "name": "stdout",
     "output_type": "stream",
     "text": [
      "fixMatrix done in 46.535s.\n",
      "961128\n",
      "converMatrix done in 209.236s.\n",
      "(545, 28340)\n"
     ]
    },
    {
     "data": {
      "text/plain": [
       "14"
      ]
     },
     "execution_count": 12,
     "metadata": {},
     "output_type": "execute_result"
    }
   ],
   "source": [
    "gc.collect()\n",
    "t0 = time()\n",
    "fixMatrix()\n",
    "print(\"fixMatrix done in %0.3fs.\" % (time() - t0))\n",
    "gc.collect()\n",
    "t0 = time()\n",
    "table = convertMatrix()\n",
    "print(\"converMatrix done in %0.3fs.\" % (time() - t0))\n",
    "print(table.shape)\n",
    "gc.collect()"
   ]
  },
  {
   "cell_type": "code",
   "execution_count": 13,
   "metadata": {},
   "outputs": [],
   "source": [
    "survived = table.index.labels[1].tolist()\n",
    "patients = table.values"
   ]
  },
  {
   "cell_type": "code",
   "execution_count": 14,
   "metadata": {},
   "outputs": [],
   "source": [
    "patients_train, patients_test,survived_train, survived_test = train_test_split(patients,survived,test_size=0.2, random_state=42)"
   ]
  },
  {
   "cell_type": "code",
   "execution_count": 15,
   "metadata": {
    "scrolled": false
   },
   "outputs": [
    {
     "name": "stdout",
     "output_type": "stream",
     "text": [
      "(545, 28340)\n",
      "(436, 28340)\n",
      "(109, 28340)\n"
     ]
    }
   ],
   "source": [
    "print(table.shape)\n",
    "print(patients_train.shape)\n",
    "print(patients_test.shape)"
   ]
  }
 ],
 "metadata": {
  "kernelspec": {
   "display_name": "Python 3",
   "language": "python",
   "name": "python3"
  },
  "language_info": {
   "codemirror_mode": {
    "name": "ipython",
    "version": 3
   },
   "file_extension": ".py",
   "mimetype": "text/x-python",
   "name": "python",
   "nbconvert_exporter": "python",
   "pygments_lexer": "ipython3",
   "version": "3.4.3"
  }
 },
 "nbformat": 4,
 "nbformat_minor": 2
}
