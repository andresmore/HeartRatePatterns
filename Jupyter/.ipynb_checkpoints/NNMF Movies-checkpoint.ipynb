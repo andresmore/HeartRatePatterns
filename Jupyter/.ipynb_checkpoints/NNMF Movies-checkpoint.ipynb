{
 "cells": [
  {
   "cell_type": "markdown",
   "metadata": {},
   "source": [
    "# 05 Non_Negative Matrix Factorization Movies"
   ]
  },
  {
   "cell_type": "code",
   "execution_count": 1,
   "metadata": {},
   "outputs": [],
   "source": [
    "from __future__ import print_function\n",
    "from time import time\n",
    "from sklearn.feature_extraction.text import TfidfVectorizer, CountVectorizer\n",
    "from sklearn.decomposition import NMF, LatentDirichletAllocation\n",
    "from sklearn.datasets import fetch_20newsgroups\n",
    "import numpy as np"
   ]
  },
  {
   "cell_type": "code",
   "execution_count": 2,
   "metadata": {},
   "outputs": [],
   "source": [
    "#n_samples = 2000\n",
    "#n_features = 1000\n",
    "n_top_words = 2"
   ]
  },
  {
   "cell_type": "code",
   "execution_count": 3,
   "metadata": {},
   "outputs": [],
   "source": [
    "data_samples = [\"Llegar tiempo las citas y reunionuna fase autodisciplina y evidencia respeto si mismo. puntualidad cumplido persona cortés paga sus asociados\",\n",
    "                \"puntualidad alma negocios\",\n",
    "                \"difícil mostrarte confiable cuando gente tiene esperarte\",\n",
    "                \"Mejor tres horas demasiado pronto minuto demasiado tarde\",\n",
    "               \"puntualidad educación reyes\",\n",
    "               \"preparación y puntualidad son dos las cualidadmás importantun líder\",\n",
    "               \"Mejor nunca tarde\",\n",
    "               \"Nunca hubiese podido hacer todo lo he hecho sin hábitos puntualidad, orden diligencia, sin determinación concentrarmea tarea mismo tiempo\",\n",
    "               \"falta puntualidad falta virtud\"]\n",
    "n_components = round(len(data_samples)/2)"
   ]
  },
  {
   "cell_type": "code",
   "execution_count": 4,
   "metadata": {},
   "outputs": [
    {
     "name": "stdout",
     "output_type": "stream",
     "text": [
      "Extracting tf-idf features for NMF...\n",
      "  (0, 29)\t0.246853874521\n",
      "  (0, 54)\t0.208496712451\n",
      "  (0, 28)\t0.208496712451\n",
      "  (0, 3)\t0.246853874521\n",
      "  (0, 46)\t0.246853874521\n",
      "  (0, 19)\t0.246853874521\n",
      "  (0, 2)\t0.246853874521\n",
      "  (0, 17)\t0.246853874521\n",
      "  (0, 45)\t0.246853874521\n",
      "  (0, 48)\t0.246853874521\n",
      "  (0, 34)\t0.208496712451\n",
      "  (0, 44)\t0.128341994565\n",
      "  (0, 9)\t0.246853874521\n",
      "  (0, 40)\t0.246853874521\n",
      "  (0, 6)\t0.246853874521\n",
      "  (0, 39)\t0.246853874521\n",
      "  (0, 51)\t0.246853874521\n",
      "  (0, 1)\t0.246853874521\n",
      "  (1, 44)\t0.345053565606\n",
      "  (1, 0)\t0.663678399853\n",
      "  (1, 36)\t0.663678399853\n",
      "  (2, 12)\t0.377964473009\n",
      "  (2, 35)\t0.377964473009\n",
      "  (2, 5)\t0.377964473009\n",
      "  (2, 8)\t0.377964473009\n",
      "  :\t:\n",
      "  (5, 31)\t0.37840575439\n",
      "  (6, 32)\t0.57735026919\n",
      "  (6, 52)\t0.57735026919\n",
      "  (6, 37)\t0.57735026919\n",
      "  (7, 54)\t0.191708612846\n",
      "  (7, 34)\t0.191708612846\n",
      "  (7, 44)\t0.118007931438\n",
      "  (7, 37)\t0.191708612846\n",
      "  (7, 25)\t0.22697726647\n",
      "  (7, 41)\t0.22697726647\n",
      "  (7, 21)\t0.22697726647\n",
      "  (7, 56)\t0.22697726647\n",
      "  (7, 30)\t0.22697726647\n",
      "  (7, 22)\t0.22697726647\n",
      "  (7, 23)\t0.22697726647\n",
      "  (7, 49)\t0.45395453294\n",
      "  (7, 26)\t0.22697726647\n",
      "  (7, 38)\t0.22697726647\n",
      "  (7, 13)\t0.22697726647\n",
      "  (7, 11)\t0.22697726647\n",
      "  (7, 4)\t0.22697726647\n",
      "  (7, 53)\t0.22697726647\n",
      "  (8, 44)\t0.226470098785\n",
      "  (8, 18)\t0.871188289341\n",
      "  (8, 58)\t0.435594144671 ['alma', 'asociados', 'autodisciplina', 'citas', 'concentrarmea', 'confiable', 'cortés', 'cualidadmás', 'cuando', 'cumplido', 'demasiado', 'determinación', 'difícil', 'diligencia', 'dos', 'educación', 'esperarte', 'evidencia', 'falta', 'fase', 'gente', 'hacer', 'he', 'hecho', 'horas', 'hubiese', 'hábitos', 'importantun', 'las', 'llegar', 'lo', 'líder', 'mejor', 'minuto', 'mismo', 'mostrarte', 'negocios', 'nunca', 'orden', 'paga', 'persona', 'podido', 'preparación', 'pronto', 'puntualidad', 'respeto', 'reunionuna', 'reyes', 'si', 'sin', 'son', 'sus', 'tarde', 'tarea', 'tiempo', 'tiene', 'todo', 'tres', 'virtud']\n",
      "done in 0.009s.\n"
     ]
    }
   ],
   "source": [
    "# Use tf-idf features for NMF.\n",
    "print(\"Extracting tf-idf features for NMF...\")\n",
    "tfidf_vectorizer = TfidfVectorizer(\n",
    "#    max_df=0.95, min_df=2\n",
    "#                                   ,max_features=n_features\n",
    "                                  )\n",
    "t0 = time()\n",
    "tfidf = tfidf_vectorizer.fit_transform(data_samples)\n",
    "tfidf_feature_names = tfidf_vectorizer.get_feature_names()\n",
    "print(tfidf,tfidf_feature_names)\n",
    "print(\"done in %0.3fs.\" % (time() - t0))"
   ]
  },
  {
   "cell_type": "code",
   "execution_count": 5,
   "metadata": {},
   "outputs": [
    {
     "name": "stdout",
     "output_type": "stream",
     "text": [
      "done in 0.015s.\n"
     ]
    }
   ],
   "source": [
    "# Fit the NMF model\n",
    "t0 = time()\n",
    "nmf = NMF(n_components=n_components, random_state=1,alpha=.1, l1_ratio=.5).fit(tfidf)\n",
    "print(\"done in %0.3fs.\" % (time() - t0))\n",
    "tfidf_feature_names = tfidf_vectorizer.get_feature_names()"
   ]
  },
  {
   "cell_type": "code",
   "execution_count": 6,
   "metadata": {},
   "outputs": [],
   "source": [
    "def print_top_words(model, feature_names, n_top_words):\n",
    "    for topic_idx, topic in enumerate(model.components_):\n",
    "        message = \"Topic #%d: \" % topic_idx\n",
    "        message += \" \".join([feature_names[i] for i in topic.argsort()[:-n_top_words - 1:-1]])\n",
    "        print(message)\n",
    "    print()"
   ]
  },
  {
   "cell_type": "code",
   "execution_count": 7,
   "metadata": {},
   "outputs": [
    {
     "name": "stdout",
     "output_type": "stream",
     "text": [
      "\n",
      "Topics in NMF model (Frobenius norm):\n",
      "Topic #0: tarde mejor\n",
      "Topic #1: puntualidad alma\n",
      "Topic #2: llegar cumplido\n",
      "Topic #3: esperarte cuando\n",
      "\n"
     ]
    }
   ],
   "source": [
    "print(\"\\nTopics in NMF model (Frobenius norm):\")\n",
    "print_top_words(nmf, tfidf_feature_names, n_top_words)"
   ]
  },
  {
   "cell_type": "code",
   "execution_count": 8,
   "metadata": {},
   "outputs": [
    {
     "data": {
      "text/plain": [
       "<enumerate at 0x7f6ed8668dc8>"
      ]
     },
     "execution_count": 8,
     "metadata": {},
     "output_type": "execute_result"
    }
   ],
   "source": [
    " enumerate(nmf.components_)"
   ]
  },
  {
   "cell_type": "code",
   "execution_count": null,
   "metadata": {},
   "outputs": [],
   "source": []
  }
 ],
 "metadata": {
  "kernelspec": {
   "display_name": "Python 3",
   "language": "python",
   "name": "python3"
  },
  "language_info": {
   "codemirror_mode": {
    "name": "ipython",
    "version": 3
   },
   "file_extension": ".py",
   "mimetype": "text/x-python",
   "name": "python",
   "nbconvert_exporter": "python",
   "pygments_lexer": "ipython3",
   "version": "3.4.3"
  }
 },
 "nbformat": 4,
 "nbformat_minor": 2
}
