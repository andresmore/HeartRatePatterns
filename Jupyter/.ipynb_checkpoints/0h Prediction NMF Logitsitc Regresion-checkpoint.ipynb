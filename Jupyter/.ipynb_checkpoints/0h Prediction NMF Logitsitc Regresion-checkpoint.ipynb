{
 "cells": [
  {
   "cell_type": "code",
   "execution_count": null,
   "metadata": {},
   "outputs": [],
   "source": []
  },
  {
   "cell_type": "code",
   "execution_count": 1,
   "metadata": {},
   "outputs": [],
   "source": [
    "from time import time\n",
    "import psycopg2\n",
    "from collections import Counter\n",
    "import gc\n",
    "import pandas as pd\n",
    "import numpy as np\n",
    "from sklearn.decomposition import NMF, LatentDirichletAllocation\n",
    "from sklearn.model_selection import train_test_split\n",
    "from sklearn.metrics import accuracy_score\n",
    "np.set_printoptions(suppress=True,precision=10)"
   ]
  },
  {
   "cell_type": "code",
   "execution_count": 2,
   "metadata": {},
   "outputs": [],
   "source": [
    "import sys \n",
    "import os\n",
    "sys.path.append(os.path.abspath(\"/home/scidb/HeartRatePatterns/Python\"))\n",
    "from LogisticRegresion import ajustLogisticRegression"
   ]
  },
  {
   "cell_type": "code",
   "execution_count": 3,
   "metadata": {},
   "outputs": [],
   "source": [
    "def selectMatrix(dbname=\"mimic\") :\n",
    "    conn = psycopg2.connect(\"dbname=\"+dbname)\n",
    "    cur = conn.cursor()\n",
    "    select_stament = (\"SELECT m.subject_id,m.word,m.counting,s.isalive \"\n",
    "                      \" FROM matrix m LEFT JOIN subjectwords s ON m.subject_id=s.subject_id\"\n",
    "    )\n",
    "    cur.execute(select_stament)\n",
    "    select = []\n",
    "    for row in cur :\n",
    "        select.append((row))\n",
    "    cur.close()\n",
    "    conn.close()\n",
    "    return select"
   ]
  },
  {
   "cell_type": "code",
   "execution_count": 4,
   "metadata": {},
   "outputs": [],
   "source": [
    "def convertMatrix() :\n",
    "    labels = ['subject_id', 'Word', 'Counting','isAlive']\n",
    "    df = pd.DataFrame.from_records(selectMatrix(), columns=labels)\n",
    "    print(len(df))\n",
    "    return pd.pivot_table(df,index=[\"subject_id\",\"isAlive\"],columns=[\"Word\"],values=[\"Counting\"],\n",
    "                       aggfunc={\"Counting\":[np.sum]},fill_value=0)"
   ]
  },
  {
   "cell_type": "code",
   "execution_count": 5,
   "metadata": {},
   "outputs": [
    {
     "name": "stdout",
     "output_type": "stream",
     "text": [
      "4569945\n",
      "converMatrix done in 60.456s.\n",
      "(845, 168509)\n"
     ]
    },
    {
     "data": {
      "text/plain": [
       "14"
      ]
     },
     "execution_count": 5,
     "metadata": {},
     "output_type": "execute_result"
    }
   ],
   "source": [
    "t0=time()\n",
    "table = convertMatrix()\n",
    "print(\"converMatrix done in %0.3fs.\" % (time() - t0))\n",
    "print(table.shape)\n",
    "gc.collect()"
   ]
  },
  {
   "cell_type": "code",
   "execution_count": 6,
   "metadata": {},
   "outputs": [],
   "source": [
    "survived = table.index.labels[1].tolist()\n",
    "patients = table.values"
   ]
  },
  {
   "cell_type": "code",
   "execution_count": 7,
   "metadata": {},
   "outputs": [],
   "source": [
    "patients_train, patients_test,survived_train, survived_test = train_test_split(patients,survived,test_size=0.2, random_state=42)"
   ]
  },
  {
   "cell_type": "code",
   "execution_count": 8,
   "metadata": {
    "scrolled": false
   },
   "outputs": [
    {
     "name": "stdout",
     "output_type": "stream",
     "text": [
      "(845, 168509)\n",
      "(676, 168509)\n",
      "(169, 168509)\n"
     ]
    }
   ],
   "source": [
    "print(table.shape)\n",
    "print(patients_train.shape)\n",
    "print(patients_test.shape)"
   ]
  },
  {
   "cell_type": "markdown",
   "metadata": {},
   "source": [
    "### Base Model All Will Die"
   ]
  },
  {
   "cell_type": "code",
   "execution_count": 9,
   "metadata": {},
   "outputs": [],
   "source": [
    "def base_rate_model(X) :\n",
    "    y = np.ones(X.shape[0])\n",
    "    return y"
   ]
  },
  {
   "cell_type": "code",
   "execution_count": 10,
   "metadata": {},
   "outputs": [
    {
     "name": "stdout",
     "output_type": "stream",
     "text": [
      "Base rate acurracy is 0.54\n"
     ]
    }
   ],
   "source": [
    "y_base_rate = base_rate_model(patients_test)\n",
    "print(\"Base rate acurracy is %2.2f\" % accuracy_score(survived_test,base_rate_model(patients_test)))"
   ]
  },
  {
   "cell_type": "markdown",
   "metadata": {},
   "source": [
    "### Direct Regresion Logistic"
   ]
  },
  {
   "cell_type": "code",
   "execution_count": 11,
   "metadata": {},
   "outputs": [
    {
     "name": "stdout",
     "output_type": "stream",
     "text": [
      "Best C is [ 0.01] with an average of 0.539149642572\n",
      "Best C is [ 0.0253] with an average of 0.538613628289\n",
      "Best C is [ 0.02431] with an average of 0.538520949883\n",
      "Best C is [ 0.024112] with an average of 0.538566414762\n",
      "Best C is [ 0.0240724] with an average of 0.538566414762\n",
      "Score logit 0.538461538462\n",
      "Score last 0.550295857988\n",
      "Score best 0.550295857988\n",
      "acurracy is 0.55\n"
     ]
    }
   ],
   "source": [
    "model = ajustLogisticRegression(patients_train,survived_train,patients_test,survived_test)"
   ]
  },
  {
   "cell_type": "markdown",
   "metadata": {},
   "source": [
    "### NMF + Logistic Regression accurancy"
   ]
  },
  {
   "cell_type": "code",
   "execution_count": 12,
   "metadata": {},
   "outputs": [],
   "source": [
    "def generateNMF(patients_train,survived_train,patients_test,survived_test,n_components=30) :\n",
    "    nmf = NMF(n_components=n_components, random_state=1,alpha=.1, l1_ratio=.5)\n",
    "    patients_trainnmf = nmf.fit_transform(patients_train)\n",
    "    H = nmf.components_\n",
    "    patients_testnmf = nmf.transform(patients_test)\n",
    "    modelnmf = ajustLogisticRegression(patients_trainnmf,survived_train,patients_testnmf,survived_test)\n",
    "    return modelnmf,patients_testnmf"
   ]
  },
  {
   "cell_type": "code",
   "execution_count": 13,
   "metadata": {},
   "outputs": [
    {
     "name": "stdout",
     "output_type": "stream",
     "text": [
      "Best C is [ 1.] with an average of 0.501225333917\n",
      "Best C is [ 2.53] with an average of 0.563893060294\n",
      "Best C is [ 2.431] with an average of 0.563620782823\n",
      "Best C is [ 2.4112] with an average of 0.563716340103\n",
      "Best C is [ 2.40724] with an average of 0.563668561463\n",
      "Score logit 0.544378698225\n",
      "Score last 0.508875739645\n",
      "Score best 0.508875739645\n",
      "acurracy is 0.54\n"
     ]
    }
   ],
   "source": [
    "modelnmf7,pat_testnmf7 = generateNMF(patients_train,survived_train,patients_test,survived_test,n_components=7)"
   ]
  },
  {
   "cell_type": "code",
   "execution_count": 14,
   "metadata": {},
   "outputs": [
    {
     "name": "stdout",
     "output_type": "stream",
     "text": [
      "Best C is [ 1.] with an average of 0.535750311238\n",
      "Best C is [ 2.53] with an average of 0.586559946466\n",
      "Best C is [ 2.431] with an average of 0.586146081725\n",
      "Best C is [ 2.4112] with an average of 0.586192111716\n",
      "Best C is [ 2.40724] with an average of 0.586237576594\n",
      "Score logit 0.621301775148\n",
      "Score last 0.579881656805\n",
      "Score best 0.579881656805\n",
      "acurracy is 0.62\n"
     ]
    }
   ],
   "source": [
    "modelnmf32,pat_testnmf32 = generateNMF(patients_train,survived_train,patients_test,survived_test,n_components=32)"
   ]
  },
  {
   "cell_type": "code",
   "execution_count": 15,
   "metadata": {},
   "outputs": [
    {
     "name": "stdout",
     "output_type": "stream",
     "text": [
      "Best C is [ 10.] with an average of 0.52214510632\n",
      "Best C is [ 10.9] with an average of 0.55781328436\n",
      "Best C is [ 10.63] with an average of 0.557812410035\n",
      "Best C is [ 10.576] with an average of 0.557579583796\n",
      "Best C is [ 10.5652] with an average of 0.557579583796\n",
      "Score logit 0.603550295858\n",
      "Score last 0.585798816568\n",
      "Score best 0.585798816568\n",
      "acurracy is 0.60\n"
     ]
    }
   ],
   "source": [
    "modelnmf51,pat_testnmf51 = generateNMF(patients_train,survived_train,patients_test,survived_test,n_components=51)"
   ]
  },
  {
   "cell_type": "code",
   "execution_count": 16,
   "metadata": {},
   "outputs": [
    {
     "name": "stdout",
     "output_type": "stream",
     "text": [
      "Best C is [ 0.1] with an average of 0.557338984598\n",
      "Best C is [ 0.253] with an average of 0.569762166653\n",
      "Best C is [ 0.2431] with an average of 0.569636157288\n",
      "Best C is [ 0.24112] with an average of 0.569725647608\n",
      "Best C is [ 0.240724] with an average of 0.569909820883\n",
      "Score logit 0.597633136095\n",
      "Score last 0.597633136095\n",
      "Score best 0.597633136095\n",
      "acurracy is 0.60\n"
     ]
    }
   ],
   "source": [
    "modelnmf75,pat_testnmf75 = generateNMF(patients_train,survived_train,patients_test,survived_test,n_components=75)"
   ]
  },
  {
   "cell_type": "markdown",
   "metadata": {},
   "source": [
    "### AUC"
   ]
  },
  {
   "cell_type": "code",
   "execution_count": 17,
   "metadata": {},
   "outputs": [],
   "source": [
    "from sklearn.metrics import roc_auc_score\n",
    "from sklearn.metrics import classification_report"
   ]
  },
  {
   "cell_type": "code",
   "execution_count": 18,
   "metadata": {},
   "outputs": [],
   "source": [
    "def aucModel(name,survived_test,model,patients_test):\n",
    "    logit_roc_auc = roc_auc_score(survived_test,model.predict(patients_test))\n",
    "    print(name+\" AUC = %2.2f2f\"% logit_roc_auc,end=\" \")\n",
    "    return logit_roc_auc"
   ]
  },
  {
   "cell_type": "code",
   "execution_count": 20,
   "metadata": {},
   "outputs": [
    {
     "name": "stdout",
     "output_type": "stream",
     "text": [
      "Best C is [ 10.] with an average of 0.504286546874\n",
      "Best C is [ 8.2] with an average of 0.514017779497\n",
      "Best C is [ 7.39] with an average of 0.514017779497\n",
      "Best C is [ 7.228] with an average of 0.514017779497\n",
      "Best C is [ 7.1956] with an average of 0.514017779497\n",
      "Score logit 0.544378698225\n",
      "Score last 0.556213017751\n",
      "Score best 0.550295857988\n",
      "acurracy is 0.56\n",
      "NMF 1 AUC = 0.502f Best C is [ 1.] with an average of 0.51442207998\n",
      "Best C is [ 0.55] with an average of 0.56365927443\n",
      "Best C is [ 0.41806] with an average of 0.564867153843\n",
      "Best C is [ 0.31357] with an average of 0.569507471637\n",
      "Best C is [ 0.2968516] with an average of 0.577739951985\n",
      "Score logit 0.538461538462\n",
      "Score last 0.538461538462\n",
      "Score best 0.538461538462\n",
      "acurracy is 0.54\n",
      "NMF 2 AUC = 0.502f Best C is [ 1.] with an average of 0.514373075153\n",
      "Best C is [ 0.55] with an average of 0.528899988783\n",
      "Best C is [ 0.41806] with an average of 0.565842697492\n",
      "Best C is [ 0.397162] with an average of 0.565611619902\n",
      "Best C is [ 0.3929824] with an average of 0.56547378583\n",
      "Score logit 0.538461538462\n",
      "Score last 0.550295857988\n",
      "Score best 0.550295857988\n",
      "acurracy is 0.55\n",
      "NMF 3 AUC = 0.502f Best C is [ 1.] with an average of 0.505587648481\n",
      "Best C is [ 2.53] with an average of 0.555758706887\n",
      "Best C is [ 2.431] with an average of 0.555574533612\n",
      "Best C is [ 2.4112] with an average of 0.555389795225\n",
      "Best C is [ 2.40724] with an average of 0.555435260103\n",
      "Score logit 0.544378698225\n",
      "Score last 0.491124260355\n",
      "Score best 0.491124260355\n",
      "acurracy is 0.54\n",
      "NMF 4 AUC = 0.502f Best C is [ 1.] with an average of 0.501225333917\n",
      "Best C is [ 2.53] with an average of 0.563893060294\n",
      "Best C is [ 2.431] with an average of 0.563620782823\n",
      "Best C is [ 2.4112] with an average of 0.563716340103\n",
      "Best C is [ 2.40724] with an average of 0.563668561463\n",
      "Score logit 0.544378698225\n",
      "Score last 0.508875739645\n",
      "Score best 0.508875739645\n",
      "acurracy is 0.54\n",
      "NMF 5 AUC = 0.502f Best C is [ 1.] with an average of 0.53001078618\n",
      "Best C is [ 2.53] with an average of 0.565264001242\n",
      "Best C is [ 2.431] with an average of 0.565593514985\n",
      "Best C is [ 2.4112] with an average of 0.565590070999\n",
      "Best C is [ 2.40724] with an average of 0.565636975315\n",
      "Score logit 0.550295857988\n",
      "Score last 0.497041420118\n",
      "Score best 0.497041420118\n",
      "acurracy is 0.55\n",
      "NMF 6 AUC = 0.512f Best C is [ 1.] with an average of 0.535632831869\n",
      "Best C is [ 2.53] with an average of 0.569532901687\n",
      "Best C is [ 2.431] with an average of 0.569065297972\n",
      "Best C is [ 2.4112] with an average of 0.569251785008\n",
      "Best C is [ 2.40724] with an average of 0.569298689323\n",
      "Score logit 0.556213017751\n",
      "Score last 0.544378698225\n",
      "Score best 0.544378698225\n",
      "acurracy is 0.56\n",
      "NMF 7 AUC = 0.522f Best C is [ 1.] with an average of 0.520969555591\n",
      "Best C is [ 2.53] with an average of 0.556289496547\n",
      "Best C is [ 2.431] with an average of 0.556615512992\n",
      "Best C is [ 2.4112] with an average of 0.556664421856\n",
      "Best C is [ 2.40724] with an average of 0.556709886734\n",
      "Score logit 0.544378698225\n",
      "Score last 0.502958579882\n",
      "Score best 0.502958579882\n",
      "acurracy is 0.54\n",
      "NMF 8 AUC = 0.502f Best C is [ 1.] with an average of 0.534933457502\n",
      "Best C is [ 2.53] with an average of 0.558388515299\n",
      "Best C is [ 2.431] with an average of 0.558673694388\n",
      "Best C is [ 2.4112] with an average of 0.558717154717\n",
      "Best C is [ 2.40724] with an average of 0.558764059033\n",
      "Score logit 0.550295857988\n",
      "Score last 0.520710059172\n",
      "Score best 0.520710059172\n",
      "acurracy is 0.55\n",
      "NMF 9 AUC = 0.512f bestScore 7 accurracy is 0.56\n",
      "             precision    recall  f1-score   support\n",
      "\n",
      "          0       0.60      0.08      0.14        77\n",
      "          1       0.55      0.96      0.70        92\n",
      "\n",
      "avg / total       0.57      0.56      0.44       169\n",
      "\n"
     ]
    }
   ],
   "source": [
    "accuracyScore,bestScore,nmf_roc_auc = 0,0,0\n",
    "for x in range(7, 100):\n",
    "    modelnmfNew,pat_testnmfNew = generateNMF(patients_train,survived_train,patients_test,survived_test,n_components=x)\n",
    "    newAccuracy = accuracy_score(survived_test,modelnmfNew.predict(pat_testnmfNew))\n",
    "    newroc_auc = aucModel(\"NMF \"+str(x),survived_test,modelnmfNew,pat_testnmfNew)\n",
    "    if newroc_auc>nmf_roc_auc:\n",
    "        modelnmf,pat_testnmf=modelnmfNew,pat_testnmfNew\n",
    "        accuracyScore,bestScore,nmf_roc_auc=newAccuracy,x,newroc_auc\n",
    "print(\"bestScore \"+str(bestScore)+\" accurracy is %2.2f\"% accuracyScore)\n",
    "print(classification_report(survived_test,modelnmf.predict(pat_testnmf)))"
   ]
  },
  {
   "cell_type": "code",
   "execution_count": 21,
   "metadata": {},
   "outputs": [
    {
     "name": "stdout",
     "output_type": "stream",
     "text": [
      "Base Rate AUC = 0.502f\n",
      "             precision    recall  f1-score   support\n",
      "\n",
      "          0       0.00      0.00      0.00        77\n",
      "          1       0.54      1.00      0.70        92\n",
      "\n",
      "avg / total       0.30      0.54      0.38       169\n",
      "\n"
     ]
    },
    {
     "name": "stderr",
     "output_type": "stream",
     "text": [
      "/usr/local/lib/python3.4/dist-packages/sklearn/metrics/classification.py:1135: UndefinedMetricWarning: Precision and F-score are ill-defined and being set to 0.0 in labels with no predicted samples.\n",
      "  'precision', 'predicted', average, warn_for)\n"
     ]
    },
    {
     "name": "stdout",
     "output_type": "stream",
     "text": [
      "Logistic AUC = 0.532f NMF 5 AUC = 0.502f NMF 32 AUC = 0.602f NMF 51 AUC = 0.582f NMF 75 AUC = 0.572f "
     ]
    }
   ],
   "source": [
    "base_roc_auc = roc_auc_score(survived_test,base_rate_model(patients_test))\n",
    "print(\"Base Rate AUC = %2.2f2f\"% base_roc_auc)\n",
    "print(classification_report(survived_test,base_rate_model(patients_test)))\n",
    "logit_roc_auc = aucModel(\"Logistic\",survived_test,model,patients_test)\n",
    "nmf7_roc_auc = aucModel(\"NMF 7\",survived_test,modelnmf7,pat_testnmf7)\n",
    "nmf32_roc_auc = aucModel(\"NMF 32\",survived_test,modelnmf32,pat_testnmf32)\n",
    "nmf51_roc_auc = aucModel(\"NMF 51\",survived_test,modelnmf51,pat_testnmf51)\n",
    "nmf75_roc_auc = aucModel(\"NMF 75\",survived_test,modelnmf75,pat_testnmf75)\n"
   ]
  },
  {
   "cell_type": "code",
   "execution_count": 22,
   "metadata": {},
   "outputs": [],
   "source": [
    "from sklearn.metrics import roc_curve\n",
    "import matplotlib.pyplot as plt"
   ]
  },
  {
   "cell_type": "code",
   "execution_count": 23,
   "metadata": {},
   "outputs": [],
   "source": [
    "def roc_curveplot(name,survived_test,model,patients_test,logit_roc_auc):\n",
    "    fpr, tpr, thresholds = roc_curve(survived_test,model.predict_proba(patients_test)[:,1])\n",
    "    plt.plot(fpr,tpr,label='ROC '+name+' curve (AUC =%0.2f)' % logit_roc_auc)"
   ]
  },
  {
   "cell_type": "code",
   "execution_count": 24,
   "metadata": {},
   "outputs": [
    {
     "data": {
      "image/png": "[encoded data removed]",
      "text/plain": [
       "<matplotlib.figure.Figure at 0x7f068a3549b0>"
      ]
     },
     "metadata": {},
     "output_type": "display_data"
    }
   ],
   "source": [
    "plt.figure()\n",
    "roc_curveplot('Logistic',survived_test,model,patients_test,logit_roc_auc)\n",
    "roc_curveplot('NMF 7',survived_test,modelnmf7,pat_testnmf7,nmf7_roc_auc)\n",
    "roc_curveplot('NMF 32',survived_test,modelnmf32,pat_testnmf32,nmf32_roc_auc)\n",
    "roc_curveplot('NMF 51',survived_test,modelnmf51,pat_testnmf51,nmf51_roc_auc)\n",
    "roc_curveplot('NMF '+str(bestScore),survived_test,modelnmf,pat_testnmf,nmf_roc_auc)\n",
    "plt.plot([0,1],[0,1],'k--')\n",
    "plt.xlim([0.0, 1.0])\n",
    "plt.ylim([0.0, 1.05])\n",
    "plt.xlabel('False Positive Rate')\n",
    "plt.ylabel('True Positive Rate')\n",
    "plt.legend(loc=\"lower right\")\n",
    "plt.show()"
   ]
  },
  {
   "cell_type": "code",
   "execution_count": null,
   "metadata": {},
   "outputs": [],
   "source": []
  }
 ],
 "metadata": {
  "kernelspec": {
   "display_name": "Python 3",
   "language": "python",
   "name": "python3"
  },
  "language_info": {
   "codemirror_mode": {
    "name": "ipython",
    "version": 3
   },
   "file_extension": ".py",
   "mimetype": "text/x-python",
   "name": "python",
   "nbconvert_exporter": "python",
   "pygments_lexer": "ipython3",
   "version": "3.4.3"
  }
 },
 "nbformat": 4,
 "nbformat_minor": 2
}
