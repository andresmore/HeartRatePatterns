{
 "cells": [
  {
   "cell_type": "markdown",
   "metadata": {},
   "source": [
    "# QRS detection with MatLab script of Hooman Sedghamiz"
   ]
  },
  {
   "cell_type": "code",
   "execution_count": 1,
   "metadata": {},
   "outputs": [],
   "source": [
    "import wfdb\n",
    "import numpy as np\n",
    "import matplotlib.pyplot as plt\n",
    "import sys"
   ]
  },
  {
   "cell_type": "markdown",
   "metadata": {},
   "source": [
    "Downloading an ECG from mimic III"
   ]
  },
  {
   "cell_type": "code",
   "execution_count": 2,
   "metadata": {},
   "outputs": [],
   "source": [
    "folder = \"p05/p050140\"\n",
    "waveform = \"p050140-2188-07-26-05-51\"\n",
    "sig, fields = wfdb.srdsamp(waveform,pbdir='mimic3wdb/matched/'+folder)"
   ]
  },
  {
   "cell_type": "code",
   "execution_count": 3,
   "metadata": {},
   "outputs": [
    {
     "name": "stdout",
     "output_type": "stream",
     "text": [
      "signame: ['aVR', 'II', 'I', 'III', 'ABP', 'CVP', 'PLETH']\n",
      "units: ['mV', 'mV', 'mV', 'mV', 'mmHg', 'mmHg', 'NU']\n",
      "fs: 125\n",
      "comments: ['Location: micu']\n",
      "fields: {'units': ['mV', 'mV', 'mV', 'mV', 'mmHg', 'mmHg', 'NU'], 'fs': 125, 'comments': ['Location: micu'], 'signame': ['aVR', 'II', 'I', 'III', 'ABP', 'CVP', 'PLETH']}\n"
     ]
    }
   ],
   "source": [
    "print(\"signame: \" + str(fields['signame']))\n",
    "print(\"units: \" + str(fields['units']))\n",
    "print(\"fs: \" + str(fields['fs']))\n",
    "print(\"comments: \" + str(fields['comments']))\n",
    "print(\"fields: \" + str(fields))"
   ]
  },
  {
   "cell_type": "markdown",
   "metadata": {},
   "source": [
    "Lets check if the signal contains the signal II"
   ]
  },
  {
   "cell_type": "code",
   "execution_count": 4,
   "metadata": {},
   "outputs": [
    {
     "name": "stdout",
     "output_type": "stream",
     "text": [
      "List contain value  1\n"
     ]
    }
   ],
   "source": [
    "signalII = None\n",
    "try:\n",
    "    signalII = fields['signame'].index(\"II\")\n",
    "except ValueError:\n",
    "    print(\"List does not contain value\")\n",
    "if(signalII!=None):\n",
    "    print(\"List contain value \",signalII)"
   ]
  },
  {
   "cell_type": "markdown",
   "metadata": {},
   "source": [
    "Obtain only the signal II from the ECG"
   ]
  },
  {
   "cell_type": "code",
   "execution_count": 5,
   "metadata": {},
   "outputs": [],
   "source": [
    "array = sig[:, signalII]\n",
    "array = np.nan_to_num(array)"
   ]
  },
  {
   "cell_type": "markdown",
   "metadata": {},
   "source": [
    "Save the Frame Secuence"
   ]
  },
  {
   "cell_type": "code",
   "execution_count": 6,
   "metadata": {},
   "outputs": [
    {
     "data": {
      "text/plain": [
       "125"
      ]
     },
     "execution_count": 6,
     "metadata": {},
     "output_type": "execute_result"
    }
   ],
   "source": [
    "fs = fields['fs']\n",
    "fs"
   ]
  },
  {
   "cell_type": "markdown",
   "metadata": {},
   "source": [
    "SubArray 400000"
   ]
  },
  {
   "cell_type": "code",
   "execution_count": 18,
   "metadata": {},
   "outputs": [
    {
     "data": {
      "text/plain": [
       "100000"
      ]
     },
     "execution_count": 18,
     "metadata": {},
     "output_type": "execute_result"
    }
   ],
   "source": [
    "window = 100000\n",
    "sampfrom = 0\n",
    "sampto = window\n",
    "subArray = array[sampfrom:sampto]\n",
    "print(len(subArray))\n",
    "print(subArray)"
   ]
  },
  {
   "cell_type": "code",
   "execution_count": 8,
   "metadata": {},
   "outputs": [],
   "source": [
    "from oct2py import octave\n",
    "octave.addpath('/home/scidb/HeartRatePatterns/Matlab/')\n",
    "octave.eval('pkg load signal')"
   ]
  },
  {
   "cell_type": "code",
   "execution_count": 9,
   "metadata": {},
   "outputs": [],
   "source": [
    "%load_ext oct2py.ipython"
   ]
  },
  {
   "cell_type": "code",
   "execution_count": 10,
   "metadata": {
    "scrolled": true
   },
   "outputs": [
    {
     "data": {
      "text/plain": [
       "warning: peakdetect: some elements in list of return values are undefined"
      ]
     },
     "metadata": {},
     "output_type": "display_data"
    }
   ],
   "source": [
    "%%octave -i subArray,fs -o R_i,R_amp,S_i,S_amp,T_i,T_amp,Q_i,Q_amp,heart_rate,buffer_plot\n",
    "[R_i,R_amp,S_i,S_amp,T_i,T_amp,Q_i,Q_amp,heart_rate,buffer_plot] = peakdetect(subArray,fs,false); "
   ]
  },
  {
   "cell_type": "code",
   "execution_count": 17,
   "metadata": {},
   "outputs": [],
   "source": [
    "Ri = R_i\n",
    "Ramp = R_amp\n",
    "Si = S_i\n",
    "Samp = S_amp\n",
    "Ti = T_i\n",
    "Tamp = T_amp\n",
    "Qi = Q_i\n",
    "Qamp = Q_amp"
   ]
  },
  {
   "cell_type": "code",
   "execution_count": 22,
   "metadata": {},
   "outputs": [],
   "source": [
    "sampfrom += window+1\n",
    "sampto += window\n",
    "subArray = array[sampfrom:sampto]"
   ]
  },
  {
   "cell_type": "code",
   "execution_count": 23,
   "metadata": {},
   "outputs": [
    {
     "data": {
      "text/plain": [
       "warning: peakdetect: some elements in list of return values are undefined"
      ]
     },
     "metadata": {},
     "output_type": "display_data"
    }
   ],
   "source": [
    "%%octave -i subArray,fs -o R_i,R_amp,S_i,S_amp,T_i,T_amp,Q_i,Q_amp,heart_rate,buffer_plot\n",
    "[R_i,R_amp,S_i,S_amp,T_i,T_amp,Q_i,Q_amp,heart_rate,buffer_plot] = peakdetect(subArray,fs,false); "
   ]
  },
  {
   "cell_type": "code",
   "execution_count": 25,
   "metadata": {},
   "outputs": [
    {
     "name": "stdout",
     "output_type": "stream",
     "text": [
      "R_i [[   22  2961 10563 15655 15735 16110 21135 34302 37092 37313 37880 38017\n",
      "  38090 39373 40303 40654 40857 40945 42342 43042 43322 45015 45505 46281\n",
      "  48167 50066 50914 52336 53262 54343 55192 55688 56040 57303 58232 58586\n",
      "  58842 58933 59119 59273 59414 59536 59628 59767 59972 60174 60456 60669\n",
      "  61355 61907 62118 62396 64795 69237 71666 71763 71836 71905 71973 72041\n",
      "  82700 84844 85325 92894 95156 97806 98368 98724]]\n",
      "Ri [[ 3350  3609  3727  3833  4044  4255  4532  4947  5148  5576  5787  5929\n",
      "   6139  6345  6560  6757  7329  7816  8452  8589  9079  9285  9640 10057\n",
      "  10541 10749 10959 11171 11386 11599 11811 12088 12295 12910 13059 13271\n",
      "  13486 13762 14075 14256 14401 14612 14817 15088 15177 15384 15524 16296\n",
      "  16504 16713 17199 17480 17619 17921 18174 18374 18923 20983 21550 21900\n",
      "  22800 23157 23362 24343 24837 25042 25247 25452 25655 25861 26063 26261\n",
      "  26402 26674 27006 27152 27356 27701 28253 28526 28787 29464 29808 29992\n",
      "  30189 30594 30793 31699 31895 32222 33145 34074 35028 35133 35239 35387\n",
      "  35461 35842 36889 37108 37925 38252 38652 39115 39444 39903 40035 40154\n",
      "  40370 40566 40718 40820 40892 40967 41297 41395 41586 42267 42399 42583\n",
      "  42714 43275 43399 43522 43595 43663 43782 43969 44332 44421 44517 44610\n",
      "  44820 44944 45179 45261 45447 45572 45752 45876 46037 46168 46312 46405\n",
      "  46552 46923 47211 47418 47667 47793 47981 48102 48179 48606 48867 49311\n",
      "  49504 49817 51213 51468 51938 52193 54405 54721 55038 55199 55623 56284\n",
      "  56897 59177 59866 60182 60744 61058 62546 62710 64748 66783 67376 67567\n",
      "  68785 69348 70224 70494 70996 74494 75110 76526 82995 86841 89790 91361\n",
      "  91691 93719 93864 98698]]\n",
      "S_i [[  764  5562 13180 15662 16011 16359 30276 35948 37169 37452 37946 38028\n",
      "  38665 40014 40443 40731 40871 41716 42557 43187 43605 45366 45786 46634\n",
      "  48586 50496 51196 52693 53768 55051 55478 55901 56111 58084 58442 58653\n",
      "  58860 59000 59128 59341 59424 59543 59634 59832 60039 60236 60529 60736\n",
      "  61771 61977 62259 62817 66602 71083 71677 71774 71843 71911 71979 72866\n",
      "  82983 85190 90445 93320 95776 98232 98580]]\n",
      "R_i [[ 2925 10526 15644 15673 16043 21097 34264 37056 37272 37823 37980 38052\n",
      "  39338 40261 40617 40855 40879 42306 43008 43287 44974 45468 46211 48129\n",
      "  50031 50877 52298 53225 54305 55155 55651 56004 57266 58190 58545 58803\n",
      "  58868 59070 59241 59356 59584 59748 59907 60114 60402 60629 61291 61848\n",
      "  62083 62361 64794 69201 71690 71796 71867 71934 72002 82660 84808 85290\n",
      "  92857 95118 97769 98332 98683]]\n",
      "Q_i [[   17  2956 10558 15650 15733 16105 21130 34297 37087 37308 37875 38012\n",
      "  38085 39368 40301 40649 40857 40943 42337 43037 43317 45013 45500 46279\n",
      "  48162 50061 50909 52331 53257 54338 55187 55683 56035 57298 58230 58584\n",
      "  58837 58928 59114 59273 59409 59531 59625 59763 59970 60169 60451 60667\n",
      "  61350 61902 62113 62391 64795 69232 71661 71758 71836 71905 71973 72041\n",
      "  82695 84839 85320 92889 95154 97801 98363 98719]]\n",
      "[]\n",
      "[[ 0.32440945  0.32440945  0.32913386 ...,  0.45826772  0.47716535\n",
      "   0.49448819]]\n"
     ]
    }
   ],
   "source": [
    "print(\"R_i\",R_i)\n",
    "print(\"Ri\",Ri)\n",
    "print(\"S_i\",S_i)\n",
    "print(\"R_i\",T_i)\n",
    "print(\"Q_i\",Q_i)\n",
    "print(heart_rate)\n",
    "print(buffer_plot)"
   ]
  },
  {
   "cell_type": "code",
   "execution_count": 12,
   "metadata": {},
   "outputs": [
    {
     "name": "stdout",
     "output_type": "stream",
     "text": [
      "1145\n"
     ]
    }
   ],
   "source": [
    "To= 5\n",
    "subarray = buffer_plot[0][Q_i[0][0]:T_i[0][To]]\n",
    "print(len(subarray))\n",
    "subQ_i = Q_i[0][:To]\n",
    "subQ_amp = Q_amp[0][:To]\n",
    "subR_i = R_i[0][:To]\n",
    "subR_amp = R_amp[0][:To]\n",
    "subS_i = S_i[0][:To]\n",
    "subS_amp = S_amp[0][:To]\n",
    "subT_i = T_i[0][:To]\n",
    "subT_amp = T_amp[0][:To]"
   ]
  },
  {
   "cell_type": "code",
   "execution_count": 13,
   "metadata": {},
   "outputs": [],
   "source": [
    "fig_size = [12,9]\n",
    "plt.rcParams[\"figure.figsize\"] = fig_size"
   ]
  },
  {
   "cell_type": "code",
   "execution_count": 14,
   "metadata": {},
   "outputs": [
    {
     "data": {
      "image/png": "[encoded data removed]",
      "text/plain": [
       "<matplotlib.figure.Figure at 0x7fd43e1d8eb8>"
      ]
     },
     "metadata": {},
     "output_type": "display_data"
    }
   ],
   "source": [
    "plt.plot(np.arange(Q_i[0][0],T_i[0][To]),np.array(subarray),c='lightgreen')\n",
    "plt.scatter(subQ_i, subQ_amp,c='yellow')\n",
    "plt.scatter(subR_i, subR_amp,c='blue')\n",
    "plt.scatter(subS_i, subS_amp,c='red')\n",
    "plt.scatter(subT_i, subT_amp,c='black')\n",
    "plt.show()"
   ]
  },
  {
   "cell_type": "code",
   "execution_count": 29,
   "metadata": {},
   "outputs": [
    {
     "data": {
      "text/plain": [
       "array([ 747, 2606, 2622,   12,  278,  254, 9146, 1651,   82,  144,   71,\n",
       "         16,  580,  646,  142,   82,   14,  773,  220,  150,  288,  353,\n",
       "        286,  355,  424,  435,  287,  362,  511,  713,  291,  218,   76,\n",
       "        786,  212,   69,   23,   72,   14,   68,   15,   12,    9,   69,\n",
       "         69,   67,   78,   69,  421,   75,  146,  426, 1807, 1851,   16,\n",
       "         16,    7,    6,    6,  825,  288,  351, 5125,  431,  622])"
      ]
     },
     "execution_count": 29,
     "metadata": {},
     "output_type": "execute_result"
    }
   ],
   "source": [
    "size = 65\n",
    "sq = S_i[0][:size]-Q_i[0][:size]\n",
    "sq"
   ]
  },
  {
   "cell_type": "code",
   "execution_count": 30,
   "metadata": {},
   "outputs": [
    {
     "data": {
      "text/plain": [
       "array([ 2908,  7570,  5086,    23,   310,  4992, 13134,  2759,   185,\n",
       "         515,   105,    40,  1253,   893,   316,   206,    22,  1363,\n",
       "         671,   250,  1657,   455,   711,  1850,  1869,   816,  1389,\n",
       "         894,  1048,   817,   464,   321,  1231,   892,   315,   219,\n",
       "          31,   142,   127,    83,   175,   217,   282,   351,   432,\n",
       "         460,   840,  1181,   733,   459,  2681,  6810,  6895,  2564,\n",
       "         206,   176,   166, 10755, 12835, 13249, 10162, 10279, 12449,\n",
       "        5443,  3529])"
      ]
     },
     "execution_count": 30,
     "metadata": {},
     "output_type": "execute_result"
    }
   ],
   "source": [
    "tq = T_i[0][:size]-Q_i[0][:size]\n",
    "tq"
   ]
  },
  {
   "cell_type": "code",
   "execution_count": 31,
   "metadata": {},
   "outputs": [
    {
     "data": {
      "text/plain": [
       "array([ 2161,  4964,  2464,    11,    32,  4738,  3988,  1108,   103,\n",
       "         371,    34,    24,   673,   247,   174,   124,     8,   590,\n",
       "         451,   100,  1369,   102,   425,  1495,  1445,   381,  1102,\n",
       "         532,   537,   104,   173,   103,  1155,   106,   103,   150,\n",
       "           8,    70,   113,    15,   160,   205,   273,   282,   363,\n",
       "         393,   762,  1112,   312,   384,  2535,  6384,  5088,   713,\n",
       "         190,   160,   159, 10749, 12829, 12424,  9874,  9928,  7324,\n",
       "        5012,  2907])"
      ]
     },
     "execution_count": 31,
     "metadata": {},
     "output_type": "execute_result"
    }
   ],
   "source": [
    "ts = T_i[0][:size]-S_i[0][:size]\n",
    "ts"
   ]
  },
  {
   "cell_type": "code",
   "execution_count": 32,
   "metadata": {},
   "outputs": [],
   "source": [
    "heartRate = np.stack((sq, tq,ts), axis=-1)"
   ]
  },
  {
   "cell_type": "code",
   "execution_count": 33,
   "metadata": {},
   "outputs": [],
   "source": [
    "from sklearn.cluster import KMeans"
   ]
  },
  {
   "cell_type": "code",
   "execution_count": 34,
   "metadata": {},
   "outputs": [],
   "source": [
    "X = np.array(heartRate)\n",
    "est = KMeans(n_clusters=10).fit(X)"
   ]
  },
  {
   "cell_type": "code",
   "execution_count": 35,
   "metadata": {},
   "outputs": [
    {
     "name": "stdout",
     "output_type": "stream",
     "text": [
      "[9 2 8 0 0 7 3 9 0 0 0 0 4 0 0 0 0 4 0 0 4 0 0 4 4 0 4 0 4 0 0 0 4 0 0 0 0\n",
      " 0 0 0 0 0 0 0 0 0 4 4 0 0 9 7 2 9 0 0 0 1 5 5 1 1 6 7 9]\n",
      "[[   176.62162162    364.32432432    187.7027027 ]\n",
      " [   215.          10398.66666667  10183.66666667]\n",
      " [  2206.5          7232.5          5026.        ]\n",
      " [  9146.          13134.           3988.        ]\n",
      " [   344.1          1368.1          1024.        ]\n",
      " [   415.5         13042.          12626.5       ]\n",
      " [  5125.          12449.           7324.        ]\n",
      " [   370.33333333   5748.33333333   5378.        ]\n",
      " [  2622.           5086.           2464.        ]\n",
      " [  1003.4          2888.2          1884.8       ]]\n"
     ]
    }
   ],
   "source": [
    "print(est.labels_)\n",
    "print(est.cluster_centers_)"
   ]
  },
  {
   "cell_type": "code",
   "execution_count": 36,
   "metadata": {},
   "outputs": [],
   "source": [
    "import collections"
   ]
  },
  {
   "cell_type": "code",
   "execution_count": 42,
   "metadata": {},
   "outputs": [
    {
     "data": {
      "image/png": "[encoded data removed]",
      "text/plain": [
       "<matplotlib.figure.Figure at 0x7fd430d315f8>"
      ]
     },
     "metadata": {},
     "output_type": "display_data"
    }
   ],
   "source": [
    "labels, values = zip(*collections.Counter(est.labels_).items())\n",
    "#labels, values = zip(*collections.Counter(patient).most_common(14))\n",
    "indexes = np.arange(len(labels))\n",
    "width = 0.5\n",
    "fig_size = [12,9]\n",
    "fig, ax = plt.subplots() \n",
    "for i, v in enumerate(values):\n",
    "    ax.text(i-0.1,v+1, str(v), color='blue', fontweight='bold')\n",
    "    \n",
    "plt.rcParams[\"figure.figsize\"] = fig_size\n",
    "plt.bar(indexes, values, width)\n",
    "plt.xticks(indexes + width * 0.01, labels)\n",
    "plt.show()"
   ]
  },
  {
   "cell_type": "code",
   "execution_count": null,
   "metadata": {},
   "outputs": [],
   "source": [
    "sampfrom = max(max(R_i[0]),max(S_i[0]),max(T_i[0]),max(Q_i[0]))\n",
    "sampfrom"
   ]
  },
  {
   "cell_type": "code",
   "execution_count": null,
   "metadata": {},
   "outputs": [],
   "source": [
    "sampfrom = 400000\n",
    "sampto = 400000+sampfrom\n",
    "folder = \"p05/p050140\"\n",
    "waveform = \"p050140-2188-07-26-05-51\"\n",
    "sig, fields = wfdb.srdsamp(waveform,pbdir='mimic3wdb/matched/'+folder,\n",
    "                           sampfrom=sampfrom, sampto=sampto)"
   ]
  },
  {
   "cell_type": "code",
   "execution_count": null,
   "metadata": {},
   "outputs": [],
   "source": [
    "array = np.nan_to_num(sig[:, signalII])\n",
    "array = array\n",
    "array"
   ]
  },
  {
   "cell_type": "code",
   "execution_count": null,
   "metadata": {
    "scrolled": true
   },
   "outputs": [],
   "source": [
    "%%octave -i array -o R_i,R_amp,S_i,S_amp,T_i,T_amp,Q_i,Q_amp,heart_rate,buffer_plot\n",
    "[R_i,R_amp,S_i,S_amp,T_i,T_amp,Q_i,Q_amp,heart_rate,buffer_plot] = peakdetect(array,125,false); "
   ]
  },
  {
   "cell_type": "code",
   "execution_count": null,
   "metadata": {},
   "outputs": [],
   "source": [
    "print(fs)\n",
    "print(\"R_i\",R_i)\n",
    "print(\"S_i\",S_i)\n",
    "print(\"R_i\",T_i)\n",
    "print(\"Q_i\",Q_i)\n",
    "print(heart_rate)\n",
    "print(buffer_plot)"
   ]
  },
  {
   "cell_type": "code",
   "execution_count": null,
   "metadata": {},
   "outputs": [],
   "source": []
  }
 ],
 "metadata": {
  "kernelspec": {
   "display_name": "Python 3",
   "language": "python",
   "name": "python3"
  },
  "language_info": {
   "codemirror_mode": {
    "name": "ipython",
    "version": 3
   },
   "file_extension": ".py",
   "mimetype": "text/x-python",
   "name": "python",
   "nbconvert_exporter": "python",
   "pygments_lexer": "ipython3",
   "version": "3.4.3"
  }
 },
 "nbformat": 4,
 "nbformat_minor": 2
}
