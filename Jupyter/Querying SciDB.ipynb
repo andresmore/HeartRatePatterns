{
 "cells": [
  {
   "cell_type": "markdown",
   "metadata": {},
   "source": [
    "# Querying SciDB"
   ]
  },
  {
   "cell_type": "markdown",
   "metadata": {},
   "source": [
    "Import library and connect"
   ]
  },
  {
   "cell_type": "code",
   "execution_count": 1,
   "metadata": {
    "collapsed": true
   },
   "outputs": [],
   "source": [
    "from scidbpy import connect\n",
    "sdb = connect('http://localhost:8080')"
   ]
  },
  {
   "cell_type": "markdown",
   "metadata": {},
   "source": [
    "Check how many arrays are in SciDB"
   ]
  },
  {
   "cell_type": "code",
   "execution_count": 2,
   "metadata": {},
   "outputs": [
    {
     "data": {
      "text/plain": [
       "679"
      ]
     },
     "execution_count": 2,
     "metadata": {},
     "output_type": "execute_result"
    }
   ],
   "source": [
    "lenght = len(dir(sdb.arrays))\n",
    "lenght"
   ]
  },
  {
   "cell_type": "markdown",
   "metadata": {},
   "source": [
    "Get a random arrayName"
   ]
  },
  {
   "cell_type": "code",
   "execution_count": 3,
   "metadata": {},
   "outputs": [
    {
     "data": {
      "text/plain": [
       "'s01604_2883_06_07_14_17'"
      ]
     },
     "execution_count": 3,
     "metadata": {},
     "output_type": "execute_result"
    }
   ],
   "source": [
    "from random import randint\n",
    "arrayName = dir(sdb.arrays)[randint(0, lenght)]\n",
    "arrayName"
   ]
  },
  {
   "cell_type": "markdown",
   "metadata": {},
   "source": [
    "get the array from SciDB"
   ]
  },
  {
   "cell_type": "code",
   "execution_count": 4,
   "metadata": {},
   "outputs": [],
   "source": [
    "myArray = sdb.iquery('scan('+arrayName+')', fetch=True, as_dataframe=True)"
   ]
  },
  {
   "cell_type": "markdown",
   "metadata": {},
   "source": [
    "Plot the x value of the array"
   ]
  },
  {
   "cell_type": "code",
   "execution_count": 5,
   "metadata": {},
   "outputs": [
    {
     "data": {
      "image/png": "[encoded data removed]",
      "text/plain": [
       "<matplotlib.figure.Figure at 0x7fdf8b2a3b00>"
      ]
     },
     "metadata": {},
     "output_type": "display_data"
    }
   ],
   "source": [
    "import matplotlib.pyplot as plt\n",
    "simpleArray = myArray[\"x\"];\n",
    "simpleArray.plot()\n",
    "plt.show()"
   ]
  },
  {
   "cell_type": "markdown",
   "metadata": {},
   "source": [
    "List the array"
   ]
  },
  {
   "cell_type": "code",
   "execution_count": 6,
   "metadata": {},
   "outputs": [
    {
     "data": {
      "text/plain": [
       "0        -0.000797\n",
       "1        -0.000455\n",
       "2        -0.000228\n",
       "3        -0.000114\n",
       "4        -0.000228\n",
       "5         0.000000\n",
       "6        -0.000114\n",
       "7         0.000000\n",
       "8        -0.000114\n",
       "9         0.000000\n",
       "10        0.000000\n",
       "11        0.000000\n",
       "12        0.000000\n",
       "13        0.000000\n",
       "14        0.000000\n",
       "15        0.000114\n",
       "16        0.000000\n",
       "17        0.000000\n",
       "18        0.000114\n",
       "19        0.000228\n",
       "20        0.000228\n",
       "21        0.000455\n",
       "22        0.000455\n",
       "23        0.000455\n",
       "24        0.000455\n",
       "25        0.000455\n",
       "26        0.000683\n",
       "27        0.000569\n",
       "28        0.000683\n",
       "29        0.000455\n",
       "            ...   \n",
       "982009    0.000522\n",
       "982010    0.000190\n",
       "982011    0.000569\n",
       "982012    0.000237\n",
       "982013    0.000664\n",
       "982014    0.000285\n",
       "982015    0.000569\n",
       "982016    0.000237\n",
       "982017    0.000522\n",
       "982018    0.000190\n",
       "982019    0.000474\n",
       "982020    0.000142\n",
       "982021    0.000474\n",
       "982022    0.000142\n",
       "982023    0.000095\n",
       "982024    0.000380\n",
       "982025    0.000000\n",
       "982026    0.000332\n",
       "982027    0.000000\n",
       "982028    0.000237\n",
       "982029    0.000047\n",
       "982030    0.000380\n",
       "982031    0.000047\n",
       "982032    0.000380\n",
       "982033    0.000095\n",
       "982034    0.000380\n",
       "982035    0.000000\n",
       "982036    0.000332\n",
       "982037    0.000000\n",
       "982038    0.000237\n",
       "Name: x, Length: 982039, dtype: float64"
      ]
     },
     "execution_count": 6,
     "metadata": {},
     "output_type": "execute_result"
    }
   ],
   "source": [
    "simpleArray"
   ]
  },
  {
   "cell_type": "code",
   "execution_count": null,
   "metadata": {
    "collapsed": true
   },
   "outputs": [],
   "source": []
  }
 ],
 "metadata": {
  "kernelspec": {
   "display_name": "Python 3",
   "language": "python",
   "name": "python3"
  },
  "language_info": {
   "codemirror_mode": {
    "name": "ipython",
    "version": 3
   },
   "file_extension": ".py",
   "mimetype": "text/x-python",
   "name": "python",
   "nbconvert_exporter": "python",
   "pygments_lexer": "ipython3",
   "version": "3.4.3"
  }
 },
 "nbformat": 4,
 "nbformat_minor": 2
}
