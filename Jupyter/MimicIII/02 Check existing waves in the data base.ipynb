{
 "cells": [
  {
   "cell_type": "markdown",
   "metadata": {},
   "source": [
    "# 02 Check existing waves in the data base"
   ]
  },
  {
   "cell_type": "markdown",
   "metadata": {},
   "source": [
    "1) Import de las librerias que utilizaremos"
   ]
  },
  {
   "cell_type": "code",
   "execution_count": 1,
   "metadata": {},
   "outputs": [],
   "source": [
    "import psycopg2\n",
    "import numpy as np\n",
    "import collections\n",
    "import matplotlib.pyplot as plt"
   ]
  },
  {
   "cell_type": "markdown",
   "metadata": {},
   "source": [
    "2) Conexion a la base de datos"
   ]
  },
  {
   "cell_type": "code",
   "execution_count": 2,
   "metadata": {},
   "outputs": [],
   "source": [
    "conn = psycopg2.connect(\"dbname=mimic\")\n",
    "cur = conn.cursor()"
   ]
  },
  {
   "cell_type": "markdown",
   "metadata": {},
   "source": [
    "3) Con cuantos archivos de ondas contamos"
   ]
  },
  {
   "cell_type": "code",
   "execution_count": 3,
   "metadata": {},
   "outputs": [
    {
     "name": "stdout",
     "output_type": "stream",
     "text": [
      "Tenemos 22311 ondas de 10099 pacientes\n"
     ]
    }
   ],
   "source": [
    "select_stament = 'select count(1) from waveformFields'\n",
    "cur.execute(select_stament)\n",
    "ondas = cur.fetchone()\n",
    "select_stament = 'select count(distinct subject_id) from waveformFields'\n",
    "cur.execute(select_stament)\n",
    "pacientes = cur.fetchone()\n",
    "print('Tenemos',ondas[0],'ondas de',pacientes[0],'pacientes')"
   ]
  },
  {
   "cell_type": "markdown",
   "metadata": {},
   "source": [
    "4) De la ultima onda tomada del paciente, tomamos las señales"
   ]
  },
  {
   "cell_type": "code",
   "execution_count": 4,
   "metadata": {},
   "outputs": [],
   "source": [
    "select_stament = 'SELECT lef.signame FROM waveformFields lef LEFT JOIN (SELECT MAX(recorddate) AS recorddate,subject_id FROM waveformFields GROUP BY subject_id) rig ON lef.subject_id = rig.subject_id AND lef.recorddate = rig.recorddate WHERE rig.subject_id IS NOT NULL ORDER BY lef.subject_id'\n",
    "cur.execute(select_stament)"
   ]
  },
  {
   "cell_type": "code",
   "execution_count": 5,
   "metadata": {},
   "outputs": [],
   "source": [
    "patient = []\n",
    "for row in cur:\n",
    "    patient += row[0]\n",
    "#    np.concatenate((patient, np.array(row)))"
   ]
  },
  {
   "cell_type": "markdown",
   "metadata": {},
   "source": [
    "Posibles Ondas que existen"
   ]
  },
  {
   "cell_type": "code",
   "execution_count": 6,
   "metadata": {},
   "outputs": [
    {
     "name": "stdout",
     "output_type": "stream",
     "text": [
      "('[0]', 'aVF', 'P4', 'II', 'AVL', 'MCL1', 'BAP', '!', 'V1', 'RESP', '[0]++', 'PLETHr', 'UVP', 'LAP', 'I+', 'P1', 'PLETH L', 'aVR', '[0]++++', 'I', 'MCL1+', '[5125]', 'ART', '[0]+++', 'CO2', 'PLETHl', 'AVR', 'ICP', 'III+', 'AVF', 'PAP', 'ECG', 'PLETH R', 'PLETH', 'AOBP', 'Ao', 'II+', 'IC1', '[0]+', 'V+', 'III', 'V', 'CVP', 'MCL', 'ABP', 'IC2', 'RAP', 'UAP', 'Resp', 'FAP', '???', 'aVL')\n"
     ]
    }
   ],
   "source": [
    "labels, values = zip(*collections.Counter(patient).items())\n",
    "print(labels)"
   ]
  },
  {
   "cell_type": "markdown",
   "metadata": {},
   "source": [
    "Muestrame el top 15 de las Ondas mas comunes"
   ]
  },
  {
   "cell_type": "code",
   "execution_count": 7,
   "metadata": {},
   "outputs": [
    {
     "data": {
      "image/png": "[encoded data removed]",
      "text/plain": [
       "<matplotlib.figure.Figure at 0x7f6ed0353f60>"
      ]
     },
     "metadata": {},
     "output_type": "display_data"
    }
   ],
   "source": [
    "labels, values = zip(*collections.Counter(patient).most_common(14))\n",
    "indexes = np.arange(len(labels))\n",
    "width = 0.5\n",
    "fig_size = [12,9]\n",
    "plt.rcParams[\"figure.figsize\"] = fig_size\n",
    "\n",
    "fig, ax = plt.subplots() \n",
    "for i, v in enumerate(values):\n",
    "    ax.text(i-0.3,v+12, str(v), color='blue', fontweight='bold')\n",
    "    \n",
    "plt.bar(indexes, values, width)\n",
    "plt.xticks(indexes + width * 0.01, labels)\n",
    "plt.show()"
   ]
  },
  {
   "cell_type": "code",
   "execution_count": 8,
   "metadata": {},
   "outputs": [
    {
     "name": "stdout",
     "output_type": "stream",
     "text": [
      "Se hara el analisis sobre las ondas de tipo II porque son de las que mas tenemos 9919  muestras\n"
     ]
    }
   ],
   "source": [
    "select_stament = \"SELECT count(distinct lef.subject_id) FROM waveformfields lef  LEFT JOIN (SELECT MAX(recorddate) AS recorddate,subject_id FROM waveformFields GROUP BY subject_id) rig ON lef.subject_id = rig.subject_id AND lef.recorddate = rig.recorddate WHERE rig.subject_id IS NOT NULL AND signame @> ARRAY['\"+labels[0]+\"']::varchar[]\"\n",
    "cur.execute(select_stament)\n",
    "result = cur.fetchone()\n",
    "print('Se hara el analisis sobre las ondas de tipo',labels[0],'porque son de las que mas tenemos',result[0],' muestras')"
   ]
  },
  {
   "cell_type": "code",
   "execution_count": 9,
   "metadata": {},
   "outputs": [],
   "source": [
    "conn.close()"
   ]
  }
 ],
 "metadata": {
  "kernelspec": {
   "display_name": "Python 3",
   "language": "python",
   "name": "python3"
  },
  "language_info": {
   "codemirror_mode": {
    "name": "ipython",
    "version": 3
   },
   "file_extension": ".py",
   "mimetype": "text/x-python",
   "name": "python",
   "nbconvert_exporter": "python",
   "pygments_lexer": "ipython3",
   "version": "3.4.3"
  }
 },
 "nbformat": 4,
 "nbformat_minor": 2
}
