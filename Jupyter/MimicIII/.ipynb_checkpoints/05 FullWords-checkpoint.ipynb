{
 "cells": [
  {
   "cell_type": "markdown",
   "metadata": {},
   "source": [
    "After creating the Alphabet, we are create the full words that represents the ECG"
   ]
  },
  {
   "cell_type": "code",
   "execution_count": 1,
   "metadata": {},
   "outputs": [],
   "source": [
    "import psycopg2\n",
    "from psycopg2.extensions import register_adapter, AsIs\n",
    "from collections import Counter\n",
    "import pandas as pd\n",
    "import numpy as np\n",
    "from time import time\n",
    "from sklearn.decomposition import NMF, LatentDirichletAllocation\n",
    "from sklearn.linear_model import LogisticRegression\n",
    "np.set_printoptions(suppress=True,precision=10)"
   ]
  },
  {
   "cell_type": "code",
   "execution_count": 2,
   "metadata": {},
   "outputs": [],
   "source": [
    "def obtainSubjects(dbname=\"mimic\") :\n",
    "    conn = psycopg2.connect(\"dbname=\"+dbname)\n",
    "    cur = conn.cursor()\n",
    "    select_stament = (\"SELECT DISTINCT subject_id \"\n",
    "                      \" FROM waveformqrst WHERE centroid IS NOT NULL\" # limit 150\"\n",
    "    )\n",
    "    cur.execute(select_stament)\n",
    "    subject = []\n",
    "    for row in cur :\n",
    "        subject.append(row[0])\n",
    "    conn.close()\n",
    "    return subject"
   ]
  },
  {
   "cell_type": "code",
   "execution_count": 3,
   "metadata": {},
   "outputs": [],
   "source": [
    "def obtainWord(subject,dbname=\"mimic\") :\n",
    "    conn = psycopg2.connect(\"dbname=\"+dbname)\n",
    "    cur = conn.cursor()\n",
    "    select_stament = (\"SELECT centroid \"\n",
    "                      \" FROM waveformqrst WHERE subject_id=\"+str(subject)+\" ORDER BY qrtsorder\"\n",
    "    )\n",
    "    cur.execute(select_stament)\n",
    "    centroids = \"\"\n",
    "    for row in cur :\n",
    "        centroid = row[0]\n",
    "        if centroid is not None :\n",
    "            centroids= centroids+centroid\n",
    "    conn.close()\n",
    "    return centroids"
   ]
  },
  {
   "cell_type": "code",
   "execution_count": 4,
   "metadata": {},
   "outputs": [],
   "source": [
    "def deleteWord(dbname=\"mimic\") :\n",
    "    conn = psycopg2.connect(\"dbname=\"+dbname)\n",
    "    cur = conn.cursor()\n",
    "    select_stament = \"DELETE FROM subjectwords\"\n",
    "    cur.execute(select_stament)\n",
    "    conn.commit()\n",
    "    cur.close()\n",
    "    conn.close()"
   ]
  },
  {
   "cell_type": "code",
   "execution_count": 5,
   "metadata": {},
   "outputs": [],
   "source": [
    "def instertWord(words,dbname=\"mimic\") :\n",
    "    conn = psycopg2.connect(\"dbname=\"+dbname)\n",
    "    cur = conn.cursor()\n",
    "    insert_statement = 'INSERT into subjectwords (%s) values %s'\n",
    "    columns = words.keys()\n",
    "    values = [words[column] for column in columns]\n",
    "#    print(cur.mogrify(insert_statement, (AsIs(','.join(columns)), tuple(values))))\n",
    "    cur.execute(insert_statement, (AsIs(','.join(columns)), tuple(values)))\n",
    "    conn.commit()\n",
    "    cur.close()\n",
    "    conn.close()"
   ]
  },
  {
   "cell_type": "code",
   "execution_count": 6,
   "metadata": {},
   "outputs": [],
   "source": [
    "def selectWord(dbname=\"mimic\") :\n",
    "    conn = psycopg2.connect(\"dbname=\"+dbname)\n",
    "    cur = conn.cursor()\n",
    "    select_stament = (\"SELECT subject_id,word \"\n",
    "                      \" FROM subjectwords WHERE length(word)>1000\"\n",
    "    )\n",
    "    cur.execute(select_stament)\n",
    "    select = []\n",
    "    for row in cur :\n",
    "        select.append([row[0],row[1]])\n",
    "    conn.close()\n",
    "    return select"
   ]
  },
  {
   "cell_type": "code",
   "execution_count": 7,
   "metadata": {},
   "outputs": [
    {
     "name": "stdout",
     "output_type": "stream",
     "text": [
      "351\n",
      "17462:16639,2831:3623,1990:7153,83:8985,12638:9070,1429:6901,11223:7009,20094:7442,17529:7492,134:12217,13364:571,8195:9732,14274:7612,13719:6673,3173:10487,2295:6889,5426:8814,12602:2990,16649:8698,18211:5933,14819:8533,8251:10656,13785:10738,482:7521,8815:10510,10302:3612,4699:8573,9361:2442,21441:8347,12006:1908,11411:11931,6602:7452,2386:3554,19583:4059,1230:7360,19392:4317,17462:6981,14628:20,18626:2148,13639:4068,18467:10595,18459:8198,7207:10209,15536:3745,3939:7522,19556:9425,17057:5336,6502:16172,49:8996,10885:3622,662:7981,6874:9335,18942:8415,23:90495,1050:1802,6:7517,16296:2185,9637:10534,60:2228,15759:10766,11356:8009,4369:8936,10755:8087,3:16909,47:12251,11622:12215,8856:9871,14725:10096,9265:8670,20418:7651,19588:9354,6178:9672,4495:6708,16253:9705,13058:10186,7259:5766,9133:7084,8302:7528,15301:7172,18272:135,4149:16709,7284:9630,1518:7799,5762:4865,13940:7685,14465:7289,18252:7860,10228:16360,20258:9366,13843:4180,9656:8336,833:11951,2506:3863,15075:4656,9632:10013,11113:9398,20579:974,18481:1222,22309:8451,13172:7786,20627:1004,4802:8734,17957:2492,2165:8084,8809:8870,15506:16607,15763:8524,20889:16490,12628:9005,9354:7048,14825:6607,18510:3798,2916:33,14115:1075,11154:7782,17762:5607,13215:4587,5363:16192,10176:9434,18381:4688,14667:16122,3556:1744,2054:9958,10162:7644,517:28065,14075:7371,2189:7448,4171:9949,90:7567,10471:3372,13055:7542,9325:408,20587:2049,12924:7225,10154:2917,10659:8569,3451:8121,2702:9363,9826:1569,11117:16280,12444:10077,12242:8654,15495:8207,"
     ]
    },
    {
     "ename": "KeyboardInterrupt",
     "evalue": "",
     "output_type": "error",
     "traceback": [
      "\u001b[0;31m---------------------------------------------------------------------------\u001b[0m",
      "\u001b[0;31mKeyboardInterrupt\u001b[0m                         Traceback (most recent call last)",
      "\u001b[0;32m<ipython-input-7-58db24183628>\u001b[0m in \u001b[0;36m<module>\u001b[0;34m()\u001b[0m\n\u001b[1;32m      3\u001b[0m \u001b[0mprint\u001b[0m\u001b[0;34m(\u001b[0m\u001b[0mlen\u001b[0m\u001b[0;34m(\u001b[0m\u001b[0msubjects\u001b[0m\u001b[0;34m)\u001b[0m\u001b[0;34m)\u001b[0m\u001b[0;34m\u001b[0m\u001b[0m\n\u001b[1;32m      4\u001b[0m \u001b[0;32mfor\u001b[0m \u001b[0msubject\u001b[0m \u001b[0;32min\u001b[0m \u001b[0msubjects\u001b[0m \u001b[0;34m:\u001b[0m\u001b[0;34m\u001b[0m\u001b[0m\n\u001b[0;32m----> 5\u001b[0;31m     \u001b[0mword\u001b[0m \u001b[0;34m=\u001b[0m \u001b[0mobtainWord\u001b[0m\u001b[0;34m(\u001b[0m\u001b[0msubject\u001b[0m\u001b[0;34m)\u001b[0m\u001b[0;34m\u001b[0m\u001b[0m\n\u001b[0m\u001b[1;32m      6\u001b[0m     \u001b[0;32mif\u001b[0m \u001b[0mword\u001b[0m \u001b[0;32mis\u001b[0m \u001b[0;32mnot\u001b[0m \u001b[0;32mNone\u001b[0m\u001b[0;34m:\u001b[0m\u001b[0;34m\u001b[0m\u001b[0m\n\u001b[1;32m      7\u001b[0m         \u001b[0mwords\u001b[0m \u001b[0;34m=\u001b[0m \u001b[0;34m{\u001b[0m\u001b[0;34m'subject_id'\u001b[0m\u001b[0;34m:\u001b[0m\u001b[0msubject\u001b[0m\u001b[0;34m,\u001b[0m\u001b[0;34m'word'\u001b[0m\u001b[0;34m:\u001b[0m\u001b[0mword\u001b[0m\u001b[0;34m}\u001b[0m\u001b[0;34m\u001b[0m\u001b[0m\n",
      "\u001b[0;32m<ipython-input-3-cbef857e1121>\u001b[0m in \u001b[0;36mobtainWord\u001b[0;34m(subject, dbname)\u001b[0m\n\u001b[1;32m      5\u001b[0m                       \u001b[0;34m\" FROM waveformqrst WHERE subject_id=\"\u001b[0m\u001b[0;34m+\u001b[0m\u001b[0mstr\u001b[0m\u001b[0;34m(\u001b[0m\u001b[0msubject\u001b[0m\u001b[0;34m)\u001b[0m\u001b[0;34m+\u001b[0m\u001b[0;34m\" ORDER BY qrtsorder\"\u001b[0m\u001b[0;34m\u001b[0m\u001b[0m\n\u001b[1;32m      6\u001b[0m     )\n\u001b[0;32m----> 7\u001b[0;31m     \u001b[0mcur\u001b[0m\u001b[0;34m.\u001b[0m\u001b[0mexecute\u001b[0m\u001b[0;34m(\u001b[0m\u001b[0mselect_stament\u001b[0m\u001b[0;34m)\u001b[0m\u001b[0;34m\u001b[0m\u001b[0m\n\u001b[0m\u001b[1;32m      8\u001b[0m     \u001b[0mcentroids\u001b[0m \u001b[0;34m=\u001b[0m \u001b[0;34m\"\"\u001b[0m\u001b[0;34m\u001b[0m\u001b[0m\n\u001b[1;32m      9\u001b[0m     \u001b[0;32mfor\u001b[0m \u001b[0mrow\u001b[0m \u001b[0;32min\u001b[0m \u001b[0mcur\u001b[0m \u001b[0;34m:\u001b[0m\u001b[0;34m\u001b[0m\u001b[0m\n",
      "\u001b[0;32m/usr/lib/python3.4/encodings/utf_8.py\u001b[0m in \u001b[0;36mdecode\u001b[0;34m(input, errors)\u001b[0m\n\u001b[1;32m     13\u001b[0m \u001b[0mencode\u001b[0m \u001b[0;34m=\u001b[0m \u001b[0mcodecs\u001b[0m\u001b[0;34m.\u001b[0m\u001b[0mutf_8_encode\u001b[0m\u001b[0;34m\u001b[0m\u001b[0m\n\u001b[1;32m     14\u001b[0m \u001b[0;34m\u001b[0m\u001b[0m\n\u001b[0;32m---> 15\u001b[0;31m \u001b[0;32mdef\u001b[0m \u001b[0mdecode\u001b[0m\u001b[0;34m(\u001b[0m\u001b[0minput\u001b[0m\u001b[0;34m,\u001b[0m \u001b[0merrors\u001b[0m\u001b[0;34m=\u001b[0m\u001b[0;34m'strict'\u001b[0m\u001b[0;34m)\u001b[0m\u001b[0;34m:\u001b[0m\u001b[0;34m\u001b[0m\u001b[0m\n\u001b[0m\u001b[1;32m     16\u001b[0m     \u001b[0;32mreturn\u001b[0m \u001b[0mcodecs\u001b[0m\u001b[0;34m.\u001b[0m\u001b[0mutf_8_decode\u001b[0m\u001b[0;34m(\u001b[0m\u001b[0minput\u001b[0m\u001b[0;34m,\u001b[0m \u001b[0merrors\u001b[0m\u001b[0;34m,\u001b[0m \u001b[0;32mTrue\u001b[0m\u001b[0;34m)\u001b[0m\u001b[0;34m\u001b[0m\u001b[0m\n\u001b[1;32m     17\u001b[0m \u001b[0;34m\u001b[0m\u001b[0m\n",
      "\u001b[0;31mKeyboardInterrupt\u001b[0m: "
     ]
    }
   ],
   "source": [
    "deleteWord()\n",
    "subjects = obtainSubjects() \n",
    "print(len(subjects))\n",
    "for subject in subjects :\n",
    "    word = obtainWord(subject)\n",
    "    if word is not None:\n",
    "        words = {'subject_id':subject,'word':word}\n",
    "        print(len(word),end=\":\")\n",
    "        instertWord(words)\n",
    "        print(words['subject_id'],end=\",\")"
   ]
  },
  {
   "cell_type": "code",
   "execution_count": null,
   "metadata": {},
   "outputs": [],
   "source": [
    "def get_all_substrings(input_string,length=5):\n",
    "    substrings = []\n",
    "    for j in range(len(input_string)) :\n",
    "        for i in range(length) :\n",
    "            substrings.append(input_string[j:j+i+1])\n",
    "    return Counter(substrings)"
   ]
  },
  {
   "cell_type": "code",
   "execution_count": null,
   "metadata": {},
   "outputs": [],
   "source": [
    "def existMatrix(word,subject,dbname=\"mimic\") :\n",
    "    conn = psycopg2.connect(\"dbname=\"+dbname)\n",
    "    cur = conn.cursor()\n",
    "    select_stament = (\"SELECT 1 \"\n",
    "                      \" FROM matrix WHERE subject_id='\"+str(subject)+\"' AND word='\"+str(word)+\"'\"\n",
    "    )\n",
    "    cur.execute(select_stament)\n",
    "    exist = False\n",
    "    for row in cur :\n",
    "        exist = True\n",
    "    cur.close()\n",
    "    conn.close()\n",
    "    return exist"
   ]
  },
  {
   "cell_type": "code",
   "execution_count": null,
   "metadata": {},
   "outputs": [],
   "source": [
    "def saveMatrix(matrix,dbname=\"mimic\") :\n",
    "    conn = psycopg2.connect(\"dbname=\"+dbname)\n",
    "    cur = conn.cursor()\n",
    "    insert_statement=('INSERT INTO matrix(word,subject_id,counting)'\n",
    "                      ' SELECT unnest( %(word)s ) ,'\n",
    "                      ' unnest( %(subject_id)s) ,'\n",
    "                      ' unnest( %(counting)s)')\n",
    "    word=[r['word'] for r in matrix]\n",
    "    subject_id=[r['subject_id'] for r in matrix]\n",
    "    counting=[r['counting'] for r in matrix]\n",
    "#    print(cur.mogrify(insert_statement,locals()))\n",
    "    cur.execute(insert_statement,locals())\n",
    "    conn.commit()\n",
    "    cur.close()\n",
    "    conn.close()"
   ]
  },
  {
   "cell_type": "code",
   "execution_count": null,
   "metadata": {},
   "outputs": [],
   "source": [
    "def cleanMatrix(dbname=\"mimic\") :\n",
    "    conn = psycopg2.connect(\"dbname=\"+dbname)\n",
    "    cur = conn.cursor()\n",
    "    select_stament = (\"DELETE \"\n",
    "                      \" FROM matrix\"\n",
    "    )\n",
    "    cur.execute(select_stament)\n",
    "    conn.commit()\n",
    "    cur.close()\n",
    "    conn.close()"
   ]
  },
  {
   "cell_type": "code",
   "execution_count": null,
   "metadata": {},
   "outputs": [],
   "source": [
    "words = selectWord()\n",
    "cleanMatrix()\n",
    "i=0\n",
    "for word in words :\n",
    "    subject = word[0]\n",
    "    subs =get_all_substrings(word[1],length=10)\n",
    "    matrix = []\n",
    "    for key in subs:\n",
    "        matrix.append({'word':key,'counting':subs[key],'subject_id':subject})\n",
    "#        if not existMatrix(key,subject) :\n",
    "    if matrix != [] :\n",
    "        print(i,end=\",\")\n",
    "        i=i+1\n",
    "        saveMatrix(matrix)\n",
    "#    print(subs.keys())"
   ]
  },
  {
   "cell_type": "code",
   "execution_count": null,
   "metadata": {},
   "outputs": [],
   "source": [
    "def selectMatrix(dbname=\"mimic\") :\n",
    "    conn = psycopg2.connect(\"dbname=\"+dbname)\n",
    "    cur = conn.cursor()\n",
    "    select_stament = (\"SELECT subject_id,word,counting \"\n",
    "                      \" FROM matrix ORDER BY subject_id\"\n",
    "    )\n",
    "    cur.execute(select_stament)\n",
    "    select = []\n",
    "    for row in cur :\n",
    "        select.append((row))\n",
    "    cur.close()\n",
    "    conn.close()\n",
    "    return select"
   ]
  },
  {
   "cell_type": "code",
   "execution_count": null,
   "metadata": {},
   "outputs": [],
   "source": [
    "labels = ['subject_id', 'Word', 'Counting']\n",
    "df = pd.DataFrame.from_records(selectMatrix(), columns=labels)\n",
    "table = pd.pivot_table(df,index=[\"subject_id\"],columns=[\"Word\"],values=[\"Counting\"],\n",
    "                       aggfunc={\"Counting\":[np.sum]},fill_value=0)\n",
    "print(table)"
   ]
  },
  {
   "cell_type": "code",
   "execution_count": null,
   "metadata": {},
   "outputs": [],
   "source": [
    "# Fit the NMF model\n",
    "t0 = time()\n",
    "nmf = NMF(n_components=30, random_state=1,alpha=.1, l1_ratio=.5)\n",
    "W = nmf.fit_transform(table)\n",
    "H = nmf.components_\n",
    "print(W)\n",
    "print(\"done in %0.3fs.\" % (time() - t0))"
   ]
  },
  {
   "cell_type": "code",
   "execution_count": null,
   "metadata": {},
   "outputs": [],
   "source": [
    "print(np.shape(W))\n",
    "print(np.shape(H))"
   ]
  },
  {
   "cell_type": "code",
   "execution_count": null,
   "metadata": {},
   "outputs": [],
   "source": [
    "def patientIsAlive(patient,dbname=\"mimic\") :\n",
    "    conn = psycopg2.connect(\"dbname=\"+dbname)\n",
    "    cur = conn.cursor()\n",
    "    select_stament = (\"SELECT dod \"\n",
    "                      \" FROM patients WHERE subject_id = \"+str(patient)\n",
    "    )\n",
    "    cur.execute(select_stament)\n",
    "    select = []\n",
    "    for row in cur :\n",
    "        select.append(1 if row[0] is not None else 0 )\n",
    "    cur.close()\n",
    "    conn.close()\n",
    "    return select"
   ]
  },
  {
   "cell_type": "code",
   "execution_count": null,
   "metadata": {},
   "outputs": [],
   "source": [
    "patients = []\n",
    "for patient in table.index :\n",
    "    patients.append(patientIsAlive(patient)[0])\n",
    "print(len(patients))"
   ]
  },
  {
   "cell_type": "code",
   "execution_count": null,
   "metadata": {},
   "outputs": [],
   "source": [
    "# flatten y into a 1-D array\n",
    "y = np.ravel(patients)\n",
    "modelo_lr = LogisticRegression()\n",
    "modelo_lr.fit(y=y,X=W)"
   ]
  },
  {
   "cell_type": "code",
   "execution_count": null,
   "metadata": {
    "scrolled": true
   },
   "outputs": [],
   "source": [
    "modelo_lr.score(W, y)"
   ]
  },
  {
   "cell_type": "code",
   "execution_count": null,
   "metadata": {},
   "outputs": [],
   "source": [
    "y.mean()"
   ]
  },
  {
   "cell_type": "code",
   "execution_count": null,
   "metadata": {},
   "outputs": [],
   "source": [
    "predicion = modelo_lr.predict(W[:1])\n",
    "print(W[:1])\n",
    "print(predicion,y[:1])"
   ]
  },
  {
   "cell_type": "code",
   "execution_count": null,
   "metadata": {},
   "outputs": [],
   "source": [
    "modelo_lr"
   ]
  },
  {
   "cell_type": "code",
   "execution_count": null,
   "metadata": {},
   "outputs": [],
   "source": []
  }
 ],
 "metadata": {
  "kernelspec": {
   "display_name": "Python 3",
   "language": "python",
   "name": "python3"
  },
  "language_info": {
   "codemirror_mode": {
    "name": "ipython",
    "version": 3
   },
   "file_extension": ".py",
   "mimetype": "text/x-python",
   "name": "python",
   "nbconvert_exporter": "python",
   "pygments_lexer": "ipython3",
   "version": "3.4.3"
  }
 },
 "nbformat": 4,
 "nbformat_minor": 2
}
