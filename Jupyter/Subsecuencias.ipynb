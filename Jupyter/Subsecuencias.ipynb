{
 "cells": [
  {
   "cell_type": "code",
   "execution_count": 3,
   "metadata": {},
   "outputs": [],
   "source": [
    "import matplotlib.pyplot as plt\n",
    "import numpy as np\n",
    "#import xxhash\n",
    "L = np.array([1,2,3,4,5,6,7,8,9,0,1,2])"
   ]
  },
  {
   "cell_type": "markdown",
   "metadata": {},
   "source": [
    "https://github.com/bartdag/pymining"
   ]
  },
  {
   "cell_type": "code",
   "execution_count": 13,
   "metadata": {
    "scrolled": true
   },
   "outputs": [],
   "source": [
    "def getAllWindows(L,L2=None,lenght=3):\n",
    "    if L2 is None:\n",
    "        L2 = L[:-1]\n",
    "    if L.size<lenght:\n",
    "        if L2.size<lenght:\n",
    "            return []\n",
    "        return getAllWindows(L2,L2[:-1],lenght)\n",
    "    if L.size>lenght:\n",
    "      return getAllWindows(L[1:],L2,lenght)\n",
    "    return [L]+getAllWindows(L[1:],L2,lenght)"
   ]
  },
  {
   "cell_type": "code",
   "execution_count": 14,
   "metadata": {},
   "outputs": [
    {
     "data": {
      "text/plain": [
       "[array([0, 1, 2]),\n",
       " array([9, 0, 1]),\n",
       " array([8, 9, 0]),\n",
       " array([7, 8, 9]),\n",
       " array([6, 7, 8]),\n",
       " array([5, 6, 7]),\n",
       " array([4, 5, 6]),\n",
       " array([3, 4, 5]),\n",
       " array([2, 3, 4]),\n",
       " array([1, 2, 3])]"
      ]
     },
     "execution_count": 14,
     "metadata": {},
     "output_type": "execute_result"
    }
   ],
   "source": [
    "windows = getAllWindows(L,lenght=3)\n",
    "windows"
   ]
  },
  {
   "cell_type": "code",
   "execution_count": null,
   "metadata": {
    "collapsed": true
   },
   "outputs": [],
   "source": []
  }
 ],
 "metadata": {
  "kernelspec": {
   "display_name": "Python 3",
   "language": "python",
   "name": "python3"
  },
  "language_info": {
   "codemirror_mode": {
    "name": "ipython",
    "version": 3
   },
   "file_extension": ".py",
   "mimetype": "text/x-python",
   "name": "python",
   "nbconvert_exporter": "python",
   "pygments_lexer": "ipython3",
   "version": "3.4.3"
  }
 },
 "nbformat": 4,
 "nbformat_minor": 2
}
