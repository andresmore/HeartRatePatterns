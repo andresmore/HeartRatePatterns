{
 "cells": [
  {
   "cell_type": "code",
   "execution_count": null,
   "metadata": {},
   "outputs": [],
   "source": []
  },
  {
   "cell_type": "code",
   "execution_count": 1,
   "metadata": {},
   "outputs": [],
   "source": [
    "from time import time\n",
    "import psycopg2\n",
    "from collections import Counter\n",
    "import gc\n",
    "import pandas as pd\n",
    "import numpy as np\n",
    "from sklearn.decomposition import NMF, LatentDirichletAllocation\n",
    "from sklearn.model_selection import train_test_split\n",
    "from sklearn.linear_model import LogisticRegression\n",
    "from sklearn.metrics import accuracy_score\n",
    "np.set_printoptions(suppress=True,precision=10)"
   ]
  },
  {
   "cell_type": "code",
   "execution_count": 2,
   "metadata": {},
   "outputs": [],
   "source": [
    "def cleanMatrix(dbname=\"mimic\") :\n",
    "    conn = psycopg2.connect(\"dbname=\"+dbname)\n",
    "    cur = conn.cursor()\n",
    "    select_stament = (\"DELETE \"\n",
    "                      \" FROM matrix\"\n",
    "    )\n",
    "    cur.execute(select_stament)\n",
    "    conn.commit()\n",
    "    cur.close()\n",
    "    conn.close()"
   ]
  },
  {
   "cell_type": "code",
   "execution_count": 3,
   "metadata": {},
   "outputs": [],
   "source": [
    "def selectWord(dbname=\"mimic\") :\n",
    "    conn = psycopg2.connect(\"dbname=\"+dbname)\n",
    "    cur = conn.cursor()\n",
    "    select_stament = '''SELECT subject_id,word,isalive \n",
    "    FROM subjectwords \n",
    "    WHERE length(word)>1000 \n",
    "    ''' #    ORDER BY isalive DESC \n",
    "        # LIMIT 400\n",
    "    cur.execute(select_stament)\n",
    "    select = []\n",
    "    for row in cur :\n",
    "        select.append({'subject_id':row[0],'word':row[1],'isalive':row[2]})\n",
    "    conn.close()\n",
    "    return select"
   ]
  },
  {
   "cell_type": "code",
   "execution_count": 4,
   "metadata": {},
   "outputs": [],
   "source": [
    "def get_all_substrings(input_string,length=5):\n",
    "    substrings = []\n",
    "    for j in range(len(input_string)) :\n",
    "        for i in range(length) :\n",
    "            substrings.append(input_string[j:j+i+1])\n",
    "    return Counter(substrings)"
   ]
  },
  {
   "cell_type": "code",
   "execution_count": 5,
   "metadata": {},
   "outputs": [],
   "source": [
    "def saveMatrix(matrix,dbname=\"mimic\") :\n",
    "    conn = psycopg2.connect(\"dbname=\"+dbname)\n",
    "    cur = conn.cursor()\n",
    "    insert_statement=('INSERT INTO matrix(word,subject_id,counting)'\n",
    "                      ' SELECT unnest( %(word)s ) ,'\n",
    "                      ' unnest( %(subject_id)s) ,'\n",
    "                      ' unnest( %(counting)s)')\n",
    "    word=[r['word'] for r in matrix]\n",
    "    subject_id=[r['subject_id'] for r in matrix]\n",
    "    counting=[r['counting'] for r in matrix]\n",
    "#    print(cur.mogrify(insert_statement,locals()))\n",
    "    cur.execute(insert_statement,locals())\n",
    "    conn.commit()\n",
    "    cur.close()\n",
    "    conn.close()"
   ]
  },
  {
   "cell_type": "code",
   "execution_count": 6,
   "metadata": {},
   "outputs": [],
   "source": [
    "def fillMatrix(length):\n",
    "    cleanMatrix()\n",
    "    i=0\n",
    "    matrix = []\n",
    "    for word in selectWord() :\n",
    "        subject = word['subject_id']\n",
    "        subs =get_all_substrings(word['word'],length=length)\n",
    "        for key in subs:\n",
    "            matrix.append({'word':key,'counting':subs[key],'subject_id':subject})\n",
    "    saveMatrix(matrix)\n",
    "    print(\"The matrix was filled with \"+str(len(matrix))+\" values.\")"
   ]
  },
  {
   "cell_type": "code",
   "execution_count": 7,
   "metadata": {},
   "outputs": [],
   "source": [
    "def fixMatrix(dbname=\"mimic\") :\n",
    "    conn = psycopg2.connect(\"dbname=\"+dbname)\n",
    "    cur = conn.cursor()\n",
    "    select_stament = (\"DELETE \"\n",
    "                      \" FROM matrix\"\n",
    "                      \" WHERE word in (SELECT word FROM matrix GROUP BY word HAVING sum(counting)<5)\"\n",
    "    )\n",
    "    cur.execute(select_stament)\n",
    "    select_stament = '''DELETE \n",
    "    FROM matrix \n",
    "    WHERE word IN (SELECT word FROM matrix group by word HAVING count(1)>=(\n",
    "    SELECT count(distinct subject_id) FROM matrix))\n",
    "    '''\n",
    "    cur.execute(select_stament)\n",
    "    conn.commit()\n",
    "    cur.close()\n",
    "    conn.close()"
   ]
  },
  {
   "cell_type": "code",
   "execution_count": 8,
   "metadata": {},
   "outputs": [],
   "source": [
    "def selectMatrix(dbname=\"mimic\") :\n",
    "    conn = psycopg2.connect(\"dbname=\"+dbname)\n",
    "    cur = conn.cursor()\n",
    "    select_stament = (\"SELECT m.subject_id,m.word,m.counting,s.isalive \"\n",
    "                      \" FROM matrix m LEFT JOIN subjectwords s ON m.subject_id=s.subject_id\"\n",
    "    )\n",
    "    cur.execute(select_stament)\n",
    "    select = []\n",
    "    for row in cur :\n",
    "        select.append((row))\n",
    "    cur.close()\n",
    "    conn.close()\n",
    "    return select"
   ]
  },
  {
   "cell_type": "code",
   "execution_count": 9,
   "metadata": {},
   "outputs": [],
   "source": [
    "def convertMatrix() :\n",
    "    labels = ['subject_id', 'Word', 'Counting','isAlive']\n",
    "    df = pd.DataFrame.from_records(selectMatrix(), columns=labels)\n",
    "    print(len(df))\n",
    "    return pd.pivot_table(df,index=[\"subject_id\",\"isAlive\"],columns=[\"Word\"],values=[\"Counting\"],\n",
    "                       aggfunc={\"Counting\":[np.sum]},fill_value=0)"
   ]
  },
  {
   "cell_type": "code",
   "execution_count": 10,
   "metadata": {},
   "outputs": [
    {
     "name": "stdout",
     "output_type": "stream",
     "text": [
      "The matrix was filled with 1151126 values.\n",
      "fillMatrix done in 65.148s.\n"
     ]
    }
   ],
   "source": [
    "t0 = time()\n",
    "fillMatrix(length=8)\n",
    "print(\"fillMatrix done in %0.3fs.\" % (time() - t0))"
   ]
  },
  {
   "cell_type": "code",
   "execution_count": 11,
   "metadata": {},
   "outputs": [
    {
     "name": "stdout",
     "output_type": "stream",
     "text": [
      "fixMatrix done in 30.468s.\n",
      "1003792\n",
      "converMatrix done in 15.922s.\n",
      "(584, 29643)\n"
     ]
    },
    {
     "data": {
      "text/plain": [
       "14"
      ]
     },
     "execution_count": 11,
     "metadata": {},
     "output_type": "execute_result"
    }
   ],
   "source": [
    "gc.collect()\n",
    "t0 = time()\n",
    "fixMatrix()\n",
    "print(\"fixMatrix done in %0.3fs.\" % (time() - t0))\n",
    "gc.collect()\n",
    "t0 = time()\n",
    "table = convertMatrix()\n",
    "print(\"converMatrix done in %0.3fs.\" % (time() - t0))\n",
    "print(table.shape)\n",
    "gc.collect()"
   ]
  },
  {
   "cell_type": "code",
   "execution_count": 12,
   "metadata": {},
   "outputs": [],
   "source": [
    "survived = table.index.labels[1].tolist()\n",
    "patients = table.values"
   ]
  },
  {
   "cell_type": "code",
   "execution_count": 13,
   "metadata": {},
   "outputs": [],
   "source": [
    "patients_train, patients_test,survived_train, survived_test = train_test_split(patients,survived,test_size=0.2, random_state=42)"
   ]
  },
  {
   "cell_type": "code",
   "execution_count": 14,
   "metadata": {},
   "outputs": [
    {
     "name": "stdout",
     "output_type": "stream",
     "text": [
      "(584, 29643)\n",
      "(467, 29643)\n",
      "(117, 29643)\n"
     ]
    }
   ],
   "source": [
    "print(table.shape)\n",
    "print(patients_train.shape)\n",
    "print(patients_test.shape)"
   ]
  },
  {
   "cell_type": "markdown",
   "metadata": {},
   "source": [
    "### Base Model All Will Die"
   ]
  },
  {
   "cell_type": "code",
   "execution_count": 15,
   "metadata": {},
   "outputs": [],
   "source": [
    "def base_rate_model(X) :\n",
    "    y = np.zeros(X.shape[0])\n",
    "    return y"
   ]
  },
  {
   "cell_type": "code",
   "execution_count": 16,
   "metadata": {},
   "outputs": [
    {
     "name": "stdout",
     "output_type": "stream",
     "text": [
      "Base rate acurracy is 0.38\n"
     ]
    }
   ],
   "source": [
    "y_base_rate = base_rate_model(patients_test)\n",
    "print(\"Base rate acurracy is %2.2f\" % accuracy_score(survived_test,base_rate_model(patients_test)))"
   ]
  },
  {
   "cell_type": "markdown",
   "metadata": {},
   "source": [
    "### Direct Regresion Logistic"
   ]
  },
  {
   "cell_type": "code",
   "execution_count": 17,
   "metadata": {},
   "outputs": [
    {
     "data": {
      "text/plain": [
       "LogisticRegression(C=2, class_weight='balanced', dual=False,\n",
       "          fit_intercept=True, intercept_scaling=1, max_iter=100,\n",
       "          multi_class='ovr', n_jobs=1, penalty='l2', random_state=None,\n",
       "          solver='liblinear', tol=0.0001, verbose=0, warm_start=False)"
      ]
     },
     "execution_count": 17,
     "metadata": {},
     "output_type": "execute_result"
    }
   ],
   "source": [
    "model = LogisticRegression(penalty='l2',C=2,class_weight=\"balanced\")\n",
    "model.fit(patients_train,survived_train)"
   ]
  },
  {
   "cell_type": "code",
   "execution_count": 18,
   "metadata": {},
   "outputs": [
    {
     "name": "stdout",
     "output_type": "stream",
     "text": [
      "Logistic Regression acurracy is 0.61\n"
     ]
    }
   ],
   "source": [
    "print(\"Logistic Regression acurracy is %2.2f\" % accuracy_score(survived_test,model.predict(patients_test)))"
   ]
  },
  {
   "cell_type": "markdown",
   "metadata": {},
   "source": [
    "### NMF + Logistic Regression accurancy"
   ]
  },
  {
   "cell_type": "code",
   "execution_count": 19,
   "metadata": {},
   "outputs": [],
   "source": [
    "def generateNMF(patients_train,survived_train,patients_test,n_components=30) :\n",
    "    nmf = NMF(n_components=n_components, random_state=1,alpha=.1, l1_ratio=.5)\n",
    "    W = nmf.fit_transform(patients_train)\n",
    "    H = nmf.components_\n",
    "    modelnmf = LogisticRegression(penalty='l2',C=2,class_weight=\"balanced\")\n",
    "    modelnmf.fit(W,survived_train)\n",
    "#    if(patients_test.shape[0]<=n_components) :\n",
    "    patients_testnmf = nmf.transform(patients_test)\n",
    "#    else :\n",
    "#        patients_testnmf = nmf.fit_transform(patients_test)\n",
    "    return modelnmf,patients_testnmf"
   ]
  },
  {
   "cell_type": "code",
   "execution_count": 21,
   "metadata": {},
   "outputs": [
    {
     "name": "stdout",
     "output_type": "stream",
     "text": [
      "Non Negative Matrix Logistic acurracy is 0.56\n"
     ]
    }
   ],
   "source": [
    "modelnmf60,pat_testnmf60 = generateNMF(patients_train,survived_train,patients_test,n_components=60)\n",
    "print(\"Non Negative Matrix Logistic acurracy is %2.2f\" % accuracy_score(survived_test,modelnmf60.predict(pat_testnmf60)))"
   ]
  },
  {
   "cell_type": "code",
   "execution_count": 22,
   "metadata": {},
   "outputs": [
    {
     "name": "stdout",
     "output_type": "stream",
     "text": [
      "Non Negative Matrix Logistic acurracy is 0.52\n"
     ]
    }
   ],
   "source": [
    "modelnmf90,pat_testnmf90 = generateNMF(patients_train,survived_train,patients_test,n_components=90)\n",
    "print(\"Non Negative Matrix Logistic acurracy is %2.2f\" % accuracy_score(survived_test,modelnmf90.predict(pat_testnmf90)))"
   ]
  },
  {
   "cell_type": "code",
   "execution_count": 23,
   "metadata": {},
   "outputs": [
    {
     "name": "stdout",
     "output_type": "stream",
     "text": [
      "Non Negative Matrix Logistic acurracy is 0.55\n"
     ]
    }
   ],
   "source": [
    "modelnmf105,pat_testnmf105 = generateNMF(patients_train,survived_train,patients_test,n_components=105)\n",
    "print(\"Non Negative Matrix Logistic acurracy is %2.2f\" % accuracy_score(survived_test,modelnmf105.predict(pat_testnmf105)))"
   ]
  },
  {
   "cell_type": "code",
   "execution_count": 24,
   "metadata": {},
   "outputs": [
    {
     "name": "stdout",
     "output_type": "stream",
     "text": [
      "Non Negative Matrix Logistic acurracy is 0.53\n"
     ]
    }
   ],
   "source": [
    "modelnmf120,pat_testnmf120 = generateNMF(patients_train,survived_train,patients_test,n_components=120)\n",
    "print(\"Non Negative Matrix Logistic acurracy is %2.2f\" % accuracy_score(survived_test,modelnmf120.predict(pat_testnmf120)))"
   ]
  },
  {
   "cell_type": "code",
   "execution_count": 25,
   "metadata": {},
   "outputs": [
    {
     "name": "stdout",
     "output_type": "stream",
     "text": [
      "Non Negative Matrix Logistic acurracy is 0.55\n"
     ]
    }
   ],
   "source": [
    "modelnmf75,pat_testnmf75 = generateNMF(patients_train,survived_train,patients_test,n_components=75)\n",
    "print(\"Non Negative Matrix Logistic acurracy is %2.2f\" % accuracy_score(survived_test,modelnmf75.predict(pat_testnmf75)))"
   ]
  },
  {
   "cell_type": "markdown",
   "metadata": {},
   "source": [
    "### AUC"
   ]
  },
  {
   "cell_type": "code",
   "execution_count": 26,
   "metadata": {},
   "outputs": [],
   "source": [
    "from sklearn.metrics import roc_auc_score\n",
    "from sklearn.metrics import classification_report"
   ]
  },
  {
   "cell_type": "code",
   "execution_count": 54,
   "metadata": {},
   "outputs": [],
   "source": [
    "def aucModel(name,survived_test,model,patients_test):\n",
    "    logit_roc_auc = roc_auc_score(survived_test,model.predict(patients_test))\n",
    "    print(name+\" AUC = %2.2f2f\"% logit_roc_auc,end=\" \")\n",
    "    return logit_roc_auc"
   ]
  },
  {
   "cell_type": "code",
   "execution_count": null,
   "metadata": {},
   "outputs": [
    {
     "name": "stdout",
     "output_type": "stream",
     "text": [
      "NMF 1 AUC = 0.472f  acurracy is 0.48\n",
      "NMF 2 AUC = 0.472f  acurracy is 0.47\n",
      "NMF 3 AUC = 0.402f  acurracy is 0.36\n",
      "NMF 4 AUC = 0.542f  acurracy is 0.52\n",
      "NMF 5 AUC = 0.522f  acurracy is 0.49\n",
      "NMF 6 AUC = 0.472f  acurracy is 0.42\n",
      "NMF 7 AUC = 0.472f  acurracy is 0.42\n",
      "NMF 8 AUC = 0.502f  acurracy is 0.46\n",
      "NMF 9 AUC = 0.482f  acurracy is 0.45\n",
      "NMF 10 AUC = 0.552f  acurracy is 0.54\n",
      "NMF 11 AUC = 0.522f  acurracy is 0.50\n",
      "NMF 12 AUC = 0.522f  acurracy is 0.50\n",
      "NMF 13 AUC = 0.502f  acurracy is 0.49\n",
      "NMF 14 AUC = 0.542f  acurracy is 0.53\n",
      "NMF 15 AUC = 0.542f  acurracy is 0.52\n",
      "NMF 16 AUC = 0.542f  acurracy is 0.52\n",
      "NMF 17 AUC = 0.532f  acurracy is 0.51\n",
      "NMF 18 AUC = 0.552f  acurracy is 0.54\n",
      "NMF 19 AUC = 0.532f  acurracy is 0.52\n",
      "NMF 20 AUC = 0.542f  acurracy is 0.52\n",
      "NMF 21 AUC = 0.522f  acurracy is 0.50\n",
      "NMF 22 AUC = 0.522f  acurracy is 0.50\n",
      "NMF 23 AUC = 0.512f  acurracy is 0.50\n"
     ]
    }
   ],
   "source": [
    "accuracyScore,bestScore,nmf_roc_auc = 0,0,0\n",
    "for x in range(1, 80):\n",
    "    modelnmfNew,pat_testnmfNew = generateNMF(patients_train,survived_train,patients_test,n_components=x)\n",
    "    newAccuracy = accuracy_score(survived_test,modelnmfNew.predict(pat_testnmfNew))\n",
    "    newroc_auc = aucModel(\"NMF \"+str(x),survived_test,modelnmfNew,pat_testnmfNew)\n",
    "    if newroc_auc>nmf_roc_auc:\n",
    "        modelnmf,pat_testnmf=modelnmfNew,pat_testnmfNew\n",
    "        accuracyScore,bestScore,nmf_roc_auc=newAccuracy,x,newroc_auc\n",
    "    print(\" acurracy is %2.2f\" % newAccuracy)\n",
    "print(\"bestScore\"+str(bestScore)+\" accurracy is %2.2f\"% accuracyScore)\n",
    "print(classification_report(survived_test,modelnmf.predict(pat_testnmf)))"
   ]
  },
  {
   "cell_type": "code",
   "execution_count": 49,
   "metadata": {},
   "outputs": [
    {
     "name": "stdout",
     "output_type": "stream",
     "text": [
      "Base Rate AUC = 0.502f\n",
      "             precision    recall  f1-score   support\n",
      "\n",
      "          0       0.38      1.00      0.56        45\n",
      "          1       0.00      0.00      0.00        72\n",
      "\n",
      "avg / total       0.15      0.38      0.21       117\n",
      "\n",
      "Logistic Model\n",
      "Logistic AUC = 0.612f\n",
      "             precision    recall  f1-score   support\n",
      "\n",
      "          0       0.49      0.62      0.55        45\n",
      "          1       0.72      0.60      0.65        72\n",
      "\n",
      "avg / total       0.63      0.61      0.61       117\n",
      "\n",
      "NMF 30 Model\n",
      "NMF 30 AUC = 0.522f\n",
      "             precision    recall  f1-score   support\n",
      "\n",
      "          0       0.41      0.44      0.43        45\n",
      "          1       0.63      0.60      0.61        72\n",
      "\n",
      "avg / total       0.55      0.54      0.54       117\n",
      "\n",
      "NMF 60 Model\n",
      "NMF 60 AUC = 0.572f\n",
      "             precision    recall  f1-score   support\n",
      "\n",
      "          0       0.44      0.62      0.52        45\n",
      "          1       0.69      0.51      0.59        72\n",
      "\n",
      "avg / total       0.59      0.56      0.56       117\n",
      "\n",
      "NMF 90 Model\n",
      "NMF 90 AUC = 0.492f\n",
      "             precision    recall  f1-score   support\n",
      "\n",
      "          0       0.37      0.36      0.36        45\n",
      "          1       0.61      0.62      0.62        72\n",
      "\n",
      "avg / total       0.52      0.52      0.52       117\n",
      "\n",
      "NMF 120 Model\n",
      "NMF 120 AUC = 0.492f\n",
      "             precision    recall  f1-score   support\n",
      "\n",
      "          0       0.37      0.31      0.34        45\n",
      "          1       0.61      0.67      0.64        72\n",
      "\n",
      "avg / total       0.52      0.53      0.52       117\n",
      "\n",
      "NMF 75 Model\n",
      "NMF 75 AUC = 0.512f\n",
      "             precision    recall  f1-score   support\n",
      "\n",
      "          0       0.40      0.36      0.38        45\n",
      "          1       0.62      0.67      0.64        72\n",
      "\n",
      "avg / total       0.54      0.55      0.54       117\n",
      "\n",
      "NMF 1-9 Model\n",
      "NMF 1-9 AUC = 0.542f\n",
      "             precision    recall  f1-score   support\n",
      "\n",
      "          0       0.43      0.51      0.46        45\n",
      "          1       0.65      0.57      0.61        72\n",
      "\n",
      "avg / total       0.56      0.55      0.55       117\n",
      "\n"
     ]
    },
    {
     "name": "stderr",
     "output_type": "stream",
     "text": [
      "/usr/local/lib/python3.4/dist-packages/sklearn/metrics/classification.py:1135: UndefinedMetricWarning: Precision and F-score are ill-defined and being set to 0.0 in labels with no predicted samples.\n",
      "  'precision', 'predicted', average, warn_for)\n"
     ]
    }
   ],
   "source": [
    "base_roc_auc = roc_auc_score(survived_test,base_rate_model(patients_test))\n",
    "print(\"Base Rate AUC = %2.2f2f\"% base_roc_auc)\n",
    "print(classification_report(survived_test,base_rate_model(patients_test)))\n",
    "logit_roc_auc = aucModel(\"Logistic\",survived_test,model,patients_test)\n",
    "nmf30_roc_auc = aucModel(\"NMF 30\",survived_test,modelnmf30,pat_testnmf30)\n",
    "nmf60_roc_auc = aucModel(\"NMF 60\",survived_test,modelnmf60,pat_testnmf60)\n",
    "nmf90_roc_auc = aucModel(\"NMF 90\",survived_test,modelnmf90,pat_testnmf90)\n",
    "nmf120_roc_auc = aucModel(\"NMF 120\",survived_test,modelnmf120,pat_testnmf120)\n",
    "nmf75_roc_auc = aucModel(\"NMF 75\",survived_test,modelnmf75,pat_testnmf75)\n"
   ]
  },
  {
   "cell_type": "code",
   "execution_count": 29,
   "metadata": {},
   "outputs": [],
   "source": [
    "from sklearn.metrics import roc_curve\n",
    "import matplotlib.pyplot as plt"
   ]
  },
  {
   "cell_type": "code",
   "execution_count": 30,
   "metadata": {},
   "outputs": [],
   "source": [
    "def roc_curveplot(name,survived_test,model,patients_test,logit_roc_auc):\n",
    "    fpr, tpr, thresholds = roc_curve(survived_test,model.predict_proba(patients_test)[:,1])\n",
    "    plt.plot(fpr,tpr,label='ROC '+name+' curve (area =%0.2f)' % logit_roc_auc)"
   ]
  },
  {
   "cell_type": "code",
   "execution_count": 50,
   "metadata": {},
   "outputs": [
    {
     "data": {
      "image/png": "[encoded data removed]",
      "text/plain": [
       "<matplotlib.figure.Figure at 0x7f39df48cc50>"
      ]
     },
     "metadata": {},
     "output_type": "display_data"
    }
   ],
   "source": [
    "plt.figure()\n",
    "roc_curveplot('Logistic',survived_test,model,patients_test,logit_roc_auc)\n",
    "roc_curveplot('NMF 30',survived_test,modelnmf30,pat_testnmf30,nmf30_roc_auc)\n",
    "roc_curveplot('NMF 60',survived_test,modelnmf60,pat_testnmf60,nmf60_roc_auc)\n",
    "roc_curveplot('NMF 90',survived_test,modelnmf90,pat_testnmf90,nmf90_roc_auc)\n",
    "roc_curveplot('NMF 120',survived_test,modelnmf120,pat_testnmf120,nmf120_roc_auc)\n",
    "roc_curveplot('NMF 75',survived_test,modelnmf75,pat_testnmf75,nmf75_roc_auc)\n",
    "roc_curveplot('NMF 1 to 9',survived_test,modelnmf,pat_testnmf,nmf1to9_roc_auc)\n",
    "plt.plot([0,1],[0,1],'k--')\n",
    "plt.xlim([0.0, 1.0])\n",
    "plt.ylim([0.0, 1.05])\n",
    "plt.xlabel('False Positive Rate')\n",
    "plt.ylabel('True Positive Rate')\n",
    "plt.title('Receiver operating charecteristic example')\n",
    "plt.legend(loc=\"lower right\")\n",
    "plt.show()"
   ]
  },
  {
   "cell_type": "code",
   "execution_count": null,
   "metadata": {},
   "outputs": [],
   "source": []
  }
 ],
 "metadata": {
  "kernelspec": {
   "display_name": "Python 3",
   "language": "python",
   "name": "python3"
  },
  "language_info": {
   "codemirror_mode": {
    "name": "ipython",
    "version": 3
   },
   "file_extension": ".py",
   "mimetype": "text/x-python",
   "name": "python",
   "nbconvert_exporter": "python",
   "pygments_lexer": "ipython3",
   "version": "3.4.3"
  }
 },
 "nbformat": 4,
 "nbformat_minor": 2
}
