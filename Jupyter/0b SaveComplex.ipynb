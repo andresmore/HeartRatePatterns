{
 "cells": [
  {
   "cell_type": "code",
   "execution_count": 1,
   "metadata": {},
   "outputs": [],
   "source": [
    "import psycopg2\n",
    "from psycopg2.extensions import register_adapter, AsIs"
   ]
  },
  {
   "cell_type": "code",
   "execution_count": 2,
   "metadata": {},
   "outputs": [],
   "source": [
    "def select(register,complexType='r',dbname=\"mimic\"):\n",
    "    conn = psycopg2.connect(\"dbname=\"+dbname)\n",
    "    cur = conn.cursor()\n",
    "    if complexType=='r':\n",
    "        select_stament=\"Sample =\"+str(register['s_from'])\n",
    "    else :\n",
    "        select_stament=\"Sample BETWEEN \"+str(register['s_from'])+\" AND \"+str(register['s_to'])\n",
    "    select_stament = \"SELECT sample,amp FROM \"+complexType+\" WHERE record='\"+register['record']+\"' AND \"+select_stament+\" LIMIT 1\"\n",
    "    cur.execute(select_stament)\n",
    "    for row in cur :\n",
    "        register[complexType+'_s']=row[0]\n",
    "        register[complexType+'_a']=row[1]\n",
    "    conn.close()\n",
    "    return register"
   ]
  },
  {
   "cell_type": "code",
   "execution_count": 3,
   "metadata": {},
   "outputs": [],
   "source": [
    "def insertRow(row,dbname=\"mimic\") :\n",
    "    conn = psycopg2.connect(\"dbname=\"+dbname)\n",
    "    cur = conn.cursor()\n",
    "    insert_statement = 'INSERT into rstq (%s) values %s'\n",
    "    columns = row.keys()\n",
    "    values = [row[column] for column in columns]\n",
    "#    print(cur.mogrify(insert_statement, (AsIs(','.join(columns)), tuple(values))))\n",
    "    cur.execute(insert_statement, (AsIs(','.join(columns)), tuple(values)))\n",
    "    conn.commit()\n",
    "    conn.close()"
   ]
  },
  {
   "cell_type": "code",
   "execution_count": 4,
   "metadata": {},
   "outputs": [],
   "source": [
    "def difference(first,second):\n",
    "    if first is None or second is None :\n",
    "        return None\n",
    "    else :\n",
    "        return first-second"
   ]
  },
  {
   "cell_type": "code",
   "execution_count": 5,
   "metadata": {},
   "outputs": [],
   "source": [
    "def readHeartBeats(record,dbname=\"mimic\") :\n",
    "    conn = psycopg2.connect(\"dbname=\"+dbname)\n",
    "    cur = conn.cursor()\n",
    "    select_stament = \"SELECT s_from,s_to FROM heartbeatstemporal WHERE s_to - s_from < 1000 AND record ='\"+record+\"' \"\n",
    "    cur.execute(select_stament)\n",
    "    print(record)\n",
    "    for row in cur :\n",
    "        register = {'record':record,'s_from':row[0],'s_to':row[1]}\n",
    "        register = select(register)\n",
    "        register = select(register,complexType='s')\n",
    "        register = select(register,complexType='t')\n",
    "        register = select(register,complexType='q')\n",
    "        register['qt'] = difference(register.get('q_s'),register.get('t_s'))\n",
    "        register['ts'] = difference(register.get('t_s'),register.get('s_s'))\n",
    "        register['sr'] = difference(register.get('s_s'),register.get('r_s'))\n",
    "        del register['s_from']\n",
    "        del register['s_to']\n",
    "        insertRow(register)\n",
    "    conn.close()\n",
    "#        selectrow(record[0])"
   ]
  },
  {
   "cell_type": "code",
   "execution_count": null,
   "metadata": {},
   "outputs": [],
   "source": [
    "def distinctRecord(dbname=\"mimic\"):\n",
    "    conn = psycopg2.connect(\"dbname=\"+dbname)\n",
    "    cur = conn.cursor()\n",
    "    select_stament = \"SELECT DISTINCT r.record FROM r where record not in (select distinct record from rstq) \"\n",
    "    cur.execute(select_stament)\n",
    "    for record in cur :\n",
    "        readHeartBeats(record[0])"
   ]
  },
  {
   "cell_type": "code",
   "execution_count": null,
   "metadata": {},
   "outputs": [
    {
     "name": "stdout",
     "output_type": "stream",
     "text": []
    }
   ],
   "source": [
    "distinctRecord()"
   ]
  },
  {
   "cell_type": "code",
   "execution_count": null,
   "metadata": {},
   "outputs": [],
   "source": []
  }
 ],
 "metadata": {
  "kernelspec": {
   "display_name": "Python 3",
   "language": "python",
   "name": "python3"
  },
  "language_info": {
   "codemirror_mode": {
    "name": "ipython",
    "version": 3
   },
   "file_extension": ".py",
   "mimetype": "text/x-python",
   "name": "python",
   "nbconvert_exporter": "python",
   "pygments_lexer": "ipython3",
   "version": "3.4.3"
  }
 },
 "nbformat": 4,
 "nbformat_minor": 2
}
