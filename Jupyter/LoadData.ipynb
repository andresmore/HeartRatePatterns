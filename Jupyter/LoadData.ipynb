{
 "cells": [
  {
   "cell_type": "markdown",
   "metadata": {},
   "source": [
    "# Cargue de datos s SciDB\n",
    "## 1) Verificar Prerequisitos\n",
    "### Python\n",
    "SciDB-Py requires Python 2.6-2.7 or 3.3"
   ]
  },
  {
   "cell_type": "code",
   "execution_count": 1,
   "metadata": {},
   "outputs": [
    {
     "data": {
      "text/plain": [
       "sys.version_info(major=3, minor=4, micro=3, releaselevel='final', serial=0)"
      ]
     },
     "execution_count": 1,
     "metadata": {},
     "output_type": "execute_result"
    }
   ],
   "source": [
    "import sys\n",
    "sys.version\n",
    "sys.version_info"
   ]
  },
  {
   "cell_type": "markdown",
   "metadata": {},
   "source": [
    "### NumPy\n",
    "tested with version 1.9 (1.13.1)"
   ]
  },
  {
   "cell_type": "code",
   "execution_count": 2,
   "metadata": {},
   "outputs": [
    {
     "data": {
      "text/plain": [
       "'1.13.1'"
      ]
     },
     "execution_count": 2,
     "metadata": {},
     "output_type": "execute_result"
    }
   ],
   "source": [
    "import numpy\n",
    "numpy.__version__"
   ]
  },
  {
   "cell_type": "markdown",
   "metadata": {},
   "source": [
    "### Requests\n",
    "tested with version 2.7 (2.18.1) Required for using the Shim interface to SciDB."
   ]
  },
  {
   "cell_type": "code",
   "execution_count": 3,
   "metadata": {},
   "outputs": [
    {
     "data": {
      "text/plain": [
       "'2.18.3'"
      ]
     },
     "execution_count": 3,
     "metadata": {},
     "output_type": "execute_result"
    }
   ],
   "source": [
    "import requests\n",
    "requests.__version__"
   ]
  },
  {
   "cell_type": "markdown",
   "metadata": {},
   "source": [
    "### Pandas (optional)\n",
    "tested with version 0.15. (0.20.3) Required only for importing/exporting SciDB arrays as Pandas Dataframe objects."
   ]
  },
  {
   "cell_type": "code",
   "execution_count": 4,
   "metadata": {},
   "outputs": [
    {
     "data": {
      "text/plain": [
       "'0.20.3'"
      ]
     },
     "execution_count": 4,
     "metadata": {},
     "output_type": "execute_result"
    }
   ],
   "source": [
    "import pandas as pd\n",
    "pd.__version__"
   ]
  },
  {
   "cell_type": "markdown",
   "metadata": {},
   "source": [
    "### SciPy (optional)\n",
    "tested with versions 0.10-0.12. (0.19.0) Required only for importing/exporting SciDB arrays as SciPy sparse matrices."
   ]
  },
  {
   "cell_type": "code",
   "execution_count": 5,
   "metadata": {},
   "outputs": [
    {
     "data": {
      "text/plain": [
       "'0.19.1'"
      ]
     },
     "execution_count": 5,
     "metadata": {},
     "output_type": "execute_result"
    }
   ],
   "source": [
    "import scipy\n",
    "scipy.__version__"
   ]
  },
  {
   "cell_type": "markdown",
   "metadata": {},
   "source": [
    "## 2) Importar scidbpy\n",
    "pip install git+http://github.com/paradigm4/scidb-py.git@devel"
   ]
  },
  {
   "cell_type": "code",
   "execution_count": 6,
   "metadata": {},
   "outputs": [
    {
     "data": {
      "text/plain": [
       "'16.9'"
      ]
     },
     "execution_count": 6,
     "metadata": {},
     "output_type": "execute_result"
    }
   ],
   "source": [
    "import scidbpy\n",
    "scidbpy.__version__"
   ]
  },
  {
   "cell_type": "code",
   "execution_count": 7,
   "metadata": {
    "collapsed": true
   },
   "outputs": [],
   "source": [
    "from scidbpy import connect"
   ]
  },
  {
   "cell_type": "markdown",
   "metadata": {},
   "source": [
    "conectarse al servidor de Base de datos"
   ]
  },
  {
   "cell_type": "code",
   "execution_count": 8,
   "metadata": {
    "collapsed": true,
    "scrolled": true
   },
   "outputs": [],
   "source": [
    "sdb = connect('http://localhost:8080')"
   ]
  },
  {
   "cell_type": "markdown",
   "metadata": {
    "collapsed": true
   },
   "source": [
    "## 3) Leer archivo con cada una de las ondas"
   ]
  },
  {
   "cell_type": "code",
   "execution_count": 9,
   "metadata": {
    "collapsed": true
   },
   "outputs": [],
   "source": [
    "import urllib.request  # urllib2 in python2 the lib that handles the url stuff\n",
    "target_url = \"https://www.physionet.org/physiobank/database/mimic2wdb/matched/RECORDS-waveforms\"\n",
    "data = urllib.request.urlopen(target_url) # it's a file like object and works just like a file"
   ]
  },
  {
   "cell_type": "code",
   "execution_count": 10,
   "metadata": {
    "collapsed": true
   },
   "outputs": [],
   "source": [
    "lines = data.readlines();\n",
    "line = str(lines[0])"
   ]
  },
  {
   "cell_type": "markdown",
   "metadata": {},
   "source": [
    "Quitarle caracteres especiales"
   ]
  },
  {
   "cell_type": "code",
   "execution_count": 11,
   "metadata": {},
   "outputs": [
    {
     "data": {
      "text/plain": [
       "'s00001-2896-10-09-01-56'"
      ]
     },
     "execution_count": 11,
     "metadata": {},
     "output_type": "execute_result"
    }
   ],
   "source": [
    "carpeta,onda = line.replace('b\\'','').replace('\\'','').replace('\\\\n','').split(\"/\")\n",
    "onda"
   ]
  },
  {
   "cell_type": "markdown",
   "metadata": {},
   "source": [
    "## 4) Importar WFDB para conectarse a physionet"
   ]
  },
  {
   "cell_type": "code",
   "execution_count": 12,
   "metadata": {
    "collapsed": true
   },
   "outputs": [],
   "source": [
    "import wfdb"
   ]
  },
  {
   "cell_type": "code",
   "execution_count": 13,
   "metadata": {
    "collapsed": true
   },
   "outputs": [],
   "source": [
    "sig, fields = wfdb.srdsamp(onda,pbdir='mimic2wdb/matched/'+carpeta) #, sampfrom=11000"
   ]
  },
  {
   "cell_type": "code",
   "execution_count": 14,
   "metadata": {
    "scrolled": true
   },
   "outputs": [
    {
     "name": "stdout",
     "output_type": "stream",
     "text": [
      "[[ nan  nan  nan  nan]\n",
      " [ nan  nan  nan  nan]\n",
      " [ nan  nan  nan  nan]\n",
      " ..., \n",
      " [ nan  nan  nan  nan]\n",
      " [ nan  nan  nan  nan]\n",
      " [ nan  nan  nan  nan]]\n",
      "signame: ['II', 'V', 'MCL1', 'ABP']\n",
      "units: ['mV', 'mV', 'mV', 'mmHg']\n",
      "fs: 125\n",
      "comments: ['<age>: 60 <sex>: F']\n",
      "fields: {'signame': ['II', 'V', 'MCL1', 'ABP'], 'units': ['mV', 'mV', 'mV', 'mmHg'], 'fs': 125, 'comments': ['<age>: 60 <sex>: F']}\n"
     ]
    }
   ],
   "source": [
    "print(sig)\n",
    "print(\"signame: \" + str(fields['signame']))\n",
    "print(\"units: \" + str(fields['units']))\n",
    "print(\"fs: \" + str(fields['fs']))\n",
    "print(\"comments: \" + str(fields['comments']))\n",
    "print(\"fields: \" + str(fields))"
   ]
  },
  {
   "cell_type": "markdown",
   "metadata": {},
   "source": [
    "Busca la ubicacion de la señal tipo II "
   ]
  },
  {
   "cell_type": "code",
   "execution_count": 15,
   "metadata": {},
   "outputs": [
    {
     "name": "stdout",
     "output_type": "stream",
     "text": [
      "List contain value\n"
     ]
    }
   ],
   "source": [
    "signalII = None\n",
    "try:\n",
    "    signalII = fields['signame'].index(\"II\")\n",
    "except ValueError:\n",
    "    print(\"List does not contain value\")\n",
    "if(signalII!=None):\n",
    "    print(\"List contain value\")"
   ]
  },
  {
   "cell_type": "markdown",
   "metadata": {},
   "source": [
    "Normaliza la señal y le quita los valores en null"
   ]
  },
  {
   "cell_type": "code",
   "execution_count": 16,
   "metadata": {},
   "outputs": [
    {
     "data": {
      "text/plain": [
       "array([], dtype=float64)"
      ]
     },
     "execution_count": 16,
     "metadata": {},
     "output_type": "execute_result"
    }
   ],
   "source": [
    "array = wfdb.processing.normalize(x=sig[:, signalII], lb=-2, ub=2)\n",
    "arrayNun = array[~numpy.isnan(array)]\n",
    "arrayNun\n",
    "#array = array.reshape(-1, 1)"
   ]
  },
  {
   "cell_type": "markdown",
   "metadata": {},
   "source": [
    "Cambiar los guiones \"-\" por raya al piso \"_\" porque por algun motivo SciDB tiene problemas con estos caracteres\n",
    "Si el arreglo sin valores nulos no queda vacio lo sube al SciDB"
   ]
  },
  {
   "cell_type": "code",
   "execution_count": 17,
   "metadata": {
    "collapsed": true,
    "scrolled": true
   },
   "outputs": [],
   "source": [
    "ondaName = onda.replace(\"-\", \"_\")\n",
    "if arrayNun.size>0 :\n",
    "    sdb.input(upload_data=array).store(ondaName,gc=False)\n",
    "#    sdb.iquery(\"store(input(<x:int64>[i], '{fn}', 0, '{fmt}'), \"+ondaName+\")\", upload_data=array)"
   ]
  },
  {
   "cell_type": "markdown",
   "metadata": {},
   "source": [
    "lista de los arreglos que actualmente se encuentran en SciDB"
   ]
  },
  {
   "cell_type": "code",
   "execution_count": 18,
   "metadata": {
    "scrolled": true
   },
   "outputs": [
    {
     "data": {
      "text/plain": [
       "['s00001_2896_10_10_00_31',\n",
       " 's00020_2567_03_30_17_47',\n",
       " 's00033_2559_01_25_12_35',\n",
       " 's00033_2559_01_26_13_11',\n",
       " 's00052_3036_03_14_02_21',\n",
       " 's00076_3103_08_06_18_45',\n",
       " 's00079_2756_08_14_01_25',\n",
       " 's00079_2756_08_14_12_28',\n",
       " 's00123_2772_11_02_03_01',\n",
       " 's00123_2772_11_03_12_58',\n",
       " 's00124_3297_08_04_15_23',\n",
       " 's00124_3297_08_12_01_20',\n",
       " 's00135_2909_04_11_10_04',\n",
       " 's00138_2817_11_01_13_39',\n",
       " 's00151_2509_04_12_15_19',\n",
       " 's00151_2509_04_15_12_12',\n",
       " 's00151_2509_04_16_14_43',\n",
       " 's00177_3299_12_03_12_35',\n",
       " 's00194_2675_05_03_14_34',\n",
       " 's00208_2955_05_18_00_06',\n",
       " 's00214_3084_11_28_16_23',\n",
       " 's00214_3084_12_02_22_02',\n",
       " 's00217_2669_08_23_12_28',\n",
       " 's00262_2554_11_12_18_06',\n",
       " 's00263_2931_11_13_23_52',\n",
       " 's00263_2931_11_15_19_57',\n",
       " 's00263_2931_11_16_11_58',\n",
       " 's00279_3271_08_20_21_22',\n",
       " 's00283_2948_10_24_13_16',\n",
       " 's00302_3023_04_11_23_00',\n",
       " 's00302_3023_04_13_12_27',\n",
       " 's00308_2915_08_04_12_57',\n",
       " 's00308_2915_08_28_04_22',\n",
       " 's00317_3234_10_03_15_24',\n",
       " 's00318_3031_08_09_07_15',\n",
       " 's00368_2568_06_23_19_56',\n",
       " 's00377_3016_03_04_15_47',\n",
       " 's00379_3192_07_24_12_20',\n",
       " 's00402_3438_01_09_16_11',\n",
       " 's00402_3438_01_12_12_03',\n",
       " 's00408_3350_09_28_22_27',\n",
       " 's00408_3350_09_29_18_23',\n",
       " 's00408_3350_09_30_19_10',\n",
       " 's00409_2994_09_17_14_20',\n",
       " 's00416_2509_05_22_15_14',\n",
       " 's00416_2509_05_23_00_20',\n",
       " 's00422_2944_06_18_03_45',\n",
       " 's00422_2944_06_18_22_35',\n",
       " 's00427_2977_04_30_13_51',\n",
       " 's00439_3242_12_28_20_29',\n",
       " 's00439_3242_12_29_13_54',\n",
       " 's00462_2830_04_26_15_50',\n",
       " 's00491_2546_04_19_14_08',\n",
       " 's00491_2546_04_20_13_09',\n",
       " 's00515_3148_05_26_11_35',\n",
       " 's00515_3148_06_04_15_20',\n",
       " 's00515_3148_06_10_10_44',\n",
       " 's00565_3474_10_22_14_14',\n",
       " 's00586_3425_11_10_05_11',\n",
       " 's00586_3425_11_10_17_13',\n",
       " 's00593_2907_06_03_22_02',\n",
       " 's00600_3152_10_19_18_13',\n",
       " 's00600_3152_10_20_17_06',\n",
       " 's00608_2683_04_16_08_12',\n",
       " 's00608_2683_04_17_19_50',\n",
       " 's00618_3063_12_18_19_00',\n",
       " 's00618_3063_12_21_17_09',\n",
       " 's00625_2706_03_31_03_12',\n",
       " 's00625_2706_04_02_00_49',\n",
       " 's00625_2706_04_08_20_10',\n",
       " 's00631_3289_01_31_13_30',\n",
       " 's00638_2668_11_25_12_59',\n",
       " 's00639_2970_10_11_11_35',\n",
       " 's00639_2970_10_11_13_18',\n",
       " 's00639_2970_10_11_17_48']"
      ]
     },
     "execution_count": 18,
     "metadata": {},
     "output_type": "execute_result"
    }
   ],
   "source": [
    "dir(sdb.arrays)"
   ]
  },
  {
   "cell_type": "markdown",
   "metadata": {},
   "source": [
    "Borra todos los arreglos de la base de datos."
   ]
  },
  {
   "cell_type": "markdown",
   "metadata": {
    "collapsed": true,
    "scrolled": true
   },
   "source": [
    "#for line in dir(sdb.arrays):\n",
    "#    sdb.iquery('remove('+line+')')"
   ]
  },
  {
   "cell_type": "markdown",
   "metadata": {},
   "source": [
    "Obtiene el arreglo s00515_3148_06_10_10_44 de SciDB"
   ]
  },
  {
   "cell_type": "code",
   "execution_count": 20,
   "metadata": {},
   "outputs": [],
   "source": [
    "myArray = sdb.iquery('scan(s00600_3152_10_19_18_13)', fetch=True, as_dataframe=True)"
   ]
  },
  {
   "cell_type": "markdown",
   "metadata": {},
   "source": [
    "Imprime el contenido del arreglo"
   ]
  },
  {
   "cell_type": "code",
   "execution_count": 21,
   "metadata": {},
   "outputs": [
    {
     "data": {
      "image/png": "[encoded data removed]",
      "text/plain": [
       "<matplotlib.figure.Figure at 0x7f94e91b1e80>"
      ]
     },
     "metadata": {},
     "output_type": "display_data"
    }
   ],
   "source": [
    "import matplotlib.pyplot as plt\n",
    "simpleArray = myArray[\"x\"];\n",
    "#simpleArray = numpy.trim_zeros(simpleArray)\n",
    "simpleArray.plot()\n",
    "plt.show()"
   ]
  },
  {
   "cell_type": "code",
   "execution_count": 22,
   "metadata": {},
   "outputs": [
    {
     "data": {
      "text/plain": [
       "0         -0.001793\n",
       "1         -0.001793\n",
       "2         -0.001793\n",
       "3         -0.001793\n",
       "4         -0.001793\n",
       "5         -0.001793\n",
       "6         -0.001793\n",
       "7         -0.001793\n",
       "8         -0.001793\n",
       "9         -0.001793\n",
       "10        -0.001793\n",
       "11        -0.001793\n",
       "12        -0.001793\n",
       "13        -0.001793\n",
       "14        -0.001793\n",
       "15        -0.001793\n",
       "16        -0.001793\n",
       "17        -0.001793\n",
       "18        -0.001793\n",
       "19        -0.001793\n",
       "20        -0.001793\n",
       "21        -0.001793\n",
       "22        -0.001793\n",
       "23        -0.001793\n",
       "24        -0.001793\n",
       "25        -0.001793\n",
       "26        -0.001793\n",
       "27        -0.001793\n",
       "28        -0.001793\n",
       "29        -0.001793\n",
       "             ...   \n",
       "5865202   -0.000253\n",
       "5865203   -0.000288\n",
       "5865204   -0.000267\n",
       "5865205   -0.000267\n",
       "5865206   -0.000232\n",
       "5865207   -0.000267\n",
       "5865208   -0.000267\n",
       "5865209   -0.000232\n",
       "5865210   -0.000253\n",
       "5865211   -0.000302\n",
       "5865212   -0.000267\n",
       "5865213   -0.000267\n",
       "5865214   -0.000267\n",
       "5865215   -0.000288\n",
       "5865216   -0.000267\n",
       "5865217   -0.000232\n",
       "5865218   -0.000267\n",
       "5865219   -0.000253\n",
       "5865220   -0.000267\n",
       "5865221   -0.000253\n",
       "5865222   -0.000267\n",
       "5865223   -0.000267\n",
       "5865224   -0.000267\n",
       "5865225   -0.000232\n",
       "5865226   -0.000211\n",
       "5865227   -0.000176\n",
       "5865228   -0.000105\n",
       "5865229   -0.000091\n",
       "5865230   -0.000035\n",
       "5865231    0.000056\n",
       "Name: x, Length: 5865232, dtype: float64"
      ]
     },
     "execution_count": 22,
     "metadata": {},
     "output_type": "execute_result"
    }
   ],
   "source": [
    "simpleArray"
   ]
  },
  {
   "cell_type": "markdown",
   "metadata": {},
   "source": [
    "Lee el contenido del archivo donde se encuentran las ondas ya leidas"
   ]
  },
  {
   "cell_type": "code",
   "execution_count": 23,
   "metadata": {},
   "outputs": [
    {
     "data": {
      "text/plain": [
       "['s00001_2896_10_10_00_31',\n",
       " 's00020_2567_03_30_17_47',\n",
       " 's00033_2559_01_25_12_35',\n",
       " 's00033_2559_01_26_13_11',\n",
       " 's00052_3036_03_14_02_21',\n",
       " 's00076_3103_08_06_18_45',\n",
       " 's00079_2756_08_14_01_25',\n",
       " 's00079_2756_08_14_12_28',\n",
       " 's00123_2772_11_02_03_01',\n",
       " 's00123_2772_11_03_12_58',\n",
       " 's00124_3297_08_04_15_23',\n",
       " 's00124_3297_08_12_01_20',\n",
       " 's00135_2909_04_11_10_04',\n",
       " 's00138_2817_11_01_13_39',\n",
       " 's00151_2509_04_12_15_19',\n",
       " 's00151_2509_04_15_12_12',\n",
       " 's00151_2509_04_16_14_43',\n",
       " 's00177_3299_12_03_12_35',\n",
       " 's00194_2675_05_03_14_34',\n",
       " 's00208_2955_05_18_00_06',\n",
       " 's00214_3084_11_28_16_23',\n",
       " 's00214_3084_12_02_22_02',\n",
       " 's00217_2669_08_23_12_28',\n",
       " 's00262_2554_11_12_18_06',\n",
       " 's00263_2931_11_13_23_52',\n",
       " 's00263_2931_11_15_19_57',\n",
       " 's00263_2931_11_16_11_58',\n",
       " 's00279_3271_08_20_21_22',\n",
       " 's00283_2948_10_24_13_16',\n",
       " 's00302_3023_04_11_23_00',\n",
       " 's00302_3023_04_13_12_27',\n",
       " 's00308_2915_08_04_12_57',\n",
       " 's00308_2915_08_28_04_22',\n",
       " 's00317_3234_10_03_15_24',\n",
       " 's00318_3031_08_09_07_15',\n",
       " 's00368_2568_06_23_19_56',\n",
       " 's00377_3016_03_04_15_47',\n",
       " 's00379_3192_07_24_12_20',\n",
       " 's00402_3438_01_09_16_11',\n",
       " 's00402_3438_01_12_12_03',\n",
       " 's00408_3350_09_28_22_27',\n",
       " 's00408_3350_09_29_18_23',\n",
       " 's00408_3350_09_30_19_10',\n",
       " 's00409_2994_09_17_14_20',\n",
       " 's00416_2509_05_22_15_14',\n",
       " 's00416_2509_05_23_00_20',\n",
       " 's00422_2944_06_18_03_45',\n",
       " 's00422_2944_06_18_22_35',\n",
       " 's00427_2977_04_30_13_51',\n",
       " 's00439_3242_12_28_20_29',\n",
       " 's00439_3242_12_29_13_54',\n",
       " 's00462_2830_04_26_15_50',\n",
       " 's00491_2546_04_19_14_08',\n",
       " 's00491_2546_04_20_13_09',\n",
       " 's00515_3148_05_26_11_35',\n",
       " 's00515_3148_06_04_15_20',\n",
       " 's00515_3148_06_10_10_44',\n",
       " 's00565_3474_10_22_14_14',\n",
       " 's00586_3425_11_10_05_11',\n",
       " 's00586_3425_11_10_17_13',\n",
       " 's00593_2907_06_03_22_02',\n",
       " 's00600_3152_10_19_18_13',\n",
       " 's00600_3152_10_20_17_06',\n",
       " 's00608_2683_04_16_08_12',\n",
       " 's00608_2683_04_17_19_50',\n",
       " 's00618_3063_12_18_19_00',\n",
       " 's00618_3063_12_21_17_09',\n",
       " 's00625_2706_03_31_03_12',\n",
       " 's00625_2706_04_02_00_49',\n",
       " 's00625_2706_04_08_20_10',\n",
       " 's00631_3289_01_31_13_30',\n",
       " 's00638_2668_11_25_12_59',\n",
       " 's00639_2970_10_11_11_35',\n",
       " 's00639_2970_10_11_13_18',\n",
       " 's00639_2970_10_11_17_48',\n",
       " 's00001_2896_10_09_01_56',\n",
       " 's00001_2896_10_10_00_31',\n",
       " 's00020_2567_03_30_17_47',\n",
       " 's00033_2559_01_25_12_35',\n",
       " 's00033_2559_01_26_13_11',\n",
       " 's00052_3036_03_14_02_21',\n",
       " 's00052_3036_03_14_12_15',\n",
       " 's00076_3103_08_06_18_45',\n",
       " 's00079_2756_08_14_01_25',\n",
       " 's00079_2756_08_14_12_28',\n",
       " 's00123_2772_11_02_03_01',\n",
       " 's00123_2772_11_03_12_58',\n",
       " 's00124_3297_08_03_18_27',\n",
       " 's00124_3297_08_03_21_51',\n",
       " 's00124_3297_08_04_15_23',\n",
       " 's00124_3297_08_09_12_21',\n",
       " 's00124_3297_08_12_01_20',\n",
       " 's00135_2909_04_11_10_04',\n",
       " 's00138_2817_11_01_13_39',\n",
       " 's00151_2509_04_12_15_19',\n",
       " 's00151_2509_04_15_12_12',\n",
       " 's00151_2509_04_16_14_43',\n",
       " 's00177_3299_12_03_12_35',\n",
       " 's00194_2675_05_03_14_34',\n",
       " 's00208_2955_05_18_00_06',\n",
       " 's00214_3084_11_28_16_23',\n",
       " 's00214_3084_12_02_22_02',\n",
       " 's00217_2669_08_23_12_28',\n",
       " 's00262_2554_11_12_18_06',\n",
       " 's00263_2931_11_13_23_52',\n",
       " 's00263_2931_11_15_19_57',\n",
       " 's00263_2931_11_16_11_58',\n",
       " 's00279_3271_08_20_21_22',\n",
       " 's00283_2948_10_24_13_16',\n",
       " 's00292_3050_10_10_16_50',\n",
       " 's00292_3050_10_10_19_46',\n",
       " 's00302_3023_04_11_23_00',\n",
       " 's00302_3023_04_13_03_44',\n",
       " 's00302_3023_04_13_12_27',\n",
       " 's00308_2915_08_04_12_57',\n",
       " 's00308_2915_08_28_04_22',\n",
       " 's00317_3234_10_03_15_24',\n",
       " 's00318_3031_08_09_07_15',\n",
       " 's00328_3144_10_20_14_50',\n",
       " 's00368_2568_06_23_19_56',\n",
       " 's00377_3016_03_04_15_47',\n",
       " 's00379_3192_07_24_12_20',\n",
       " 's00402_3438_01_04_23_07',\n",
       " 's00402_3438_01_09_16_11',\n",
       " 's00402_3438_01_12_12_03',\n",
       " 's00408_3350_09_28_22_27',\n",
       " 's00408_3350_09_29_18_23',\n",
       " 's00408_3350_09_30_19_10',\n",
       " 's00409_2994_09_17_14_20',\n",
       " 's00416_2509_05_22_15_14',\n",
       " 's00416_2509_05_23_00_20',\n",
       " 's00422_2944_06_18_03_45',\n",
       " 's00422_2944_06_18_22_35',\n",
       " 's00427_2977_04_30_13_51',\n",
       " 's00439_3242_12_28_03_07',\n",
       " 's00439_3242_12_28_20_29',\n",
       " 's00439_3242_12_29_13_54',\n",
       " 's00462_2830_04_26_15_50',\n",
       " 's00491_2546_04_19_14_08',\n",
       " 's00491_2546_04_20_13_09',\n",
       " 's00515_3148_05_26_11_35',\n",
       " 's00515_3148_06_04_15_20',\n",
       " 's00515_3148_06_10_10_44',\n",
       " 's00521_2866_08_28_22_58',\n",
       " '11111',\n",
       " 's00521_2866_08_30_17_19',\n",
       " 's00523_3383_07_03_05_00',\n",
       " 's00549_2671_05_31_12_24',\n",
       " 's00549_2671_06_02_16_18',\n",
       " 's00565_3474_10_22_14_14',\n",
       " 's00565_3474_10_24_13_47',\n",
       " 's00586_3425_11_10_05_11',\n",
       " 's00586_3425_11_10_17_13',\n",
       " 's00593_2907_06_03_22_02',\n",
       " 's00600_3152_10_19_18_13',\n",
       " 's00600_3152_10_20_17_06',\n",
       " 's00608_2683_04_02_11_54',\n",
       " 's00608_2683_04_16_08_12',\n",
       " 's00608_2683_04_17_19_50',\n",
       " 's00618_3063_12_18_19_00',\n",
       " 's00618_3063_12_21_17_09',\n",
       " 's00625_2706_03_31_03_12',\n",
       " 's00625_2706_04_02_00_49',\n",
       " 's00625_2706_04_02_10_42',\n",
       " 's00625_2706_04_08_20_10',\n",
       " 's00631_3289_01_31_13_30',\n",
       " 's00634_2816_11_25_19_18',\n",
       " 's00634_2816_11_28_16_07',\n",
       " 's00638_2668_11_25_12_59',\n",
       " 's00639_2970_10_11_11_35',\n",
       " 's00639_2970_10_11_13_18',\n",
       " 's00639_2970_10_11_17_48',\n",
       " 's00652_2965_06_08_07_49']"
      ]
     },
     "execution_count": 23,
     "metadata": {},
     "output_type": "execute_result"
    }
   ],
   "source": [
    "file = open(\"readedWaves.txt\",\"r\")    \n",
    "arrays = dir(sdb.arrays)\n",
    "filelines = file.readlines()\n",
    "arrays.extend([w.replace('\\n','') for w in filelines])\n",
    "#type(arrays)\n",
    "arrays"
   ]
  },
  {
   "cell_type": "code",
   "execution_count": null,
   "metadata": {
    "collapsed": true
   },
   "outputs": [],
   "source": []
  }
 ],
 "metadata": {
  "kernelspec": {
   "display_name": "Python 3",
   "language": "python",
   "name": "python3"
  },
  "language_info": {
   "codemirror_mode": {
    "name": "ipython",
    "version": 3
   },
   "file_extension": ".py",
   "mimetype": "text/x-python",
   "name": "python",
   "nbconvert_exporter": "python",
   "pygments_lexer": "ipython3",
   "version": "3.4.3"
  }
 },
 "nbformat": 4,
 "nbformat_minor": 2
}
