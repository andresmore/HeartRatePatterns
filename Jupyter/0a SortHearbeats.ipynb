{
 "cells": [
  {
   "cell_type": "code",
   "execution_count": 1,
   "metadata": {},
   "outputs": [],
   "source": [
    "import psycopg2\n",
    "from psycopg2.extensions import register_adapter, AsIs"
   ]
  },
  {
   "cell_type": "code",
   "execution_count": 2,
   "metadata": {},
   "outputs": [],
   "source": [
    "def insertRow(row,dbname=\"mimic\") :\n",
    "    conn = psycopg2.connect(\"dbname=\"+dbname)\n",
    "    cur = conn.cursor()\n",
    "    insert_statement = 'INSERT into heartbeatstemporal (%s) values %s'\n",
    "    columns = row.keys()\n",
    "    values = [row[column] for column in columns]\n",
    "    cur.execute(insert_statement, (AsIs(','.join(columns)), tuple(values)))\n",
    "    conn.commit()\n",
    "    conn.close()"
   ]
  },
  {
   "cell_type": "code",
   "execution_count": 3,
   "metadata": {},
   "outputs": [],
   "source": [
    "def selectrow(record,dbname=\"mimic\") :\n",
    "    conn = psycopg2.connect(\"dbname=\"+dbname)\n",
    "    cur = conn.cursor()\n",
    "    select_stament = (\"SELECT a.record, a.sample as s_from, b.Sample - 1 as s_to \"\n",
    "                      \" FROM R a JOIN R b on a.id = b.id -1 and a.record = b.record\"\n",
    "                      \" AND a.record='\"+record+\"'\")\n",
    "    cur.execute(select_stament)\n",
    "    for row in cur :\n",
    "        register = {'record':row[0],'s_from':row[1],'s_to':row[2]}\n",
    "        insertRow(register,dbname=\"mimic\")"
   ]
  },
  {
   "cell_type": "code",
   "execution_count": 4,
   "metadata": {},
   "outputs": [],
   "source": [
    "def distinctRecord(dbname=\"mimic\"):\n",
    "    conn = psycopg2.connect(\"dbname=\"+dbname)\n",
    "    cur = conn.cursor()\n",
    "    select_stament = \"SELECT DISTINCT r.record FROM r WHERE r.record NOT IN (SELECT distinct hb.record FROM heartbeatstemporal hb)\"\n",
    "    cur.execute(select_stament)\n",
    "    for record in cur :\n",
    "        print(record[0])\n",
    "        selectrow(record[0])\n",
    "    conn.close()"
   ]
  },
  {
   "cell_type": "code",
   "execution_count": 5,
   "metadata": {},
   "outputs": [
    {
     "name": "stdout",
     "output_type": "stream",
     "text": [
      "mimic2wdb/matched/s04331/s04331-2696-12-22-07-41\n",
      "mimic2wdb/matched/s14266/s14266-2770-01-13-15-29\n",
      "mimic2wdb/matched/s14947/s14947-3433-11-06-12-07\n",
      "mimic2wdb/matched/s15687/s15687-3453%10-21-19-11\n"
     ]
    }
   ],
   "source": [
    "distinctRecord()"
   ]
  }
 ],
 "metadata": {
  "kernelspec": {
   "display_name": "Python 3",
   "language": "python",
   "name": "python3"
  },
  "language_info": {
   "codemirror_mode": {
    "name": "ipython",
    "version": 3
   },
   "file_extension": ".py",
   "mimetype": "text/x-python",
   "name": "python",
   "nbconvert_exporter": "python",
   "pygments_lexer": "ipython3",
   "version": "3.4.3"
  }
 },
 "nbformat": 4,
 "nbformat_minor": 2
}
