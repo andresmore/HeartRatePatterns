{
 "cells": [
  {
   "cell_type": "markdown",
   "metadata": {},
   "source": [
    "# 05 Non_Negative Matrix Factorization Text"
   ]
  },
  {
   "cell_type": "code",
   "execution_count": 1,
   "metadata": {},
   "outputs": [],
   "source": [
    "from __future__ import print_function\n",
    "from time import time\n",
    "from sklearn.feature_extraction.text import TfidfVectorizer, CountVectorizer\n",
    "from sklearn.decomposition import NMF, LatentDirichletAllocation\n",
    "from sklearn.datasets import fetch_20newsgroups\n",
    "import numpy as np\n",
    "np.set_printoptions(suppress=True)"
   ]
  },
  {
   "cell_type": "code",
   "execution_count": 2,
   "metadata": {},
   "outputs": [],
   "source": [
    "data_samples = [\"Llegar tiempo citas reunion una fase autodisciplina evidencia respeto si mismo. puntualidad cumplido persona cortés paga sus asociados \",\n",
    "               \"puntualidad educación reyes \",\n",
    "               \"preparación puntualidad son dos cualidad más importante líder \",\n",
    "               \"Nunca hubiese podido hacer todo lo hecho sin hábitos puntualidad, orden diligencia, sin determinación concentrarme tarea mismo tiempo \",\n",
    "               \"amigo uno lo sabe todo ti pesar ello quiere \",\n",
    "               \"Si sientes todo perdió su sentido, siempre habrá quiero, siempre habrá amigo \",\n",
    "               \"hermano puede no ser amigo, pero amigo será siempre hermano \",\n",
    "               \"busca amigo sin defectos queda sin amigo \",\n",
    "               \"amigo alma habita dos cuerpos; corazón habita dos alma \",\n",
    "               \"amigo tienes cuya amigo has puesto prueba engánchalos tu alma con ganchos acero \",\n",
    "               \"Verdadera amistad como fosforescencia, resplandece mejor cuando todo oscurecido \"]"
   ]
  },
  {
   "cell_type": "code",
   "execution_count": 3,
   "metadata": {},
   "outputs": [
    {
     "name": "stdout",
     "output_type": "stream",
     "text": [
      "['acero', 'alma', 'amigo', 'amistad', 'asociados', 'autodisciplina', 'busca', 'citas', 'como', 'con', 'concentrarme', 'corazón', 'cortés', 'cualidad', 'cuando', 'cuerpos', 'cumplido', 'cuya', 'defectos', 'determinación', 'diligencia', 'dos', 'educación', 'ello', 'engánchalos', 'evidencia', 'fase', 'fosforescencia', 'ganchos', 'habita', 'habrá', 'hacer', 'has', 'hecho', 'hermano', 'hubiese', 'hábitos', 'importante', 'llegar', 'lo', 'líder', 'mejor', 'mismo', 'más', 'no', 'nunca', 'orden', 'oscurecido', 'paga', 'perdió', 'pero', 'persona', 'pesar', 'podido', 'preparación', 'prueba', 'puede', 'puesto', 'puntualidad', 'queda', 'quiere', 'quiero', 'respeto', 'resplandece', 'reunion', 'reyes', 'sabe', 'sentido', 'ser', 'será', 'si', 'siempre', 'sientes', 'sin', 'son', 'su', 'sus', 'tarea', 'ti', 'tiempo', 'tienes', 'todo', 'tu', 'una', 'uno', 'verdadera']\n"
     ]
    }
   ],
   "source": [
    "tfidf_vectorizer = TfidfVectorizer()\n",
    "tfidf = tfidf_vectorizer.fit_transform(data_samples)\n",
    "tfidf_feature_names = tfidf_vectorizer.get_feature_names()\n",
    "print(tfidf_feature_names)"
   ]
  },
  {
   "cell_type": "code",
   "execution_count": 4,
   "metadata": {},
   "outputs": [],
   "source": [
    "n_components = 4\n",
    "model = NMF(n_components=n_components, random_state=1,alpha=.1, l1_ratio=.5)\n",
    "W = model.fit_transform(tfidf[:tfidf.shape[0]-1])"
   ]
  },
  {
   "cell_type": "code",
   "execution_count": 13,
   "metadata": {},
   "outputs": [],
   "source": [
    "def print_top_words(model, feature_names, n_top_words):\n",
    "    for topic_idx, topic in enumerate(model.components_):\n",
    "        message = \"Topic #%d: \" % topic_idx\n",
    "        message += \", \".join([feature_names[i] for i in topic.argsort()[:-n_top_words - 1:-1]])\n",
    "        print(message)\n",
    "    print()"
   ]
  },
  {
   "cell_type": "code",
   "execution_count": 14,
   "metadata": {},
   "outputs": [
    {
     "name": "stdout",
     "output_type": "stream",
     "text": [
      "Topic #0: sin, amigo, queda, busca, defectos, determinación, concentrarme, hubiese, hecho, hacer\n",
      "Topic #1: educación, reyes, puntualidad, dos, ello, engánchalos, evidencia, fase, fosforescencia, ganchos\n",
      "Topic #2: habita, dos, alma, corazón, cuerpos, amigo, has, evidencia, fase, fosforescencia\n",
      "Topic #3: siempre, hermano, amigo, habrá, no, pero, puede, ser, será, sientes\n",
      "\n"
     ]
    }
   ],
   "source": [
    "n_top_words = 10\n",
    "print_top_words(model, tfidf_feature_names, n_top_words)"
   ]
  },
  {
   "cell_type": "code",
   "execution_count": 16,
   "metadata": {},
   "outputs": [
    {
     "name": "stdout",
     "output_type": "stream",
     "text": [
      "[[ 0.          0.          0.26143017  0.          0.          0.\n",
      "   0.22126201  0.          0.          0.          0.07091616  0.          0.\n",
      "   0.          0.          0.          0.          0.          0.22126201\n",
      "   0.07091616  0.07091616  0.          0.          0.          0.          0.\n",
      "   0.          0.          0.          0.          0.          0.07091616\n",
      "   0.          0.07091616  0.          0.07091616  0.07091616  0.          0.\n",
      "   0.06589521  0.          0.          0.05571293  0.          0.\n",
      "   0.07091616  0.07091616  0.          0.          0.          0.          0.\n",
      "   0.          0.07091616  0.          0.          0.          0.\n",
      "   0.03637754  0.22126201  0.          0.          0.          0.          0.\n",
      "   0.          0.          0.          0.          0.          0.          0.\n",
      "   0.          0.58116119  0.          0.          0.          0.07091616\n",
      "   0.          0.05571293  0.          0.04443755  0.          0.          0.\n",
      "   0.        ]\n",
      " [ 0.          0.          0.          0.          0.          0.          0.\n",
      "   0.          0.          0.          0.          0.          0.          0.\n",
      "   0.          0.          0.          0.          0.          0.          0.\n",
      "   0.          0.5436532   0.          0.          0.          0.          0.\n",
      "   0.          0.          0.          0.          0.          0.          0.\n",
      "   0.          0.          0.          0.          0.          0.          0.\n",
      "   0.          0.          0.          0.          0.          0.          0.\n",
      "   0.          0.          0.          0.          0.          0.          0.\n",
      "   0.          0.          0.36458826  0.          0.          0.          0.\n",
      "   0.          0.          0.5436532   0.          0.          0.          0.\n",
      "   0.          0.          0.          0.          0.          0.          0.\n",
      "   0.          0.          0.          0.          0.          0.          0.\n",
      "   0.          0.        ]\n",
      " [ 0.          0.41237346  0.12795203  0.          0.          0.          0.\n",
      "   0.          0.          0.          0.          0.20943882  0.          0.\n",
      "   0.          0.20943882  0.          0.          0.          0.          0.\n",
      "   0.41720213  0.          0.          0.          0.          0.          0.\n",
      "   0.          0.45949393  0.          0.          0.          0.          0.\n",
      "   0.          0.          0.          0.          0.          0.          0.\n",
      "   0.          0.          0.          0.          0.          0.          0.\n",
      "   0.          0.          0.          0.          0.          0.          0.\n",
      "   0.          0.          0.          0.          0.          0.          0.\n",
      "   0.          0.          0.          0.          0.          0.          0.\n",
      "   0.          0.          0.          0.          0.          0.          0.\n",
      "   0.          0.          0.          0.          0.          0.          0.\n",
      "   0.          0.        ]\n",
      " [ 0.          0.          0.26000671  0.          0.          0.          0.\n",
      "   0.          0.          0.          0.          0.          0.          0.\n",
      "   0.          0.          0.          0.          0.          0.          0.\n",
      "   0.          0.          0.          0.          0.          0.          0.\n",
      "   0.          0.          0.24753817  0.          0.          0.\n",
      "   0.33780497  0.          0.          0.          0.          0.          0.\n",
      "   0.          0.          0.          0.15230375  0.          0.          0.\n",
      "   0.          0.10717035  0.15230375  0.          0.          0.          0.\n",
      "   0.          0.15230375  0.          0.          0.          0.\n",
      "   0.10717035  0.          0.          0.          0.          0.\n",
      "   0.10717035  0.15230375  0.15230375  0.08678384  0.36532482  0.10717035\n",
      "   0.          0.          0.10717035  0.          0.          0.          0.\n",
      "   0.          0.06499501  0.          0.          0.          0.        ]]\n"
     ]
    }
   ],
   "source": [
    "print(model.components_)"
   ]
  },
  {
   "cell_type": "code",
   "execution_count": 8,
   "metadata": {},
   "outputs": [
    {
     "name": "stdout",
     "output_type": "stream",
     "text": [
      "[[ 0.          1.03470651  0.          0.        ]]\n"
     ]
    }
   ],
   "source": [
    "W_new = model.transform(tfidf[1])\n",
    "print(W_new)"
   ]
  },
  {
   "cell_type": "code",
   "execution_count": null,
   "metadata": {},
   "outputs": [],
   "source": []
  }
 ],
 "metadata": {
  "kernelspec": {
   "display_name": "Python 3",
   "language": "python",
   "name": "python3"
  },
  "language_info": {
   "codemirror_mode": {
    "name": "ipython",
    "version": 3
   },
   "file_extension": ".py",
   "mimetype": "text/x-python",
   "name": "python",
   "nbconvert_exporter": "python",
   "pygments_lexer": "ipython3",
   "version": "3.4.3"
  }
 },
 "nbformat": 4,
 "nbformat_minor": 2
}
