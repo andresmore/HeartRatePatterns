{
 "cells": [
  {
   "cell_type": "markdown",
   "metadata": {},
   "source": [
    "The Objetive of the NMF is Find two non-negative matrices (W, H) whose product approximates the non-negative matrix X.\n",
    "This factorization can be used for example for dimensionality reduction, source separation or topic extraction."
   ]
  },
  {
   "cell_type": "markdown",
   "metadata": {},
   "source": [
    "# Using Scikit-learn\n",
    "http://scikit-learn.org/stable/modules/generated/sklearn.decomposition.NMF.html"
   ]
  },
  {
   "cell_type": "code",
   "execution_count": 1,
   "metadata": {
    "collapsed": true
   },
   "outputs": [],
   "source": [
    "import numpy as np\n",
    "from sklearn.decomposition import NMF"
   ]
  },
  {
   "cell_type": "markdown",
   "metadata": {},
   "source": [
    "Defining the model"
   ]
  },
  {
   "cell_type": "code",
   "execution_count": 2,
   "metadata": {},
   "outputs": [
    {
     "data": {
      "text/plain": [
       "NMF(alpha=0.0, beta_loss='frobenius', init='nndsvdar', l1_ratio=0.0,\n",
       "  max_iter=200, n_components=3, random_state=None, shuffle=False,\n",
       "  solver='mu', tol=0.0001, verbose=0)"
      ]
     },
     "execution_count": 2,
     "metadata": {},
     "output_type": "execute_result"
    }
   ],
   "source": [
    "K = 3\n",
    "model = NMF(n_components=K,init='nndsvdar',solver='mu') \n",
    "model"
   ]
  },
  {
   "cell_type": "markdown",
   "metadata": {},
   "source": [
    "A test Array"
   ]
  },
  {
   "cell_type": "code",
   "execution_count": 3,
   "metadata": {
    "collapsed": true
   },
   "outputs": [],
   "source": [
    "Original = [\n",
    "    [5,3,0,1],\n",
    "    [4,0,0,1],\n",
    "    [1,1,0,0],\n",
    "    [1,0,0,1],\n",
    "    [0,1,5,0]\n",
    "]\n",
    "Original = np.array(Original)"
   ]
  },
  {
   "cell_type": "code",
   "execution_count": 4,
   "metadata": {
    "scrolled": true
   },
   "outputs": [
    {
     "name": "stderr",
     "output_type": "stream",
     "text": [
      "/usr/local/lib/python3.4/dist-packages/sklearn/decomposition/nmf.py:1035: ConvergenceWarning: Maximum number of iteration 200 reached. Increase it to improve convergence.\n",
      "  \" improve convergence.\" % max_iter, ConvergenceWarning)\n"
     ]
    }
   ],
   "source": [
    "W = model.fit_transform(Original)\n",
    "H = model.components_"
   ]
  },
  {
   "cell_type": "code",
   "execution_count": 5,
   "metadata": {},
   "outputs": [
    {
     "name": "stdout",
     "output_type": "stream",
     "text": [
      "W\n",
      "[[  1.67859399e+00   1.30593459e-03   2.27740571e+00]\n",
      " [  1.46969808e+00   0.00000000e+00   5.77583200e-41]\n",
      " [  2.99809972e-01   3.30934340e-04   7.65441399e-01]\n",
      " [  4.32329185e-01   0.00000000e+00   1.52695142e-53]\n",
      " [  6.75336825e-10   2.25253195e+00   5.35233131e-03]]\n",
      "H\n",
      "[[  2.72104542e+00   1.10424151e-02   0.00000000e+00   6.81440979e-01]\n",
      " [  1.46333604e-18   4.40830367e-01   2.21972355e+00   6.69459008e-31]\n",
      " [  1.76009433e-01   1.30815434e+00   3.61216029e-44   1.34115036e-20]]\n"
     ]
    }
   ],
   "source": [
    "print(\"W\")\n",
    "print(W)\n",
    "print(\"H\")\n",
    "print(H)"
   ]
  },
  {
   "cell_type": "markdown",
   "metadata": {},
   "source": [
    "Now lets see how mush close to X are WxH and lets call it crossValue"
   ]
  },
  {
   "cell_type": "code",
   "execution_count": 6,
   "metadata": {
    "scrolled": true
   },
   "outputs": [
    {
     "name": "stdout",
     "output_type": "stream",
     "text": [
      "crossValue \n",
      " [[  4.96837539e+00   2.99830959e+00   2.89881377e-03   1.14386273e+00]\n",
      " [  3.99911524e+00   1.62290163e-02   2.08632310e-84   1.00151250e+00]\n",
      " [  9.50521459e-01   1.00477200e+00   7.34582747e-04   2.04302801e-01]\n",
      " [  1.17638735e+00   4.77395834e-03   5.51559327e-97   2.94606823e-01]\n",
      " [  9.42062639e-04   9.99986160e-01   4.99999821e+00   4.60202187e-10]]\n",
      "rounded Values\n",
      " [[ 5.  3.  0.  1.]\n",
      " [ 4.  0.  0.  1.]\n",
      " [ 1.  1.  0.  0.]\n",
      " [ 1.  0.  0.  0.]\n",
      " [ 0.  1.  5.  0.]]\n",
      "Original\n",
      " [[5 3 0 1]\n",
      " [4 0 0 1]\n",
      " [1 1 0 0]\n",
      " [1 0 0 1]\n",
      " [0 1 5 0]]\n"
     ]
    }
   ],
   "source": [
    "crossValue = np.dot(W,H)\n",
    "print(\"crossValue \\n\",crossValue)\n",
    "print(\"rounded Values\\n\",np.round(crossValue))\n",
    "print(\"Original\\n\",Original)"
   ]
  },
  {
   "cell_type": "code",
   "execution_count": 7,
   "metadata": {},
   "outputs": [
    {
     "data": {
      "image/png": "[encoded data removed]",
      "text/plain": [
       "<matplotlib.figure.Figure at 0x7f22a9ecacf8>"
      ]
     },
     "metadata": {},
     "output_type": "display_data"
    }
   ],
   "source": [
    "import matplotlib.pyplot as plt\n",
    "def plotCompare(Original,prediction):\n",
    "    N = Original.shape[0]\n",
    "    last = Original.shape[1]-1\n",
    "    ind = np.arange(N)  # the x locations for the groups\n",
    "    width = 0.17       # the width of the bars\n",
    "    fig, ax = plt.subplots()\n",
    "    rects1 = ax.bar(ind, Original[:,last], width, color='r')\n",
    "    rects2 = ax.bar(ind + width, prediction[:,last], width, color='b')\n",
    "    rects3 = ax.bar(ind + width+width, np.round(prediction[:,last],2), width, color='g')\n",
    "\n",
    "    # add some text for labels, title and axes ticks\n",
    "    ax.set_ylabel('Death Probability')\n",
    "    ax.set_title('Comparation of Values')\n",
    "    ax.set_xticks(ind+ width / last)\n",
    "    ax.set_xticklabels(('G1', 'G2', 'G3', 'G4','G5','G6'))\n",
    "\n",
    "    ax.legend((rects1[0], rects2[0], rects3[0]), ('Original', 'Cross Value','Round Cross Value'))\n",
    "\n",
    "    plt.show()\n",
    "\n",
    "plotCompare(Original,crossValue)"
   ]
  },
  {
   "cell_type": "markdown",
   "metadata": {},
   "source": [
    "## Using an independent Implementation from\n",
    "http://www.quuxlabs.com/blog/2010/09/matrix-factorization-a-simple-tutorial-and-implementation-in-python/"
   ]
  },
  {
   "cell_type": "markdown",
   "metadata": {},
   "source": [
    "Modified by DavidGutierrez\n",
    "<br><b>R :</b> A matrix to be factorized, dimension N x M\n",
    "<br><b>K :</b> The number of latent features\n",
    "<br><b>Steps :</b> The maximum number of steps to perform the optimisation\n",
    "<br><b>Alpha :</b> The learning rate\n",
    "<br><b>Beta :</b> The regularization parameter\n",
    "<br>The final matrices P and Q"
   ]
  },
  {
   "cell_type": "code",
   "execution_count": 8,
   "metadata": {
    "collapsed": true
   },
   "outputs": [],
   "source": [
    "def matrix_factorization(R, K = 2, steps=5000, alpha=0.0002, beta=0.02,error = 0.001):\n",
    "    N = len(R)\n",
    "    M = len(R[0])\n",
    "    P = np.random.rand(N,K)\n",
    "    Q = np.random.rand(K,M)\n",
    "    for step in range(steps):\n",
    "        for i in range(len(R)):\n",
    "            for j in range(len(R[i])):\n",
    "                if R[i][j] > 0:\n",
    "                    eij = R[i][j] - np.dot(P[i,:],Q[:,j])\n",
    "                    for k in range(K):\n",
    "                        P[i][k] = P[i][k] + alpha * (2 * eij * Q[k][j] - beta * P[i][k])\n",
    "                        Q[k][j] = Q[k][j] + alpha * (2 * eij * P[i][k] - beta * Q[k][j])\n",
    "#        eR = np.dot(P,Q)\n",
    "        e = 0\n",
    "        for i in range(len(R)):\n",
    "            for j in range(len(R[i])):\n",
    "                if R[i][j] > 0:\n",
    "                    e = e + pow(R[i][j] - np.dot(P[i,:],Q[:,j]), 2)\n",
    "                    for k in range(K):\n",
    "                        e = e + (beta/2) * ( pow(P[i][k],2) + pow(Q[k][j],2) )\n",
    "        if e < error:\n",
    "            break\n",
    "    return P, Q"
   ]
  },
  {
   "cell_type": "code",
   "execution_count": 9,
   "metadata": {},
   "outputs": [],
   "source": [
    "nP, nQ = matrix_factorization(Original,K)"
   ]
  },
  {
   "cell_type": "code",
   "execution_count": 10,
   "metadata": {},
   "outputs": [
    {
     "data": {
      "text/plain": [
       "array([[ 0.43857224,  1.62109018,  1.57308418],\n",
       "       [ 0.51702398,  0.91951965,  1.41662595],\n",
       "       [-0.03500366,  0.71520285,  0.16357548],\n",
       "       [ 0.27268082, -0.17536622,  0.61242017],\n",
       "       [ 1.7108098 ,  1.08627132,  0.12711523]])"
      ]
     },
     "execution_count": 10,
     "metadata": {},
     "output_type": "execute_result"
    }
   ],
   "source": [
    "nP"
   ]
  },
  {
   "cell_type": "code",
   "execution_count": 11,
   "metadata": {},
   "outputs": [
    {
     "data": {
      "text/plain": [
       "array([[ 0.63645214, -0.11296299,  1.76481547,  0.4327517 ],\n",
       "       [ 1.10933295,  1.00844434,  1.75593909, -0.26747641],\n",
       "       [ 1.83671029,  0.90207543,  0.43374104,  0.78559351]])"
      ]
     },
     "execution_count": 11,
     "metadata": {},
     "output_type": "execute_result"
    }
   ],
   "source": [
    "nQ"
   ]
  },
  {
   "cell_type": "code",
   "execution_count": 12,
   "metadata": {},
   "outputs": [
    {
     "name": "stdout",
     "output_type": "stream",
     "text": [
      "[[ 4.96675887  3.00427736  4.30284586  0.99199422]\n",
      " [ 3.95104592  2.14678327  3.14152124  1.09068534]\n",
      " [ 1.07156071  0.8727538   1.26502705 -0.07794394]\n",
      " [ 1.1038472   0.34479928  0.4389307   0.64602272]\n",
      " [ 2.52735897  1.0168535   4.98182497  0.5496648 ]]\n"
     ]
    }
   ],
   "source": [
    "prediction = np.dot(nP,nQ)\n",
    "print(prediction)"
   ]
  },
  {
   "cell_type": "code",
   "execution_count": 13,
   "metadata": {},
   "outputs": [
    {
     "data": {
      "text/plain": [
       "array([[ 4.97,  3.  ,  4.3 ,  0.99],\n",
       "       [ 3.95,  2.15,  3.14,  1.09],\n",
       "       [ 1.07,  0.87,  1.27, -0.08],\n",
       "       [ 1.1 ,  0.34,  0.44,  0.65],\n",
       "       [ 2.53,  1.02,  4.98,  0.55]])"
      ]
     },
     "execution_count": 13,
     "metadata": {},
     "output_type": "execute_result"
    }
   ],
   "source": [
    "np.around(prediction,2)"
   ]
  },
  {
   "cell_type": "code",
   "execution_count": 14,
   "metadata": {},
   "outputs": [
    {
     "data": {
      "text/plain": [
       "array([[5, 3, 0, 1],\n",
       "       [4, 0, 0, 1],\n",
       "       [1, 1, 0, 0],\n",
       "       [1, 0, 0, 1],\n",
       "       [0, 1, 5, 0]])"
      ]
     },
     "execution_count": 14,
     "metadata": {},
     "output_type": "execute_result"
    }
   ],
   "source": [
    "Original"
   ]
  },
  {
   "cell_type": "code",
   "execution_count": 15,
   "metadata": {},
   "outputs": [
    {
     "data": {
      "image/png": "[encoded data removed]",
      "text/plain": [
       "<matplotlib.figure.Figure at 0x7f22a9c1bbe0>"
      ]
     },
     "metadata": {},
     "output_type": "display_data"
    }
   ],
   "source": [
    "plotCompare(Original,prediction)"
   ]
  },
  {
   "cell_type": "code",
   "execution_count": null,
   "metadata": {
    "collapsed": true
   },
   "outputs": [],
   "source": []
  }
 ],
 "metadata": {
  "kernelspec": {
   "display_name": "Python 3",
   "language": "python",
   "name": "python3"
  },
  "language_info": {
   "codemirror_mode": {
    "name": "ipython",
    "version": 3
   },
   "file_extension": ".py",
   "mimetype": "text/x-python",
   "name": "python",
   "nbconvert_exporter": "python",
   "pygments_lexer": "ipython3",
   "version": "3.4.3"
  }
 },
 "nbformat": 4,
 "nbformat_minor": 2
}
