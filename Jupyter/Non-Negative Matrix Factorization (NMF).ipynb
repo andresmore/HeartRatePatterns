{
 "cells": [
  {
   "cell_type": "markdown",
   "metadata": {},
   "source": [
    "The Objetive of the NMF is Find two non-negative matrices (W, H) whose product approximates the non-negative matrix X.\n",
    "This factorization can be used for example for dimensionality reduction, source separation or topic extraction."
   ]
  },
  {
   "cell_type": "markdown",
   "metadata": {},
   "source": [
    "# Using Scikit-learn\n",
    "http://scikit-learn.org/stable/modules/generated/sklearn.decomposition.NMF.html"
   ]
  },
  {
   "cell_type": "code",
   "execution_count": 1,
   "metadata": {
    "collapsed": true
   },
   "outputs": [],
   "source": [
    "import numpy as np\n",
    "from sklearn.decomposition import NMF"
   ]
  },
  {
   "cell_type": "markdown",
   "metadata": {},
   "source": [
    "Defining the model"
   ]
  },
  {
   "cell_type": "code",
   "execution_count": 2,
   "metadata": {},
   "outputs": [
    {
     "data": {
      "text/plain": [
       "NMF(alpha=0.0, beta_loss='frobenius', init='nndsvdar', l1_ratio=0.0,\n",
       "  max_iter=200, n_components=3, random_state=1, shuffle=False, solver='cd',\n",
       "  tol=0.0001, verbose=0)"
      ]
     },
     "execution_count": 2,
     "metadata": {},
     "output_type": "execute_result"
    }
   ],
   "source": [
    "K = 3\n",
    "model = NMF(n_components=K,init='nndsvdar',random_state=1) \n",
    "model"
   ]
  },
  {
   "cell_type": "markdown",
   "metadata": {},
   "source": [
    "A test Array"
   ]
  },
  {
   "cell_type": "code",
   "execution_count": 9,
   "metadata": {},
   "outputs": [],
   "source": [
    "import pandas as pd\n",
    "Original = [[5,3,0,1,4,1],\n",
    "     [4,0,0,3,1,1],\n",
    "     [1,8,2,1,0,0],\n",
    "     [1,4,1,0,0,1],\n",
    "     [0,1,7,1,5,0]]\n",
    "Original = np.array(Original)"
   ]
  },
  {
   "cell_type": "code",
   "execution_count": 10,
   "metadata": {
    "scrolled": true
   },
   "outputs": [],
   "source": [
    "W = model.fit_transform(Original)\n",
    "H = model.components_"
   ]
  },
  {
   "cell_type": "code",
   "execution_count": 11,
   "metadata": {},
   "outputs": [
    {
     "name": "stdout",
     "output_type": "stream",
     "text": [
      "W\n",
      "[[  7.11895523e-01   5.96403532e-02   2.31991623e+00]\n",
      " [  0.00000000e+00   0.00000000e+00   1.84397182e+00]\n",
      " [  2.31415571e+00   1.53726136e-01   0.00000000e+00]\n",
      " [  1.17083564e+00   0.00000000e+00   1.77326417e-01]\n",
      " [  1.41670544e-03   3.40462097e+00   0.00000000e+00]]\n",
      "H\n",
      "[[ 0.43918573  3.45085476  0.68869731  0.18432887  0.          0.1413571 ]\n",
      " [ 0.          0.29293663  2.05379032  0.29491054  1.47093367  0.        ]\n",
      " [ 2.08043206  0.13760857  0.          0.84735597  1.23899523  0.46273583]]\n"
     ]
    }
   ],
   "source": [
    "print(\"W\")\n",
    "print(W)\n",
    "print(\"H\")\n",
    "print(H)"
   ]
  },
  {
   "cell_type": "markdown",
   "metadata": {},
   "source": [
    "Now lets see how mush close to X are WxH and lets call it crossValue"
   ]
  },
  {
   "cell_type": "code",
   "execution_count": 12,
   "metadata": {
    "scrolled": true
   },
   "outputs": [
    {
     "name": "stdout",
     "output_type": "stream",
     "text": [
      "crossValue \n",
      " [[  5.13908244e+00   2.79335925e+00   6.12769311e-01   2.11460633e+00\n",
      "    2.96209214e+00   1.17413985e+00]\n",
      " [  3.83625810e+00   2.53746326e-01   0.00000000e+00   1.56250053e+00\n",
      "    2.28467229e+00   8.53271837e-01]\n",
      " [  1.01634416e+00   8.03084724e+00   1.90947406e+00   4.71901167e-01\n",
      "    2.26120949e-01   3.27122339e-01]\n",
      " [  8.83129868e-01   4.06478537e+00   8.06351354e-01   3.66077410e-01\n",
      "    2.19706585e-01   2.47561218e-01]\n",
      " [  6.22196814e-04   1.00222702e+00   6.99335328e+00   1.00431974e+00\n",
      "    5.00797162e+00   2.00261372e-04]]\n",
      "rounded Values\n",
      " [[ 5.  3.  1.  2.  3.  1.]\n",
      " [ 4.  0.  0.  2.  2.  1.]\n",
      " [ 1.  8.  2.  0.  0.  0.]\n",
      " [ 1.  4.  1.  0.  0.  0.]\n",
      " [ 0.  1.  7.  1.  5.  0.]]\n",
      "Original\n",
      " [[5 3 0 1 4 1]\n",
      " [4 0 0 3 1 1]\n",
      " [1 8 2 1 0 0]\n",
      " [1 4 1 0 0 1]\n",
      " [0 1 7 1 5 0]]\n"
     ]
    }
   ],
   "source": [
    "crossValue = np.dot(W,H)\n",
    "print(\"crossValue \\n\",crossValue)\n",
    "print(\"rounded Values\\n\",np.round(crossValue))\n",
    "print(\"Original\\n\",Original)"
   ]
  },
  {
   "cell_type": "code",
   "execution_count": 13,
   "metadata": {},
   "outputs": [],
   "source": [
    "import matplotlib.pyplot as plt\n",
    "def plotCompare(Original,prediction):\n",
    "    N = Original.shape[0]\n",
    "    last = Original.shape[1]-1\n",
    "    ind = np.arange(N)  # the x locations for the groups\n",
    "    width = 0.17       # the width of the bars\n",
    "    fig, ax = plt.subplots()\n",
    "    rects1 = ax.bar(ind, Original[:,last], width, color='r')\n",
    "    rects2 = ax.bar(ind + width, prediction[:,last], width, color='b')\n",
    "    rects3 = ax.bar(ind + width+width, np.round(prediction[:,last]), width, color='g')\n",
    "\n",
    "    # add some text for labels, title and axes ticks\n",
    "    ax.set_ylabel('Death Probability')\n",
    "    ax.set_title('Comparation of Values')\n",
    "    ax.set_xticks(ind+ width / last)\n",
    "    ax.set_xticklabels(('G1', 'G2', 'G3', 'G4','G5','G6'))\n",
    "\n",
    "    ax.legend((rects1[0], rects2[0], rects3[0]), ('Original', 'Cross Value','Round Cross Value'))\n",
    "\n",
    "    plt.show()"
   ]
  },
  {
   "cell_type": "code",
   "execution_count": 14,
   "metadata": {},
   "outputs": [
    {
     "data": {
      "image/png": "[encoded data removed]",
      "text/plain": [
       "<matplotlib.figure.Figure at 0x7f080bb24438>"
      ]
     },
     "metadata": {},
     "output_type": "display_data"
    }
   ],
   "source": [
    "plotCompare(Original,crossValue)"
   ]
  },
  {
   "cell_type": "code",
   "execution_count": null,
   "metadata": {
    "collapsed": true
   },
   "outputs": [],
   "source": []
  }
 ],
 "metadata": {
  "kernelspec": {
   "display_name": "Python 3",
   "language": "python",
   "name": "python3"
  },
  "language_info": {
   "codemirror_mode": {
    "name": "ipython",
    "version": 3
   },
   "file_extension": ".py",
   "mimetype": "text/x-python",
   "name": "python",
   "nbconvert_exporter": "python",
   "pygments_lexer": "ipython3",
   "version": "3.4.3"
  }
 },
 "nbformat": 4,
 "nbformat_minor": 2
}
