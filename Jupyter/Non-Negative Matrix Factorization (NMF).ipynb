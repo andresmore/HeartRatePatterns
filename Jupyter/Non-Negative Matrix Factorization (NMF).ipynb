{
 "cells": [
  {
   "cell_type": "markdown",
   "metadata": {},
   "source": [
    "The Objetive of the NMF is Find two non-negative matrices (W, H) whose product approximates the non-negative matrix X.\n",
    "This factorization can be used for example for dimensionality reduction, source separation or topic extraction."
   ]
  },
  {
   "cell_type": "markdown",
   "metadata": {},
   "source": [
    "# Using Scikit-learn\n",
    "http://scikit-learn.org/stable/modules/generated/sklearn.decomposition.NMF.html"
   ]
  },
  {
   "cell_type": "code",
   "execution_count": 1,
   "metadata": {
    "collapsed": true
   },
   "outputs": [],
   "source": [
    "import numpy as np\n",
    "from sklearn.decomposition import NMF"
   ]
  },
  {
   "cell_type": "markdown",
   "metadata": {},
   "source": [
    "Defining the model"
   ]
  },
  {
   "cell_type": "code",
   "execution_count": 15,
   "metadata": {},
   "outputs": [
    {
     "data": {
      "text/plain": [
       "NMF(alpha=0.0, beta_loss='frobenius', init='nndsvdar', l1_ratio=0.0,\n",
       "  max_iter=200, n_components=3, random_state=None, shuffle=False,\n",
       "  solver='mu', tol=0.0001, verbose=0)"
      ]
     },
     "execution_count": 15,
     "metadata": {},
     "output_type": "execute_result"
    }
   ],
   "source": [
    "K = 3\n",
    "model = NMF(n_components=K,init='nndsvdar',solver='mu') \n",
    "model"
   ]
  },
  {
   "cell_type": "markdown",
   "metadata": {},
   "source": [
    "A test Array"
   ]
  },
  {
   "cell_type": "code",
   "execution_count": 16,
   "metadata": {},
   "outputs": [],
   "source": [
    "Original = [\n",
    "    [5,3,0,1],\n",
    "    [4,0,0,1],\n",
    "    [1,1,0,0],\n",
    "    [1,0,0,1],\n",
    "    [0,1,5,0]\n",
    "]\n",
    "Original = np.array(Original)"
   ]
  },
  {
   "cell_type": "code",
   "execution_count": 17,
   "metadata": {
    "scrolled": true
   },
   "outputs": [
    {
     "name": "stderr",
     "output_type": "stream",
     "text": [
      "/usr/local/lib/python3.4/dist-packages/sklearn/decomposition/nmf.py:1035: ConvergenceWarning: Maximum number of iteration 200 reached. Increase it to improve convergence.\n",
      "  \" improve convergence.\" % max_iter, ConvergenceWarning)\n"
     ]
    }
   ],
   "source": [
    "W = model.fit_transform(Original)\n",
    "H = model.components_"
   ]
  },
  {
   "cell_type": "code",
   "execution_count": 18,
   "metadata": {},
   "outputs": [
    {
     "name": "stdout",
     "output_type": "stream",
     "text": [
      "W\n",
      "[[  1.78496691e+000   1.27693888e-003   2.07277503e+000]\n",
      " [  1.45817386e+000   0.00000000e+000   5.66412555e-119]\n",
      " [  3.38293620e-001   4.16019471e-004   6.93587141e-001]\n",
      " [  4.25918143e-001   0.00000000e+000   2.70926024e-129]\n",
      " [  4.74021602e-006   2.25167102e+000   5.83089502e-003]]\n",
      "H\n",
      "[[  2.75062282e+000   1.22090230e-002   4.29515255e-302   6.54227995e-001]\n",
      " [  5.12274525e-013   4.40393638e-001   2.22057227e+000   7.71809667e-032]\n",
      " [  2.45691553e-002   1.43640107e+000   6.67755646e-042   7.26672309e-022]]\n"
     ]
    }
   ],
   "source": [
    "print(\"W\")\n",
    "print(W)\n",
    "print(\"H\")\n",
    "print(H)"
   ]
  },
  {
   "cell_type": "markdown",
   "metadata": {},
   "source": [
    "Now lets see how mush close to X are WxH and lets call it crossValue"
   ]
  },
  {
   "cell_type": "code",
   "execution_count": 19,
   "metadata": {
    "scrolled": true
   },
   "outputs": [
    {
     "name": "stdout",
     "output_type": "stream",
     "text": [
      "crossValue \n",
      " [[  4.96069703e+000   2.99969133e+000   2.83553507e-003   1.16777532e+000]\n",
      " [  4.01088629e+000   1.78028782e-002   3.78225182e-160   9.53978161e-001]\n",
      " [  9.47559000e-001   1.00058276e+000   9.23801301e-004   2.21321157e-001]\n",
      " [  1.17154016e+000   5.20004441e-003   1.80912382e-170   2.78647573e-001]\n",
      " [  1.56298713e-004   9.99997153e-001   4.99999822e+000   3.10118203e-006]]\n",
      "rounded Values\n",
      " [[ 5.  3.  0.  1.]\n",
      " [ 4.  0.  0.  1.]\n",
      " [ 1.  1.  0.  0.]\n",
      " [ 1.  0.  0.  0.]\n",
      " [ 0.  1.  5.  0.]]\n",
      "Original\n",
      " [[5 3 0 1]\n",
      " [4 0 0 1]\n",
      " [1 1 0 0]\n",
      " [1 0 0 1]\n",
      " [0 1 5 0]]\n"
     ]
    }
   ],
   "source": [
    "crossValue = np.dot(W,H)\n",
    "print(\"crossValue \\n\",crossValue)\n",
    "print(\"rounded Values\\n\",np.round(crossValue))\n",
    "print(\"Original\\n\",Original)"
   ]
  },
  {
   "cell_type": "code",
   "execution_count": 20,
   "metadata": {},
   "outputs": [
    {
     "data": {
      "image/png": "[encoded data removed]",
      "text/plain": [
       "<matplotlib.figure.Figure at 0x7efd09c4c630>"
      ]
     },
     "metadata": {},
     "output_type": "display_data"
    }
   ],
   "source": [
    "import matplotlib.pyplot as plt\n",
    "def plotCompare(Original,prediction):\n",
    "    N = Original.shape[0]\n",
    "    last = Original.shape[1]-1\n",
    "    ind = np.arange(N)  # the x locations for the groups\n",
    "    width = 0.17       # the width of the bars\n",
    "    fig, ax = plt.subplots()\n",
    "    rects1 = ax.bar(ind, Original[:,last], width, color='r')\n",
    "    rects2 = ax.bar(ind + width, prediction[:,last], width, color='b')\n",
    "    rects3 = ax.bar(ind + width+width, np.round(prediction[:,last]), width, color='g')\n",
    "\n",
    "    # add some text for labels, title and axes ticks\n",
    "    ax.set_ylabel('Death Probability')\n",
    "    ax.set_title('Comparation of Values')\n",
    "    ax.set_xticks(ind+ width / last)\n",
    "    ax.set_xticklabels(('G1', 'G2', 'G3', 'G4','G5','G6'))\n",
    "\n",
    "    ax.legend((rects1[0], rects2[0], rects3[0]), ('Original', 'Cross Value','Round Cross Value'))\n",
    "\n",
    "    plt.show()\n",
    "\n",
    "plotCompare(Original,crossValue)"
   ]
  },
  {
   "cell_type": "raw",
   "metadata": {},
   "source": [
    "Original Code from: \n",
    "http://www.quuxlabs.com/blog/2010/09/matrix-factorization-a-simple-tutorial-and-implementation-in-python/\n",
    "Modified by DavidGutierrez\n",
    "R     : a matrix to be factorized, dimension N x M\n",
    "K     : the number of latent features\n",
    "steps : the maximum number of steps to perform the optimisation\n",
    "alpha : the learning rate\n",
    "beta  : the regularization parameter\n",
    "the final matrices P and Q"
   ]
  },
  {
   "cell_type": "code",
   "execution_count": 21,
   "metadata": {},
   "outputs": [],
   "source": [
    "def matrix_factorization(R, K = 2, steps=5000, alpha=0.0002, beta=0.02):\n",
    "    N = len(R)\n",
    "    M = len(R[0])\n",
    "    P = np.random.rand(N,K)\n",
    "    Q = np.random.rand(M,K).T\n",
    "    for step in range(steps):\n",
    "        for i in range(len(R)):\n",
    "            for j in range(len(R[i])):\n",
    "                if R[i][j] > 0:\n",
    "                    eij = R[i][j] - np.dot(P[i,:],Q[:,j])\n",
    "                    for k in range(K):\n",
    "                        P[i][k] = P[i][k] + alpha * (2 * eij * Q[k][j] - beta * P[i][k])\n",
    "                        Q[k][j] = Q[k][j] + alpha * (2 * eij * P[i][k] - beta * Q[k][j])\n",
    "        eR = np.dot(P,Q)\n",
    "        e = 0\n",
    "        for i in range(len(R)):\n",
    "            for j in range(len(R[i])):\n",
    "                if R[i][j] > 0:\n",
    "                    e = e + pow(R[i][j] - np.dot(P[i,:],Q[:,j]), 2)\n",
    "                    for k in range(K):\n",
    "                        e = e + (beta/2) * ( pow(P[i][k],2) + pow(Q[k][j],2) )\n",
    "        if e < 0.001:\n",
    "            break\n",
    "    return P, Q"
   ]
  },
  {
   "cell_type": "code",
   "execution_count": 22,
   "metadata": {},
   "outputs": [],
   "source": [
    "\n",
    "nP, nQ = matrix_factorization(Original,K)"
   ]
  },
  {
   "cell_type": "code",
   "execution_count": 23,
   "metadata": {},
   "outputs": [
    {
     "data": {
      "text/plain": [
       "array([[ 0.63261195,  1.39593858,  1.85233856],\n",
       "       [ 1.25943276,  0.81005122,  1.26843841],\n",
       "       [-0.20726658,  0.27580342,  0.63917182],\n",
       "       [ 0.06841222,  0.82264097, -0.02680462],\n",
       "       [ 1.80998265,  0.71006737,  0.81940248]])"
      ]
     },
     "execution_count": 23,
     "metadata": {},
     "output_type": "execute_result"
    }
   ],
   "source": [
    "nP"
   ]
  },
  {
   "cell_type": "code",
   "execution_count": 24,
   "metadata": {},
   "outputs": [
    {
     "data": {
      "text/plain": [
       "array([[ 0.97262692, -0.26281426,  1.82127263,  0.36093037],\n",
       "       [ 1.26456786,  0.96617366,  1.34203952,  0.87145778],\n",
       "       [ 1.38258693,  0.97569447,  0.89570506, -0.18427333]])"
      ]
     },
     "execution_count": 24,
     "metadata": {},
     "output_type": "execute_result"
    }
   ],
   "source": [
    "nQ"
   ]
  },
  {
   "cell_type": "code",
   "execution_count": 25,
   "metadata": {},
   "outputs": [
    {
     "name": "stdout",
     "output_type": "stream",
     "text": [
      "[[ 4.94157353  2.98977612  4.68471258  1.1034938 ]\n",
      " [ 4.00304929  1.6892616   4.51703787  0.9267536 ]\n",
      " [ 1.03088969  0.94458302  0.56515957  0.04775991]\n",
      " [ 1.06976517  0.75068121  1.20460496  0.7465283 ]\n",
      " [ 3.79126137  1.0098456   4.98335328  1.12107742]]\n"
     ]
    }
   ],
   "source": [
    "prediction = np.dot(nP,nQ)\n",
    "print(prediction)"
   ]
  },
  {
   "cell_type": "code",
   "execution_count": 26,
   "metadata": {},
   "outputs": [
    {
     "data": {
      "text/plain": [
       "array([[ 5.,  3.,  5.,  1.],\n",
       "       [ 4.,  2.,  5.,  1.],\n",
       "       [ 1.,  1.,  1.,  0.],\n",
       "       [ 1.,  1.,  1.,  1.],\n",
       "       [ 4.,  1.,  5.,  1.]])"
      ]
     },
     "execution_count": 26,
     "metadata": {},
     "output_type": "execute_result"
    }
   ],
   "source": [
    "np.round(prediction)"
   ]
  },
  {
   "cell_type": "code",
   "execution_count": 27,
   "metadata": {},
   "outputs": [
    {
     "data": {
      "image/png": "[encoded data removed]",
      "text/plain": [
       "<matplotlib.figure.Figure at 0x7efd09980f98>"
      ]
     },
     "metadata": {},
     "output_type": "display_data"
    }
   ],
   "source": [
    "plotCompare(Original,prediction)"
   ]
  },
  {
   "cell_type": "code",
   "execution_count": null,
   "metadata": {
    "collapsed": true
   },
   "outputs": [],
   "source": []
  }
 ],
 "metadata": {
  "kernelspec": {
   "display_name": "Python 3",
   "language": "python",
   "name": "python3"
  },
  "language_info": {
   "codemirror_mode": {
    "name": "ipython",
    "version": 3
   },
   "file_extension": ".py",
   "mimetype": "text/x-python",
   "name": "python",
   "nbconvert_exporter": "python",
   "pygments_lexer": "ipython3",
   "version": "3.4.3"
  }
 },
 "nbformat": 4,
 "nbformat_minor": 2
}
