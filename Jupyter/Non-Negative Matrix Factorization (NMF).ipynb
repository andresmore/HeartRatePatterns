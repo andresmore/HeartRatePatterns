{
 "cells": [
  {
   "cell_type": "markdown",
   "metadata": {},
   "source": [
    "The Objetive of the NMF is Find two non-negative matrices (W, H) whose product approximates the non-negative matrix X.\n",
    "This factorization can be used for example for dimensionality reduction, source separation or topic extraction."
   ]
  },
  {
   "cell_type": "markdown",
   "metadata": {},
   "source": [
    "# Using Scikit-learn\n",
    "http://scikit-learn.org/stable/modules/generated/sklearn.decomposition.NMF.html"
   ]
  },
  {
   "cell_type": "code",
   "execution_count": 1,
   "metadata": {
    "collapsed": true
   },
   "outputs": [],
   "source": [
    "import numpy as np\n",
    "from sklearn.decomposition import NMF"
   ]
  },
  {
   "cell_type": "markdown",
   "metadata": {},
   "source": [
    "Defining the model"
   ]
  },
  {
   "cell_type": "code",
   "execution_count": 25,
   "metadata": {},
   "outputs": [
    {
     "data": {
      "text/plain": [
       "NMF(alpha=0.0, beta_loss='frobenius', init=None, l1_ratio=0.0, max_iter=200,\n",
       "  n_components=4, random_state=None, shuffle=False, solver='cd',\n",
       "  tol=0.0001, verbose=0)"
      ]
     },
     "execution_count": 25,
     "metadata": {},
     "output_type": "execute_result"
    }
   ],
   "source": [
    "K = 4\n",
    "model = NMF(n_components=K) \n",
    "model"
   ]
  },
  {
   "cell_type": "markdown",
   "metadata": {},
   "source": [
    "A test Array"
   ]
  },
  {
   "cell_type": "code",
   "execution_count": 26,
   "metadata": {
    "collapsed": true
   },
   "outputs": [],
   "source": [
    "Original = [\n",
    "    [5,3,0,1],\n",
    "    [4,0,0,1],\n",
    "    [3,2,0,0],\n",
    "    [7,0,4,1],\n",
    "    [0,2,5,0]\n",
    "]\n",
    "Original = np.array(Original)"
   ]
  },
  {
   "cell_type": "code",
   "execution_count": 27,
   "metadata": {
    "collapsed": true,
    "scrolled": true
   },
   "outputs": [],
   "source": [
    "W = model.fit_transform(Original)\n",
    "H = model.components_"
   ]
  },
  {
   "cell_type": "code",
   "execution_count": 28,
   "metadata": {},
   "outputs": [
    {
     "name": "stdout",
     "output_type": "stream",
     "text": [
      "W\n",
      " [[ 1.2   0.8   1.94  0.  ]\n",
      " [ 0.55  0.    1.95  0.  ]\n",
      " [ 1.89  0.54  0.    0.  ]\n",
      " [ 2.44  0.    1.95  1.14]\n",
      " [ 0.    0.54  0.    1.42]]\n",
      "H\n",
      " [[ 1.59  0.    0.    0.  ]\n",
      " [ 0.    3.73  0.    0.  ]\n",
      " [ 1.6   0.    0.    0.51]\n",
      " [ 0.    0.    3.52  0.  ]]\n"
     ]
    }
   ],
   "source": [
    "print(\"W\\n\",np.round(W,2))\n",
    "print(\"H\\n\",np.round(H,2))"
   ]
  },
  {
   "cell_type": "markdown",
   "metadata": {},
   "source": [
    "Now lets see how mush close to X are WxH and lets call it crossValue"
   ]
  },
  {
   "cell_type": "code",
   "execution_count": 6,
   "metadata": {
    "scrolled": true
   },
   "outputs": [
    {
     "name": "stdout",
     "output_type": "stream",
     "text": [
      "crossValue \n",
      " [[  5.03046559e+00   2.99952984e+00   2.29664084e-07   8.11730696e-01]\n",
      " [  4.05529449e+00   0.00000000e+00   1.86884347e-07   6.60528886e-01]\n",
      " [  2.92314290e+00   2.00121146e+00   1.33269074e-07   4.71029674e-01]\n",
      " [  6.97775964e+00   6.43457512e-04   3.99999976e+00   1.13654183e+00]\n",
      " [  3.12329097e-02   1.99949260e+00   5.00000019e+00   0.00000000e+00]]\n",
      "rounded Values\n",
      " [[ 5.03  3.    0.    0.81]\n",
      " [ 4.06  0.    0.    0.66]\n",
      " [ 2.92  2.    0.    0.47]\n",
      " [ 6.98  0.    4.    1.14]\n",
      " [ 0.03  2.    5.    0.  ]]\n",
      "Original\n",
      " [[5 3 0 1]\n",
      " [4 0 0 1]\n",
      " [3 2 0 0]\n",
      " [7 0 4 1]\n",
      " [0 2 5 0]]\n"
     ]
    }
   ],
   "source": [
    "crossValue = np.dot(W,H)\n",
    "print(\"crossValue \\n\",crossValue)\n",
    "print(\"rounded Values\\n\",np.round(crossValue,2))\n",
    "print(\"Original\\n\",Original)"
   ]
  },
  {
   "cell_type": "code",
   "execution_count": 17,
   "metadata": {
    "collapsed": true
   },
   "outputs": [],
   "source": [
    "import matplotlib.pyplot as plt\n",
    "def plotCompare(Original,prediction):\n",
    "    N = Original.shape[0]\n",
    "    last = Original.shape[1]-1\n",
    "    ind = np.arange(N)  # the x locations for the groups\n",
    "    width = 0.17       # the width of the bars\n",
    "    fig, ax = plt.subplots()\n",
    "    rects1 = ax.bar(ind, Original[:,last], width, color='r')\n",
    "    rects2 = ax.bar(ind + width, prediction[:,last], width, color='b')\n",
    "#    rects3 = ax.bar(ind + width+width, np.round(prediction[:,last],2), width, color='g')\n",
    "\n",
    "    # add some text for labels, title and axes ticks\n",
    "    ax.set_ylabel('Last Value')\n",
    "    ax.set_title('Row Values')\n",
    "    ax.set_xticks(ind+ width / last)\n",
    "    ax.set_xticklabels(('G1', 'G2', 'G3', 'G4','G5','G6'))\n",
    "\n",
    "    ax.legend((rects1[0], rects2[0]), ('Original', 'Cross Value'))\n",
    "\n",
    "    plt.show()"
   ]
  },
  {
   "cell_type": "code",
   "execution_count": 18,
   "metadata": {},
   "outputs": [
    {
     "data": {
      "image/png": "[encoded data removed]",
      "text/plain": [
       "<matplotlib.figure.Figure at 0x7ff1f1a82a58>"
      ]
     },
     "metadata": {},
     "output_type": "display_data"
    }
   ],
   "source": [
    "plotCompare(Original,crossValue)"
   ]
  },
  {
   "cell_type": "markdown",
   "metadata": {},
   "source": [
    "## Using an independent Implementation from\n",
    "http://www.quuxlabs.com/blog/2010/09/matrix-factorization-a-simple-tutorial-and-implementation-in-python/"
   ]
  },
  {
   "cell_type": "markdown",
   "metadata": {},
   "source": [
    "Modified by DavidGutierrez\n",
    "<br><b>R :</b> A matrix to be factorized, dimension N x M\n",
    "<br><b>K :</b> The number of latent features\n",
    "<br><b>Steps :</b> The maximum number of steps to perform the optimisation\n",
    "<br><b>Alpha :</b> The learning rate\n",
    "<br><b>Beta :</b> The regularization parameter\n",
    "<br>The final matrices W and H"
   ]
  },
  {
   "cell_type": "code",
   "execution_count": 9,
   "metadata": {
    "collapsed": true
   },
   "outputs": [],
   "source": [
    "def matrix_factorization(R, K = 2, steps=5000, alpha=0.0002, beta=0.02,error = 0.001):\n",
    "    W = np.random.rand(len(R),K)\n",
    "    H = np.random.rand(K,len(R[0]))\n",
    "    for step in range(steps):\n",
    "        for i in range(len(R)):\n",
    "            for j in range(len(R[i])):\n",
    "                if R[i][j] > 0:\n",
    "                    eij = R[i][j] - np.dot(W[i,:],H[:,j])\n",
    "                    for k in range(K):\n",
    "                        W[i][k] = W[i][k] + alpha * (2 * eij * H[k][j] - beta * W[i][k])\n",
    "                        H[k][j] = H[k][j] + alpha * (2 * eij * W[i][k] - beta * H[k][j])\n",
    "#        eR = np.dot(W,H)\n",
    "        e = 0\n",
    "        for i in range(len(R)):\n",
    "            for j in range(len(R[i])):\n",
    "                if R[i][j] > 0:\n",
    "                    e = e + pow(R[i][j] - np.dot(W[i,:],H[:,j]), 2)\n",
    "                    for k in range(K):\n",
    "                        e = e + (beta/2) * ( pow(W[i][k],2) + pow(H[k][j],2) )\n",
    "        if e < error:\n",
    "            break\n",
    "    return W,H"
   ]
  },
  {
   "cell_type": "code",
   "execution_count": 10,
   "metadata": {
    "collapsed": true
   },
   "outputs": [],
   "source": [
    "W, H = matrix_factorization(Original,K)"
   ]
  },
  {
   "cell_type": "code",
   "execution_count": 11,
   "metadata": {},
   "outputs": [
    {
     "data": {
      "text/plain": [
       "array([[ 1.27400028,  1.04872357,  0.79882763],\n",
       "       [ 0.80942037,  0.78741285,  0.86725508],\n",
       "       [ 0.3343696 ,  0.87369487,  0.61370185],\n",
       "       [ 1.22946785,  1.98119779,  0.7296027 ],\n",
       "       [ 1.36976519,  0.44254733,  1.5976221 ]])"
      ]
     },
     "execution_count": 11,
     "metadata": {},
     "output_type": "execute_result"
    }
   ],
   "source": [
    "W"
   ]
  },
  {
   "cell_type": "code",
   "execution_count": 12,
   "metadata": {},
   "outputs": [
    {
     "data": {
      "text/plain": [
       "array([[ 1.51096272,  0.60613373,  1.17278376,  0.30635648],\n",
       "       [ 2.01389272,  1.49513784,  0.67746003,  0.09406091],\n",
       "       [ 1.36757285,  0.48558875,  1.83642104,  0.65647615]])"
      ]
     },
     "execution_count": 12,
     "metadata": {},
     "output_type": "execute_result"
    }
   ],
   "source": [
    "H"
   ]
  },
  {
   "cell_type": "code",
   "execution_count": 13,
   "metadata": {},
   "outputs": [
    {
     "name": "stdout",
     "output_type": "stream",
     "text": [
      "[[ 5.12943865  2.72810253  3.67157899  1.01335342]\n",
      " [ 3.99480351  2.08903704  3.07536128  0.89136822]\n",
      " [ 3.10402974  1.80697367  2.11105159  0.58749746]\n",
      " [ 6.84538474  4.06167258  4.12393999  1.04197549]\n",
      " [ 5.14577159  2.26771746  4.84015334  1.51006366]]\n"
     ]
    }
   ],
   "source": [
    "prediction = np.dot(W,H)\n",
    "print(prediction)"
   ]
  },
  {
   "cell_type": "code",
   "execution_count": 14,
   "metadata": {},
   "outputs": [
    {
     "data": {
      "text/plain": [
       "array([[ 5.13,  2.73,  3.67,  1.01],\n",
       "       [ 3.99,  2.09,  3.08,  0.89],\n",
       "       [ 3.1 ,  1.81,  2.11,  0.59],\n",
       "       [ 6.85,  4.06,  4.12,  1.04],\n",
       "       [ 5.15,  2.27,  4.84,  1.51]])"
      ]
     },
     "execution_count": 14,
     "metadata": {},
     "output_type": "execute_result"
    }
   ],
   "source": [
    "np.around(prediction,2)"
   ]
  },
  {
   "cell_type": "code",
   "execution_count": 15,
   "metadata": {},
   "outputs": [
    {
     "data": {
      "text/plain": [
       "array([[5, 3, 0, 1],\n",
       "       [4, 0, 0, 1],\n",
       "       [3, 2, 0, 0],\n",
       "       [7, 0, 4, 1],\n",
       "       [0, 2, 5, 0]])"
      ]
     },
     "execution_count": 15,
     "metadata": {},
     "output_type": "execute_result"
    }
   ],
   "source": [
    "Original"
   ]
  },
  {
   "cell_type": "code",
   "execution_count": 19,
   "metadata": {},
   "outputs": [
    {
     "data": {
      "image/png": "[encoded data removed]",
      "text/plain": [
       "<matplotlib.figure.Figure at 0x7ff1f19488d0>"
      ]
     },
     "metadata": {},
     "output_type": "display_data"
    }
   ],
   "source": [
    "plotCompare(Original,prediction)"
   ]
  },
  {
   "cell_type": "code",
   "execution_count": null,
   "metadata": {
    "collapsed": true
   },
   "outputs": [],
   "source": []
  }
 ],
 "metadata": {
  "kernelspec": {
   "display_name": "Python 3",
   "language": "python",
   "name": "python3"
  },
  "language_info": {
   "codemirror_mode": {
    "name": "ipython",
    "version": 3
   },
   "file_extension": ".py",
   "mimetype": "text/x-python",
   "name": "python",
   "nbconvert_exporter": "python",
   "pygments_lexer": "ipython3",
   "version": "3.4.3"
  }
 },
 "nbformat": 4,
 "nbformat_minor": 2
}
