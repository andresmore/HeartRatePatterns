{
 "cells": [
  {
   "cell_type": "markdown",
   "metadata": {},
   "source": [
    "# 05 Non_Negative Matrix Factorization Movies"
   ]
  },
  {
   "cell_type": "code",
   "execution_count": 1,
   "metadata": {},
   "outputs": [],
   "source": [
    "from __future__ import print_function\n",
    "from time import time\n",
    "from sklearn.feature_extraction.text import TfidfVectorizer, CountVectorizer\n",
    "from sklearn.decomposition import NMF, LatentDirichletAllocation\n",
    "from sklearn.datasets import fetch_20newsgroups\n",
    "import numpy as np\n",
    "np.set_printoptions(suppress=True)"
   ]
  },
  {
   "cell_type": "code",
   "execution_count": 2,
   "metadata": {},
   "outputs": [
    {
     "name": "stdout",
     "output_type": "stream",
     "text": [
      "['Matrix', 'Alien', 'Serenity', 'Casablanca', 'Amelie']\n",
      "[[2 4 4 0 0]\n",
      " [0 5 5 0 0]\n",
      " [1 2 2 0 0]\n",
      " [1 0 0 1 1]\n",
      " [3 0 0 3 3]\n",
      " [4 0 0 4 4]\n",
      " [5 0 0 5 5]]\n"
     ]
    }
   ],
   "source": [
    "movies = [\"Matrix\",\"Alien\",\"Serenity\",\"Casablanca\",\"Amelie\"]\n",
    "moviesxuser = np.array([\n",
    "    [ 2,4,4,0, 0],\n",
    " [ 0,5,5,0, 0],\n",
    " [ 1,2,2,0, 0],\n",
    " [ 1,0,0,1, 1],\n",
    " [ 3,0,0,3, 3],\n",
    " [ 4,0,0,4, 4],\n",
    " [ 5,0,0,5, 5]])\n",
    "print(movies)\n",
    "print(moviesxuser)\n",
    "n_components = 3"
   ]
  },
  {
   "cell_type": "code",
   "execution_count": 3,
   "metadata": {
    "scrolled": true
   },
   "outputs": [
    {
     "name": "stdout",
     "output_type": "stream",
     "text": [
      "[[ 0.0120135   1.78641894  1.2475875 ]\n",
      " [ 0.          2.26289743  0.        ]\n",
      " [ 0.00693544  0.89088871  0.611759  ]\n",
      " [ 0.4851928   0.          0.        ]\n",
      " [ 1.46358762  0.          0.        ]\n",
      " [ 1.95278503  0.          0.        ]\n",
      " [ 2.44198244  0.          0.        ]]\n",
      "done in 0.022s.\n"
     ]
    }
   ],
   "source": [
    "# Fit the NMF model\n",
    "t0 = time()\n",
    "nmf = NMF(n_components=n_components, random_state=1,alpha=.1, l1_ratio=.5)\n",
    "W = nmf.fit_transform(moviesxuser)\n",
    "H = nmf.components_\n",
    "print(W)\n",
    "print(\"done in %0.3fs.\" % (time() - t0))"
   ]
  },
  {
   "cell_type": "code",
   "execution_count": 4,
   "metadata": {},
   "outputs": [
    {
     "data": {
      "text/plain": [
       "0.15656451511696387"
      ]
     },
     "execution_count": 4,
     "metadata": {},
     "output_type": "execute_result"
    }
   ],
   "source": [
    "nmf.reconstruction_err_"
   ]
  },
  {
   "cell_type": "code",
   "execution_count": 24,
   "metadata": {},
   "outputs": [],
   "source": [
    "def print_top_words(model, feature_names, n_top_words):\n",
    "    for topic_idx, topic in enumerate(model.components_):\n",
    "        message = \"Topic #%d: \" % topic_idx\n",
    "        message += \" \".join([feature_names[i] for i in topic.argsort()[:-n_top_words - 1:-1] if topic[i] > 0] )\n",
    "        print(message)\n",
    "#        print(topic.argsort(),topic,feature_names)\n",
    "    print()"
   ]
  },
  {
   "cell_type": "code",
   "execution_count": 25,
   "metadata": {
    "scrolled": false
   },
   "outputs": [
    {
     "name": "stdout",
     "output_type": "stream",
     "text": [
      "\n",
      "Topics in NMF model (Frobenius norm):\n",
      "[[ 2.03605042  0.          0.          2.03591561  2.03591561]\n",
      " [ 0.02494155  2.19299697  2.19299697  0.          0.        ]\n",
      " [ 1.48864702  0.04094544  0.04094544  0.          0.        ]]\n",
      "Topic #0: Matrix Amelie Casablanca\n",
      "Topic #1: Serenity Alien Matrix\n",
      "Topic #2: Matrix Serenity Alien\n",
      "\n"
     ]
    }
   ],
   "source": [
    "print(\"\\nTopics in NMF model (Frobenius norm):\")\n",
    "n_top_words = 5\n",
    "print(H)\n",
    "\n",
    "print_top_words(nmf, movies, n_top_words)"
   ]
  },
  {
   "cell_type": "code",
   "execution_count": 7,
   "metadata": {},
   "outputs": [
    {
     "name": "stdout",
     "output_type": "stream",
     "text": [
      "[[ 2.03605042  0.          0.          2.03591561  2.03591561]\n",
      " [ 0.02494155  2.19299697  2.19299697  0.          0.        ]\n",
      " [ 1.48864702  0.04094544  0.04094544  0.          0.        ]]\n"
     ]
    }
   ],
   "source": [
    "print(nmf.components_)"
   ]
  },
  {
   "cell_type": "code",
   "execution_count": 8,
   "metadata": {},
   "outputs": [
    {
     "name": "stdout",
     "output_type": "stream",
     "text": [
      "[[ 0.01902652  0.          1.92043194]]\n"
     ]
    }
   ],
   "source": [
    "W_new = nmf.transform(np.array([[3, 0, 0,0,0]]))\n",
    "print(W_new)"
   ]
  },
  {
   "cell_type": "code",
   "execution_count": 9,
   "metadata": {},
   "outputs": [
    {
     "name": "stdout",
     "output_type": "stream",
     "text": [
      "[[ 0.81131346  0.          0.        ]]\n"
     ]
    }
   ],
   "source": [
    "W_new = nmf.transform(np.array([[0, 0, 0,0,5]]))\n",
    "print(W_new)"
   ]
  },
  {
   "cell_type": "code",
   "execution_count": 10,
   "metadata": {},
   "outputs": [
    {
     "name": "stdout",
     "output_type": "stream",
     "text": [
      "[[ 0.24896827  0.          0.3014132 ]]\n"
     ]
    }
   ],
   "source": [
    "W_new = nmf.transform(np.array([[1, 0, 0,1,0]]))\n",
    "print(W_new)"
   ]
  },
  {
   "cell_type": "code",
   "execution_count": 11,
   "metadata": {},
   "outputs": [
    {
     "name": "stdout",
     "output_type": "stream",
     "text": [
      "[[ 0.01906499  0.          1.92038056]\n",
      " [ 0.81131346  0.          0.        ]\n",
      " [ 0.64826063  0.          0.        ]]\n"
     ]
    }
   ],
   "source": [
    "W_new = nmf.transform(np.array([[3, 0, 0,0,0],[0, 0, 0,0,5],[1, 0, 0,3,0]]))\n",
    "print(W_new)"
   ]
  },
  {
   "cell_type": "code",
   "execution_count": 12,
   "metadata": {},
   "outputs": [
    {
     "name": "stdout",
     "output_type": "stream",
     "text": [
      "[[ 2.  4.  4.  0.  0.]\n",
      " [ 0.  5.  5.  0.  0.]\n",
      " [ 1.  2.  2.  0.  0.]\n",
      " [ 1.  0.  0.  1.  1.]\n",
      " [ 3.  0.  0.  3.  3.]\n",
      " [ 4.  0.  0.  4.  4.]\n",
      " [ 5.  0.  0.  5.  5.]]\n",
      "[[2 4 4 0 0]\n",
      " [0 5 5 0 0]\n",
      " [1 2 2 0 0]\n",
      " [1 0 0 1 1]\n",
      " [3 0 0 3 3]\n",
      " [4 0 0 4 4]\n",
      " [5 0 0 5 5]]\n"
     ]
    }
   ],
   "source": [
    "print(np.around(np.dot(W,H)))\n",
    "print(moviesxuser)"
   ]
  },
  {
   "cell_type": "code",
   "execution_count": null,
   "metadata": {},
   "outputs": [],
   "source": []
  }
 ],
 "metadata": {
  "kernelspec": {
   "display_name": "Python 3",
   "language": "python",
   "name": "python3"
  },
  "language_info": {
   "codemirror_mode": {
    "name": "ipython",
    "version": 3
   },
   "file_extension": ".py",
   "mimetype": "text/x-python",
   "name": "python",
   "nbconvert_exporter": "python",
   "pygments_lexer": "ipython3",
   "version": "3.4.3"
  }
 },
 "nbformat": 4,
 "nbformat_minor": 2
}
