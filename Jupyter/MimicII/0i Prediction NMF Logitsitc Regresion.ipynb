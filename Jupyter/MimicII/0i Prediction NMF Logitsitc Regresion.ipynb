{
 "cells": [
  {
   "cell_type": "code",
   "execution_count": null,
   "metadata": {},
   "outputs": [],
   "source": []
  },
  {
   "cell_type": "code",
   "execution_count": 1,
   "metadata": {},
   "outputs": [],
   "source": [
    "from time import time\n",
    "import psycopg2\n",
    "from collections import Counter\n",
    "import gc\n",
    "import pandas as pd\n",
    "import numpy as np\n",
    "from sklearn.decomposition import NMF, LatentDirichletAllocation\n",
    "from sklearn.model_selection import train_test_split\n",
    "from sklearn.metrics import accuracy_score\n",
    "from sklearn.metrics import roc_auc_score\n",
    "from sklearn.metrics import classification_report\n",
    "np.set_printoptions(suppress=True,precision=10)"
   ]
  },
  {
   "cell_type": "code",
   "execution_count": 2,
   "metadata": {},
   "outputs": [],
   "source": [
    "import sys \n",
    "import os\n",
    "sys.path.append(os.path.abspath(\"/home/scidb/HeartRatePatterns/Python\"))\n",
    "from LogisticRegresion import ajustLogisticRegression"
   ]
  },
  {
   "cell_type": "code",
   "execution_count": 3,
   "metadata": {},
   "outputs": [],
   "source": [
    "def selectMatrix(dbname=\"mimic\") :\n",
    "    conn = psycopg2.connect(\"dbname=\"+dbname)\n",
    "    cur = conn.cursor()\n",
    "    select_stament = (\"SELECT m.subject_id,m.word,m.counting,s.isalive \"\n",
    "                      \" FROM matrix m LEFT JOIN subjectwords s ON m.subject_id=s.subject_id \"\n",
    "     #                 \" WHERE m.word in (select word from wordspearson where p1>0.01 order by p1 limit 400) \"\n",
    "    )\n",
    "    cur.execute(select_stament)\n",
    "    select = []\n",
    "    for row in cur :\n",
    "        select.append((row))\n",
    "    cur.close()\n",
    "    conn.close()\n",
    "    return select"
   ]
  },
  {
   "cell_type": "code",
   "execution_count": 4,
   "metadata": {},
   "outputs": [],
   "source": [
    "def convertMatrix() :\n",
    "    labels = ['subject_id', 'Word', 'Counting','isAlive']\n",
    "    df = pd.DataFrame.from_records(selectMatrix(), columns=labels)\n",
    "    print(len(df))\n",
    "    table = pd.pivot_table(df,index=[\"subject_id\",\"isAlive\"],columns=[\"Word\"],values=[\"Counting\"],\n",
    "                       aggfunc={\"Counting\":[np.sum]},fill_value=0)\n",
    "    table.columns = [value[2] for value in table.columns.values]\n",
    "    return table"
   ]
  },
  {
   "cell_type": "code",
   "execution_count": 5,
   "metadata": {},
   "outputs": [
    {
     "name": "stdout",
     "output_type": "stream",
     "text": [
      "80779\n",
      "converMatrix done in 0.649s.\n",
      "(729, 232)\n"
     ]
    },
    {
     "data": {
      "text/plain": [
       "14"
      ]
     },
     "execution_count": 5,
     "metadata": {},
     "output_type": "execute_result"
    }
   ],
   "source": [
    "t0=time()\n",
    "table = convertMatrix()\n",
    "print(\"converMatrix done in %0.3fs.\" % (time() - t0))\n",
    "print(table.shape)\n",
    "gc.collect()"
   ]
  },
  {
   "cell_type": "code",
   "execution_count": 6,
   "metadata": {},
   "outputs": [],
   "source": [
    "survived = table.index.labels[1].tolist()\n",
    "patients = table.values"
   ]
  },
  {
   "cell_type": "code",
   "execution_count": 7,
   "metadata": {},
   "outputs": [],
   "source": [
    "patients_train, patients_test,survived_train, survived_test = train_test_split(patients,survived,test_size=0.2, random_state=42)"
   ]
  },
  {
   "cell_type": "code",
   "execution_count": 8,
   "metadata": {
    "scrolled": false
   },
   "outputs": [
    {
     "name": "stdout",
     "output_type": "stream",
     "text": [
      "(729, 232)\n",
      "(583, 232)\n",
      "(146, 232)\n"
     ]
    }
   ],
   "source": [
    "print(table.shape)\n",
    "print(patients_train.shape)\n",
    "print(patients_test.shape)"
   ]
  },
  {
   "cell_type": "markdown",
   "metadata": {},
   "source": [
    "### Base Model All Will Die"
   ]
  },
  {
   "cell_type": "code",
   "execution_count": 9,
   "metadata": {},
   "outputs": [],
   "source": [
    "def base_rate_model(X) :\n",
    "    y = np.ones(X.shape[0])\n",
    "    return y"
   ]
  },
  {
   "cell_type": "code",
   "execution_count": 10,
   "metadata": {},
   "outputs": [
    {
     "name": "stdout",
     "output_type": "stream",
     "text": [
      "Base rate acurracy is 0.78\n"
     ]
    }
   ],
   "source": [
    "y_base_rate = base_rate_model(patients_test)\n",
    "print(\"Base rate acurracy is %2.2f\" % accuracy_score(survived_test,base_rate_model(patients_test)))\n",
    "base_roc_auc = roc_auc_score(survived_test,base_rate_model(patients_test))"
   ]
  },
  {
   "cell_type": "markdown",
   "metadata": {},
   "source": [
    "### AUC"
   ]
  },
  {
   "cell_type": "code",
   "execution_count": 11,
   "metadata": {},
   "outputs": [],
   "source": [
    "def aucModel(name,survived_test,model,patients_test):\n",
    "    logit_roc_auc = roc_auc_score(survived_test,model.predict(patients_test))\n",
    "    print(name+\" AUC = %2.2f2f\"% logit_roc_auc)\n",
    "    return logit_roc_auc"
   ]
  },
  {
   "cell_type": "markdown",
   "metadata": {},
   "source": [
    "### Direct Regresion Logistic"
   ]
  },
  {
   "cell_type": "code",
   "execution_count": 12,
   "metadata": {},
   "outputs": [
    {
     "name": "stdout",
     "output_type": "stream",
     "text": [
      "acurracy is 0.77\n",
      "Logistic AUC = 0.582f\n"
     ]
    }
   ],
   "source": [
    "model = ajustLogisticRegression(patients_train,survived_train,patients_test,survived_test)\n",
    "logit_roc_auc = aucModel(\"Logistic\",survived_test,model,patients_test)"
   ]
  },
  {
   "cell_type": "markdown",
   "metadata": {},
   "source": [
    "### NMF + Logistic Regression accurancy"
   ]
  },
  {
   "cell_type": "code",
   "execution_count": 13,
   "metadata": {},
   "outputs": [],
   "source": [
    "def generateNMF(patients_train,survived_train,patients_test,survived_test,n_components=30) :\n",
    "    nmf = NMF(n_components=n_components, random_state=1,alpha=.1, l1_ratio=.5)\n",
    "    patients_trainnmf = nmf.fit_transform(patients_train)\n",
    "    H = nmf.components_\n",
    "    patients_testnmf = nmf.transform(patients_test)\n",
    "    modelnmf = ajustLogisticRegression(patients_trainnmf,survived_train,patients_testnmf,survived_test)\n",
    "    return modelnmf,patients_testnmf"
   ]
  },
  {
   "cell_type": "code",
   "execution_count": 14,
   "metadata": {},
   "outputs": [
    {
     "name": "stdout",
     "output_type": "stream",
     "text": [
      "acurracy is 0.79\n",
      "NMF 10 AUC = 0.602f\n",
      "acurracy is 0.77\n",
      "NMF 29 AUC = 0.542f\n",
      "acurracy is 0.77\n",
      "NMF 37 AUC = 0.552f\n",
      "acurracy is 0.76\n",
      "NMF 44 AUC = 0.602f\n"
     ]
    }
   ],
   "source": [
    "values = [10,29,37,44,84] #61,79,98,115,132\n",
    "nmfResult = []\n",
    "for value in values :\n",
    "    modelnmf,pat_testnmf = generateNMF(patients_train,survived_train,patients_test,survived_test,n_components=value)\n",
    "    name = \"NMF \"+str(value)\n",
    "    nmf_roc_auc = aucModel(name,survived_test,modelnmf,pat_testnmf)\n",
    "    nmfResult.append({'name':name,'model':modelnmf,'patients':pat_testnmf,'roc_auc':nmf_roc_auc})"
   ]
  },
  {
   "cell_type": "code",
   "execution_count": 15,
   "metadata": {},
   "outputs": [
    {
     "name": "stdout",
     "output_type": "stream",
     "text": [
      "acurracy is 0.77\n",
      "NMF 61 AUC = 0.612f\n",
      "acurracy is 0.76\n",
      "NMF 62 AUC = 0.622f\n",
      "acurracy is 0.75\n",
      "NMF 63 AUC = 0.632f\n",
      "acurracy is 0.75\n",
      "NMF 64 AUC = 0.602f\n",
      "acurracy is 0.76\n",
      "NMF 65 AUC = 0.592f\n",
      "acurracy is 0.76\n",
      "NMF 66 AUC = 0.582f\n",
      "acurracy is 0.79\n",
      "NMF 67 AUC = 0.622f\n",
      "acurracy is 0.78\n",
      "NMF 68 AUC = 0.612f\n",
      "acurracy is 0.79\n",
      "NMF 69 AUC = 0.622f\n",
      "acurracy is 0.75\n",
      "NMF 70 AUC = 0.592f\n",
      "acurracy is 0.75\n",
      "NMF 71 AUC = 0.592f\n",
      "acurracy is 0.75\n",
      "NMF 72 AUC = 0.592f\n",
      "acurracy is 0.75\n",
      "NMF 73 AUC = 0.612f\n",
      "acurracy is 0.78\n",
      "NMF 74 AUC = 0.592f\n",
      "acurracy is 0.77\n",
      "NMF 75 AUC = 0.602f\n",
      "acurracy is 0.77\n",
      "NMF 76 AUC = 0.612f\n",
      "acurracy is 0.78\n",
      "NMF 77 AUC = 0.612f\n",
      "acurracy is 0.78\n",
      "NMF 78 AUC = 0.632f\n",
      "acurracy is 0.77\n",
      "NMF 79 AUC = 0.622f\n",
      "acurracy is 0.75\n",
      "NMF 80 AUC = 0.582f\n",
      "acurracy is 0.78\n",
      "NMF 81 AUC = 0.612f\n",
      "acurracy is 0.78\n",
      "NMF 82 AUC = 0.622f\n",
      "acurracy is 0.77\n",
      "NMF 83 AUC = 0.602f\n",
      "acurracy is 0.79\n",
      "NMF 84 AUC = 0.652f\n",
      "acurracy is 0.78\n",
      "NMF 85 AUC = 0.622f\n",
      "acurracy is 0.79\n",
      "NMF 86 AUC = 0.652f\n",
      "acurracy is 0.79\n",
      "NMF 87 AUC = 0.652f\n",
      "acurracy is 0.77\n",
      "NMF 88 AUC = 0.592f\n",
      "acurracy is 0.77\n",
      "NMF 89 AUC = 0.622f\n",
      "bestScore 84 accurracy is 0.79\n",
      "             precision    recall  f1-score   support\n",
      "\n",
      "          0       0.54      0.41      0.46        32\n",
      "          1       0.84      0.90      0.87       114\n",
      "\n",
      "avg / total       0.78      0.79      0.78       146\n",
      "\n"
     ]
    }
   ],
   "source": [
    "accuracyScore,bestScore,nmf_roc_auc = 0,0,0\n",
    "for x in range(91,120):\n",
    "    modelnmfNew,pat_testnmfNew = generateNMF(patients_train,survived_train,patients_test,survived_test,n_components=x)\n",
    "    newAccuracy = accuracy_score(survived_test,modelnmfNew.predict(pat_testnmfNew))\n",
    "    newroc_auc = aucModel(\"NMF \"+str(x),survived_test,modelnmfNew,pat_testnmfNew)\n",
    "    if newroc_auc>nmf_roc_auc:\n",
    "        modelnmf,pat_testnmf=modelnmfNew,pat_testnmfNew\n",
    "        accuracyScore,bestScore,nmf_roc_auc=newAccuracy,x,newroc_auc\n",
    "print(\"bestScore \"+str(bestScore)+\" accurracy is %2.2f\"% accuracyScore)\n",
    "print(classification_report(survived_test,modelnmf.predict(pat_testnmf)))"
   ]
  },
  {
   "cell_type": "code",
   "execution_count": 16,
   "metadata": {},
   "outputs": [],
   "source": [
    "from sklearn.metrics import roc_curve\n",
    "import matplotlib.pyplot as plt"
   ]
  },
  {
   "cell_type": "code",
   "execution_count": 17,
   "metadata": {},
   "outputs": [],
   "source": [
    "def roc_curveplot(name,survived_test,model,patients_test,logit_roc_auc):\n",
    "    fpr, tpr, thresholds = roc_curve(survived_test,model.predict_proba(patients_test)[:,1])\n",
    "    plt.plot(fpr,tpr,label='ROC '+name+' curve (AUC =%0.2f)' % logit_roc_auc)"
   ]
  },
  {
   "cell_type": "code",
   "execution_count": 18,
   "metadata": {},
   "outputs": [
    {
     "data": {
      "image/png": "[encoded data removed]",
      "text/plain": [
       "<matplotlib.figure.Figure at 0x7fa660268e10>"
      ]
     },
     "metadata": {},
     "output_type": "display_data"
    }
   ],
   "source": [
    "plt.figure()\n",
    "roc_curveplot('Logistic',survived_test,model,patients_test,logit_roc_auc)\n",
    "for resul in nmfResult : \n",
    "    roc_curveplot(resul['name'],survived_test,resul['model'],resul['patients'],resul['roc_auc'])\n",
    "roc_curveplot('NMF '+str(bestScore),survived_test,modelnmf,pat_testnmf,nmf_roc_auc)\n",
    "plt.plot([0,1],[0,1],'k--')\n",
    "plt.xlim([0.0, 1.0])\n",
    "plt.ylim([0.0, 1.05])\n",
    "plt.xlabel('False Positive Rate')\n",
    "plt.ylabel('True Positive Rate')\n",
    "plt.legend(loc=\"lower right\")\n",
    "plt.show()"
   ]
  },
  {
   "cell_type": "code",
   "execution_count": null,
   "metadata": {},
   "outputs": [],
   "source": []
  }
 ],
 "metadata": {
  "kernelspec": {
   "display_name": "Python 3",
   "language": "python",
   "name": "python3"
  },
  "language_info": {
   "codemirror_mode": {
    "name": "ipython",
    "version": 3
   },
   "file_extension": ".py",
   "mimetype": "text/x-python",
   "name": "python",
   "nbconvert_exporter": "python",
   "pygments_lexer": "ipython3",
   "version": "3.4.3"
  }
 },
 "nbformat": 4,
 "nbformat_minor": 2
}
