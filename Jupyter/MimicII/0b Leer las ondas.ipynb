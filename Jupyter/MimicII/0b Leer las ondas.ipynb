{
 "cells": [
  {
   "cell_type": "markdown",
   "metadata": {},
   "source": [
    "# Leer las ondas\n",
    "1) Imports"
   ]
  },
  {
   "cell_type": "code",
   "execution_count": 1,
   "metadata": {},
   "outputs": [],
   "source": [
    "import psycopg2\n",
    "from psycopg2.extensions import register_adapter, AsIs\n",
    "import wfdb\n",
    "import numpy as np\n",
    "import matplotlib.pyplot as plt\n",
    "from oct2py import octave\n",
    "#para el tiempo\n",
    "from datetime import datetime\n",
    "import pandas as pd\n",
    "octave.addpath('/home/scidb/HeartRatePatterns/Matlab/')\n",
    "octave.eval('pkg load signal')"
   ]
  },
  {
   "cell_type": "markdown",
   "metadata": {},
   "source": [
    "Leer la base de datos para decidir que Ondas vamos a traer"
   ]
  },
  {
   "cell_type": "code",
   "execution_count": 2,
   "metadata": {},
   "outputs": [],
   "source": [
    "def obtainWaveFormFields(dbname=\"mimic\") :\n",
    "    labels='II'\n",
    "    conn = psycopg2.connect(\"dbname=\"+dbname)\n",
    "    cur = conn.cursor()\n",
    "    select_stament = (\"SELECT lef.subject_id,lef.recorddate,lef.signame,lef.fs \"\n",
    "                      \" FROM waveformfields lef \"\n",
    "                      \" LEFT JOIN (SELECT MAX(recorddate) AS recorddate,subject_id \"\n",
    "                      \" FROM waveformFields GROUP BY subject_id) rig \"\n",
    "                      \" ON lef.subject_id = rig.subject_id \"\n",
    "                      \" AND lef.recorddate = rig.recorddate \"\n",
    "                      \" WHERE rig.subject_id IS NOT NULL \"\n",
    "                      \" AND signame @> ARRAY['\"+labels+\"']::varchar[] \"\n",
    "                      \" AND lef.database= 'mimic2'\"\n",
    "                      \" AND lef.subject_id not in (52,124,135,151,177,214,263,279,283)\")\n",
    "    cur.execute(select_stament)\n",
    "    waves = []\n",
    "    for row in cur :\n",
    "        patient = \"s\"+str(row[0]).zfill(5)\n",
    "        onda = patient+'-'+row[1]\n",
    "        carpeta = patient\n",
    "        waves.append({\"subject_id\":row[0],\"recorddate\":row[1],\"fs\":row[3],\"onda\":onda,\"carpeta\":carpeta,\n",
    "                      \"signalII\":row[2].index(\"II\")})\n",
    "    conn.close()\n",
    "    return waves"
   ]
  },
  {
   "cell_type": "code",
   "execution_count": 3,
   "metadata": {},
   "outputs": [],
   "source": [
    "def notExistQRST(record,table=\"rstq\"):\n",
    "    conn = psycopg2.connect(\"dbname=mimic\")\n",
    "    cur = conn.cursor()\n",
    "    select_stament = 'select id from '+table+' where record= %s'\n",
    "    cur.execute(select_stament,(record,))\n",
    "    exist = cur.fetchone() is None\n",
    "    conn.close()\n",
    "    return exist"
   ]
  },
  {
   "cell_type": "code",
   "execution_count": 4,
   "metadata": {},
   "outputs": [
    {
     "name": "stdout",
     "output_type": "stream",
     "text": [
      "mimic2wdb/matched/s00308/s00308-2915-08-28-04-22\n"
     ]
    }
   ],
   "source": [
    "waves = obtainWaveFormFields()\n",
    "wave = waves[0]\n",
    "carpeta = wave[\"carpeta\"]\n",
    "onda = wave[\"onda\"]\n",
    "signalII = wave[\"signalII\"]\n",
    "fs = wave[\"fs\"]\n",
    "subject_id = wave[\"subject_id\"]\n",
    "recorddate = wave[\"recorddate\"]\n",
    "record=\"mimic2wdb/matched/\"+carpeta+\"/\"+onda\n",
    "print(record)\n",
    "if notExistQRST(record) :\n",
    "    signal = wfdb.rdsamp(onda,pbdir='mimic2wdb/matched/'+carpeta,channels =[signalII]).p_signals\n"
   ]
  },
  {
   "cell_type": "code",
   "execution_count": 5,
   "metadata": {},
   "outputs": [],
   "source": [
    "def updateSignal(subject_id,recorddate,signallen,dbname=\"mimic\") :\n",
    "    conn = psycopg2.connect(\"dbname=\"+dbname)\n",
    "    cur = conn.cursor()\n",
    "    update_stament = \"UPDATE waveformfields SET signallength=(%s) WHERE subject_id = (%s) AND recorddate = (%s)\"\n",
    "    cur.execute(update_stament,(signallen,subject_id,recorddate))\n",
    "    conn.commit()"
   ]
  },
  {
   "cell_type": "code",
   "execution_count": 6,
   "metadata": {},
   "outputs": [],
   "source": [
    "def subSignal(signal) :\n",
    "    signalNan = signal[~np.isnan(signal)]\n",
    "    signalSize = 1800000\n",
    "    print(\"La señal tiene \",len(signalNan),\" registros extraemos las ultimas 4 horas\")\n",
    "    if len(signalNan)<signalSize :\n",
    "        subsignal = signalNan\n",
    "    else :\n",
    "        subsignal = signalNan[-1800000:]\n",
    "    return subsignal.tolist()"
   ]
  },
  {
   "cell_type": "code",
   "execution_count": 7,
   "metadata": {},
   "outputs": [
    {
     "name": "stdout",
     "output_type": "stream",
     "text": [
      "La señal tiene  26975194  registros extraemos las ultimas 4 horas\n"
     ]
    },
    {
     "data": {
      "text/plain": [
       "1800000"
      ]
     },
     "execution_count": 7,
     "metadata": {},
     "output_type": "execute_result"
    }
   ],
   "source": [
    "updateSignal(subject_id,recorddate,len(signal))\n",
    "subsignal = subSignal(signal)\n",
    "len(subsignal)\n",
    "#subsignal[1001500:1002000]"
   ]
  },
  {
   "cell_type": "markdown",
   "metadata": {},
   "source": [
    "Extraemos las ultimas 4 horas osea 1'800.000 registros"
   ]
  },
  {
   "cell_type": "code",
   "execution_count": 8,
   "metadata": {},
   "outputs": [
    {
     "data": {
      "image/png": "[encoded data removed]",
      "text/plain": [
       "<matplotlib.figure.Figure at 0x7f5d05c4c940>"
      ]
     },
     "metadata": {},
     "output_type": "display_data"
    }
   ],
   "source": [
    "fig_size = [20,9]\n",
    "plt.rcParams[\"figure.figsize\"] = fig_size\n",
    "plt.plot(subsignal)\n",
    "#plt.plot(signal[:,1])\n",
    "plt.show()"
   ]
  },
  {
   "cell_type": "code",
   "execution_count": 9,
   "metadata": {},
   "outputs": [],
   "source": [
    "def peakdetect(signal, fs,increment=0,previousResult=None):\n",
    "    if previousResult is None:\n",
    "        previousResult = {'Q_s':[],'Q_a':[],'R_s':[],'R_s':[],'S_s':[],'S_s':[],'T_s':[],'T_s':[]}\n",
    "    (R_s,R_a,S_s,S_a,T_s,T_a,Q_s,Q_a,heart_rate,buffer_plot) = octave.peakdetect(signal,fs,False, nout=10)\n",
    "    return {'Q_s'  :np.concatenate((previousResult['Q_s'],  Q_s[0]+increment)),\n",
    "            'Q_a'  :np.concatenate((previousResult['Q_a'],  Q_a[0])),\n",
    "            'R_s'  :np.concatenate((previousResult['R_s'],  R_s[0]+increment)),\n",
    "            'R_a'  :np.concatenate((previousResult['R_a'],  R_a[0])),\n",
    "            'S_s'  :np.concatenate((previousResult['S_s'],  S_s[0]+increment)),\n",
    "            'S_a'  :np.concatenate((previousResult['S_a'],  S_a[0])),\n",
    "            'T_s'  :np.concatenate((previousResult['T_s'],  T_s[0]+increment)),\n",
    "            'T_a'  :np.concatenate((previousResult['T_a'],  T_a[0])),\n",
    "           }"
   ]
  },
  {
   "cell_type": "code",
   "execution_count": 10,
   "metadata": {},
   "outputs": [],
   "source": [
    "def audit(before=datetime.now()):\n",
    "    now = datetime.now()\n",
    "    print(\"hasta aqui van\",(now-before))\n",
    "    return now\n",
    "\n",
    "def checkwave(signal,fs):\n",
    "    now = audit()\n",
    "    windowsize = 3000*fs\n",
    "    signalsize = len(signal)\n",
    "    previousResult = {'Q_s':[],'Q_a':[],'R_s':[],'R_a':[],'S_s':[],'S_a':[],'T_s':[],'T_a':[]}\n",
    "    termino = True\n",
    "    fin=0\n",
    "    while termino:\n",
    "        ini=fin\n",
    "        fin=fin+ (windowsize)\n",
    "        if(fin>signalsize):\n",
    "            fin=signalsize\n",
    "        now = audit(now)\n",
    "        print(\"ini\",ini,\"fin\",fin)\n",
    "        previousResult = peakdetect(signal[ini:fin],fs,increment=ini,previousResult=previousResult)\n",
    "        now = audit(now)\n",
    "        termino = fin<signalsize\n",
    "    return previousResult"
   ]
  },
  {
   "cell_type": "code",
   "execution_count": 11,
   "metadata": {
    "scrolled": false
   },
   "outputs": [
    {
     "name": "stdout",
     "output_type": "stream",
     "text": [
      "hasta aqui van 0:00:00.022458\n",
      "hasta aqui van 0:00:00.002511\n",
      "ini 0 fin 375000\n",
      "warning: peakdetect: some elements in list of return values are undefined\n",
      "hasta aqui van 1:35:19.136765\n",
      "hasta aqui van 0:00:00.000232\n",
      "ini 375000 fin 750000\n"
     ]
    },
    {
     "ename": "Oct2PyError",
     "evalue": "Octave evaluation error:\nerror: buffer_plot(-3): subscripts must be either integers 1 to (2^31)-1 or logicals",
     "output_type": "error",
     "traceback": [
      "\u001b[0;31m---------------------------------------------------------------------------\u001b[0m",
      "\u001b[0;31mOct2PyError\u001b[0m                               Traceback (most recent call last)",
      "\u001b[0;32m<ipython-input-11-a9d1b6ff47cd>\u001b[0m in \u001b[0;36m<module>\u001b[0;34m()\u001b[0m\n\u001b[0;32m----> 1\u001b[0;31m \u001b[0mpreviousResult\u001b[0m \u001b[0;34m=\u001b[0m \u001b[0mcheckwave\u001b[0m\u001b[0;34m(\u001b[0m\u001b[0msubsignal\u001b[0m\u001b[0;34m,\u001b[0m\u001b[0mfs\u001b[0m\u001b[0;34m)\u001b[0m\u001b[0;34m\u001b[0m\u001b[0m\n\u001b[0m",
      "\u001b[0;32m<ipython-input-10-a5b5a9421748>\u001b[0m in \u001b[0;36mcheckwave\u001b[0;34m(signal, fs)\u001b[0m\n\u001b[1;32m     18\u001b[0m         \u001b[0mnow\u001b[0m \u001b[0;34m=\u001b[0m \u001b[0maudit\u001b[0m\u001b[0;34m(\u001b[0m\u001b[0mnow\u001b[0m\u001b[0;34m)\u001b[0m\u001b[0;34m\u001b[0m\u001b[0m\n\u001b[1;32m     19\u001b[0m         \u001b[0mprint\u001b[0m\u001b[0;34m(\u001b[0m\u001b[0;34m\"ini\"\u001b[0m\u001b[0;34m,\u001b[0m\u001b[0mini\u001b[0m\u001b[0;34m,\u001b[0m\u001b[0;34m\"fin\"\u001b[0m\u001b[0;34m,\u001b[0m\u001b[0mfin\u001b[0m\u001b[0;34m)\u001b[0m\u001b[0;34m\u001b[0m\u001b[0m\n\u001b[0;32m---> 20\u001b[0;31m         \u001b[0mpreviousResult\u001b[0m \u001b[0;34m=\u001b[0m \u001b[0mpeakdetect\u001b[0m\u001b[0;34m(\u001b[0m\u001b[0msignal\u001b[0m\u001b[0;34m[\u001b[0m\u001b[0mini\u001b[0m\u001b[0;34m:\u001b[0m\u001b[0mfin\u001b[0m\u001b[0;34m]\u001b[0m\u001b[0;34m,\u001b[0m\u001b[0mfs\u001b[0m\u001b[0;34m,\u001b[0m\u001b[0mincrement\u001b[0m\u001b[0;34m=\u001b[0m\u001b[0mini\u001b[0m\u001b[0;34m,\u001b[0m\u001b[0mpreviousResult\u001b[0m\u001b[0;34m=\u001b[0m\u001b[0mpreviousResult\u001b[0m\u001b[0;34m)\u001b[0m\u001b[0;34m\u001b[0m\u001b[0m\n\u001b[0m\u001b[1;32m     21\u001b[0m         \u001b[0mnow\u001b[0m \u001b[0;34m=\u001b[0m \u001b[0maudit\u001b[0m\u001b[0;34m(\u001b[0m\u001b[0mnow\u001b[0m\u001b[0;34m)\u001b[0m\u001b[0;34m\u001b[0m\u001b[0m\n\u001b[1;32m     22\u001b[0m         \u001b[0mtermino\u001b[0m \u001b[0;34m=\u001b[0m \u001b[0mfin\u001b[0m\u001b[0;34m<\u001b[0m\u001b[0msignalsize\u001b[0m\u001b[0;34m\u001b[0m\u001b[0m\n",
      "\u001b[0;32m<ipython-input-9-11ae91574c9c>\u001b[0m in \u001b[0;36mpeakdetect\u001b[0;34m(signal, fs, increment, previousResult)\u001b[0m\n\u001b[1;32m      2\u001b[0m     \u001b[0;32mif\u001b[0m \u001b[0mpreviousResult\u001b[0m \u001b[0;32mis\u001b[0m \u001b[0;32mNone\u001b[0m\u001b[0;34m:\u001b[0m\u001b[0;34m\u001b[0m\u001b[0m\n\u001b[1;32m      3\u001b[0m         \u001b[0mpreviousResult\u001b[0m \u001b[0;34m=\u001b[0m \u001b[0;34m{\u001b[0m\u001b[0;34m'Q_s'\u001b[0m\u001b[0;34m:\u001b[0m\u001b[0;34m[\u001b[0m\u001b[0;34m]\u001b[0m\u001b[0;34m,\u001b[0m\u001b[0;34m'Q_a'\u001b[0m\u001b[0;34m:\u001b[0m\u001b[0;34m[\u001b[0m\u001b[0;34m]\u001b[0m\u001b[0;34m,\u001b[0m\u001b[0;34m'R_s'\u001b[0m\u001b[0;34m:\u001b[0m\u001b[0;34m[\u001b[0m\u001b[0;34m]\u001b[0m\u001b[0;34m,\u001b[0m\u001b[0;34m'R_s'\u001b[0m\u001b[0;34m:\u001b[0m\u001b[0;34m[\u001b[0m\u001b[0;34m]\u001b[0m\u001b[0;34m,\u001b[0m\u001b[0;34m'S_s'\u001b[0m\u001b[0;34m:\u001b[0m\u001b[0;34m[\u001b[0m\u001b[0;34m]\u001b[0m\u001b[0;34m,\u001b[0m\u001b[0;34m'S_s'\u001b[0m\u001b[0;34m:\u001b[0m\u001b[0;34m[\u001b[0m\u001b[0;34m]\u001b[0m\u001b[0;34m,\u001b[0m\u001b[0;34m'T_s'\u001b[0m\u001b[0;34m:\u001b[0m\u001b[0;34m[\u001b[0m\u001b[0;34m]\u001b[0m\u001b[0;34m,\u001b[0m\u001b[0;34m'T_s'\u001b[0m\u001b[0;34m:\u001b[0m\u001b[0;34m[\u001b[0m\u001b[0;34m]\u001b[0m\u001b[0;34m}\u001b[0m\u001b[0;34m\u001b[0m\u001b[0m\n\u001b[0;32m----> 4\u001b[0;31m     \u001b[0;34m(\u001b[0m\u001b[0mR_s\u001b[0m\u001b[0;34m,\u001b[0m\u001b[0mR_a\u001b[0m\u001b[0;34m,\u001b[0m\u001b[0mS_s\u001b[0m\u001b[0;34m,\u001b[0m\u001b[0mS_a\u001b[0m\u001b[0;34m,\u001b[0m\u001b[0mT_s\u001b[0m\u001b[0;34m,\u001b[0m\u001b[0mT_a\u001b[0m\u001b[0;34m,\u001b[0m\u001b[0mQ_s\u001b[0m\u001b[0;34m,\u001b[0m\u001b[0mQ_a\u001b[0m\u001b[0;34m,\u001b[0m\u001b[0mheart_rate\u001b[0m\u001b[0;34m,\u001b[0m\u001b[0mbuffer_plot\u001b[0m\u001b[0;34m)\u001b[0m \u001b[0;34m=\u001b[0m \u001b[0moctave\u001b[0m\u001b[0;34m.\u001b[0m\u001b[0mpeakdetect\u001b[0m\u001b[0;34m(\u001b[0m\u001b[0msignal\u001b[0m\u001b[0;34m,\u001b[0m\u001b[0mfs\u001b[0m\u001b[0;34m,\u001b[0m\u001b[0;32mFalse\u001b[0m\u001b[0;34m,\u001b[0m \u001b[0mnout\u001b[0m\u001b[0;34m=\u001b[0m\u001b[0;36m10\u001b[0m\u001b[0;34m)\u001b[0m\u001b[0;34m\u001b[0m\u001b[0m\n\u001b[0m\u001b[1;32m      5\u001b[0m     return {'Q_s'  :np.concatenate((previousResult['Q_s'],  Q_s[0]+increment)),\n\u001b[1;32m      6\u001b[0m             \u001b[0;34m'Q_a'\u001b[0m  \u001b[0;34m:\u001b[0m\u001b[0mnp\u001b[0m\u001b[0;34m.\u001b[0m\u001b[0mconcatenate\u001b[0m\u001b[0;34m(\u001b[0m\u001b[0;34m(\u001b[0m\u001b[0mpreviousResult\u001b[0m\u001b[0;34m[\u001b[0m\u001b[0;34m'Q_a'\u001b[0m\u001b[0;34m]\u001b[0m\u001b[0;34m,\u001b[0m  \u001b[0mQ_a\u001b[0m\u001b[0;34m[\u001b[0m\u001b[0;36m0\u001b[0m\u001b[0;34m]\u001b[0m\u001b[0;34m)\u001b[0m\u001b[0;34m)\u001b[0m\u001b[0;34m,\u001b[0m\u001b[0;34m\u001b[0m\u001b[0m\n",
      "\u001b[0;32m/usr/local/lib/python3.4/dist-packages/oct2py/dynamic.py\u001b[0m in \u001b[0;36m__call__\u001b[0;34m(self, *inputs, **kwargs)\u001b[0m\n\u001b[1;32m     94\u001b[0m                         for item in pair)\n\u001b[1;32m     95\u001b[0m \u001b[0;34m\u001b[0m\u001b[0m\n\u001b[0;32m---> 96\u001b[0;31m         \u001b[0;32mreturn\u001b[0m \u001b[0mself\u001b[0m\u001b[0;34m.\u001b[0m\u001b[0m_ref\u001b[0m\u001b[0;34m(\u001b[0m\u001b[0;34m)\u001b[0m\u001b[0;34m.\u001b[0m\u001b[0mfeval\u001b[0m\u001b[0;34m(\u001b[0m\u001b[0mself\u001b[0m\u001b[0;34m.\u001b[0m\u001b[0mname\u001b[0m\u001b[0;34m,\u001b[0m \u001b[0;34m*\u001b[0m\u001b[0minputs\u001b[0m\u001b[0;34m,\u001b[0m \u001b[0;34m**\u001b[0m\u001b[0mkwargs\u001b[0m\u001b[0;34m)\u001b[0m\u001b[0;34m\u001b[0m\u001b[0m\n\u001b[0m\u001b[1;32m     97\u001b[0m \u001b[0;34m\u001b[0m\u001b[0m\n\u001b[1;32m     98\u001b[0m     \u001b[0;32mdef\u001b[0m \u001b[0m__repr__\u001b[0m\u001b[0;34m(\u001b[0m\u001b[0mself\u001b[0m\u001b[0;34m)\u001b[0m\u001b[0;34m:\u001b[0m\u001b[0;34m\u001b[0m\u001b[0m\n",
      "\u001b[0;32m/usr/local/lib/python3.4/dist-packages/oct2py/core.py\u001b[0m in \u001b[0;36mfeval\u001b[0;34m(self, func_path, *func_args, **kwargs)\u001b[0m\n\u001b[1;32m    367\u001b[0m         return self._feval(func_name, func_args, dname=dname, nout=nout,\n\u001b[1;32m    368\u001b[0m                           \u001b[0mtimeout\u001b[0m\u001b[0;34m=\u001b[0m\u001b[0mtimeout\u001b[0m\u001b[0;34m,\u001b[0m \u001b[0mstream_handler\u001b[0m\u001b[0;34m=\u001b[0m\u001b[0mstream_handler\u001b[0m\u001b[0;34m,\u001b[0m\u001b[0;34m\u001b[0m\u001b[0m\n\u001b[0;32m--> 369\u001b[0;31m                           store_as=store_as, plot_dir=plot_dir)\n\u001b[0m\u001b[1;32m    370\u001b[0m \u001b[0;34m\u001b[0m\u001b[0m\n\u001b[1;32m    371\u001b[0m     def eval(self, cmds, verbose=True, timeout=None, stream_handler=None,\n",
      "\u001b[0;32m/usr/local/lib/python3.4/dist-packages/oct2py/core.py\u001b[0m in \u001b[0;36m_feval\u001b[0;34m(self, func_name, func_args, dname, nout, timeout, stream_handler, store_as, plot_dir)\u001b[0m\n\u001b[1;32m    566\u001b[0m         \u001b[0;32mif\u001b[0m \u001b[0mresp\u001b[0m\u001b[0;34m[\u001b[0m\u001b[0;34m'err'\u001b[0m\u001b[0;34m]\u001b[0m\u001b[0;34m:\u001b[0m\u001b[0;34m\u001b[0m\u001b[0m\n\u001b[1;32m    567\u001b[0m             \u001b[0mmsg\u001b[0m \u001b[0;34m=\u001b[0m \u001b[0mself\u001b[0m\u001b[0;34m.\u001b[0m\u001b[0m_parse_error\u001b[0m\u001b[0;34m(\u001b[0m\u001b[0mresp\u001b[0m\u001b[0;34m[\u001b[0m\u001b[0;34m'err'\u001b[0m\u001b[0;34m]\u001b[0m\u001b[0;34m)\u001b[0m\u001b[0;34m\u001b[0m\u001b[0m\n\u001b[0;32m--> 568\u001b[0;31m             \u001b[0;32mraise\u001b[0m \u001b[0mOct2PyError\u001b[0m\u001b[0;34m(\u001b[0m\u001b[0mmsg\u001b[0m\u001b[0;34m)\u001b[0m\u001b[0;34m\u001b[0m\u001b[0m\n\u001b[0m\u001b[1;32m    569\u001b[0m \u001b[0;34m\u001b[0m\u001b[0m\n\u001b[1;32m    570\u001b[0m         \u001b[0mresult\u001b[0m \u001b[0;34m=\u001b[0m \u001b[0mresp\u001b[0m\u001b[0;34m[\u001b[0m\u001b[0;34m'result'\u001b[0m\u001b[0;34m]\u001b[0m\u001b[0;34m.\u001b[0m\u001b[0mravel\u001b[0m\u001b[0;34m(\u001b[0m\u001b[0;34m)\u001b[0m\u001b[0;34m.\u001b[0m\u001b[0mtolist\u001b[0m\u001b[0;34m(\u001b[0m\u001b[0;34m)\u001b[0m\u001b[0;34m\u001b[0m\u001b[0m\n",
      "\u001b[0;31mOct2PyError\u001b[0m: Octave evaluation error:\nerror: buffer_plot(-3): subscripts must be either integers 1 to (2^31)-1 or logicals"
     ]
    }
   ],
   "source": [
    "previousResult = checkwave(subsignal,fs)"
   ]
  },
  {
   "cell_type": "code",
   "execution_count": null,
   "metadata": {},
   "outputs": [],
   "source": [
    "plt.scatter(previousResult['Q_s'], previousResult['Q_a'],c='yellow')\n",
    "plt.scatter(previousResult['R_s'], previousResult['R_a'],c='blue')\n",
    "plt.scatter(previousResult['S_s'], previousResult['S_a'],c='red')\n",
    "plt.scatter(previousResult['T_s'], previousResult['T_a'],c='black')\n",
    "plt.plot(subsignal,c='lightgreen')\n",
    "plt.show()"
   ]
  },
  {
   "cell_type": "code",
   "execution_count": null,
   "metadata": {
    "scrolled": true
   },
   "outputs": [],
   "source": [
    "init = 6\n",
    "end = 10\n",
    "plt.plot(subsignal[int(previousResult['Q_s'][init]):int(previousResult['T_s'][end])],c='lightgreen')\n",
    "plt.scatter(previousResult['Q_s'][init:end]-int(previousResult['Q_s'][init]), previousResult['Q_a'][init:end],c='yellow')\n",
    "plt.scatter(previousResult['R_s'][init:end]-int(previousResult['Q_s'][init]), previousResult['R_a'][init:end],c='blue')\n",
    "plt.scatter(previousResult['S_s'][init:end]-int(previousResult['Q_s'][init]), previousResult['S_a'][init:end],c='red')\n",
    "plt.scatter(previousResult['T_s'][init:end]-int(previousResult['Q_s'][init]), previousResult['T_a'][init:end],c='black')\n",
    "plt.show()"
   ]
  },
  {
   "cell_type": "code",
   "execution_count": null,
   "metadata": {},
   "outputs": [],
   "source": [
    "print('Q',len(previousResult['Q_s']), len(previousResult['Q_a']))\n",
    "print('R',len(previousResult['R_s']), len(previousResult['R_a']))\n",
    "print('S',len(previousResult['S_s']), len(previousResult['S_a']))\n",
    "print('T',len(previousResult['T_s']), len(previousResult['T_a']))"
   ]
  },
  {
   "cell_type": "code",
   "execution_count": null,
   "metadata": {},
   "outputs": [],
   "source": [
    "def difference(first,second):\n",
    "    if first is None or second is None :\n",
    "        return None\n",
    "    else :\n",
    "        return first-second"
   ]
  },
  {
   "cell_type": "code",
   "execution_count": null,
   "metadata": {},
   "outputs": [],
   "source": [
    "def readsignal(next1,next2,next3,wave,amp,i,signal) :\n",
    "    currentw = int(signal[wave][i]) if len(signal[wave])>i else None\n",
    "    if currentw is None or (next2 is not None and currentw>next2) or (next3 is not None and currentw>next3):\n",
    "        return None,None,i\n",
    "    if(next1 is None or currentw<=next1) :\n",
    "        currentw,waveamp,i = currentw,signal[amp][i],i+1\n",
    "    else :\n",
    "        currentw,waveamp = None,None\n",
    "    return currentw,waveamp,i\n",
    "def sortHeartBeats(signal,originalSignal) :\n",
    "    q,s,t,r,result = 0,0,0,0,None\n",
    "    index = 0\n",
    "    while q<len(signal['Q_s']) and r<len(signal['R_s']) and s<len(signal['S_s'])  and t<len(signal['T_s']) :\n",
    "        sinext = signal['S_s'][s]   if s  <len(signal['S_s']) else None\n",
    "        tinext = signal['T_s'][t]   if t  <len(signal['T_s']) else None\n",
    "        qinext = signal['Q_s'][q]   if q  <len(signal['Q_s']) else None\n",
    "        rinext = signal['R_s'][r+1] if r+1<len(signal['R_s']) else None\n",
    "        siNext = signal['S_s'][r+1] if r+1<len(signal['S_s']) else None\n",
    "        tiNext = signal['T_s'][r+1] if r+1<len(signal['T_s']) else None\n",
    "        \n",
    "        ri,ra,r = readsignal(sinext,tinext,qinext,'R_s','R_a',r,signal)\n",
    "        si,sa,s = readsignal(tinext,qinext,rinext,'S_s','S_a',s,signal)\n",
    "        ti,ta,t = readsignal(qinext,rinext,siNext,'T_s','T_a',t,signal)\n",
    "        qi,qa,q = readsignal(rinext,siNext,tiNext,'Q_s','Q_a',q,signal)\n",
    "        if qi is not None and ti is not None :\n",
    "            wave = originalSignal[int(qi):int(ti)]\n",
    "        else :\n",
    "            wave = None\n",
    "      #  print(\"q\",q,\"r\",r,\"s\",s,\"t\",t,\"wave\",wave)\n",
    "        dic = {'Q_s':qi,'Q_a':qa,\n",
    "               'R_s':ri,'R_a':ra,\n",
    "               'S_s':si,'S_a':sa,\n",
    "               'T_s':ti,'T_a':ta,\n",
    "               'qt':difference(qi,ti),'ts':difference(ti,si),'sr':difference(si,ri),\n",
    "              'wave':[wave]}\n",
    "        if result is None :\n",
    "            result = pd.DataFrame(dic, index=[index])\n",
    "        else :\n",
    "            result = pd.concat([result,  pd.DataFrame(dic, index=[index])])\n",
    "        index=index+1\n",
    "    return result\n",
    "sortBeats = sortHeartBeats(previousResult,subsignal)"
   ]
  },
  {
   "cell_type": "code",
   "execution_count": null,
   "metadata": {},
   "outputs": [],
   "source": [
    "def checkQRST(qrst) :\n",
    "    shape = qrst.shape[0]\n",
    "    x = 0\n",
    "    while x<shape :\n",
    "        qiNotNone = qrst.iloc[x][\"Q_s\"] is not None\n",
    "        riNotNone = qrst.iloc[x][\"R_s\"] is not None\n",
    "        siNotNone = qrst.iloc[x][\"S_s\"] is not None\n",
    "        tiNotNone = qrst.iloc[x][\"T_s\"] is not None\n",
    "        if(riNotNone and siNotNone and qrst.iloc[x][\"R_s\"]>qrst.iloc[x][\"S_s\"]) :\n",
    "            print(\"R>S en\",x)\n",
    "        if(siNotNone and tiNotNone and qrst.iloc[x][\"S_s\"]>qrst.iloc[x][\"T_s\"]) :\n",
    "            print(\"S>T en\",x)\n",
    "        if(qiNotNone and tiNotNone and qrst.iloc[x][\"T_s\"]>qrst.iloc[x][\"Q_s\"]) :\n",
    "            print(\"T>Q en\",x,\" qt value\",qrst.iloc[x][\"qt\"])\n",
    "        x=x+1\n",
    "checkQRST(sortBeats)"
   ]
  },
  {
   "cell_type": "code",
   "execution_count": null,
   "metadata": {
    "scrolled": true
   },
   "outputs": [],
   "source": [
    "print(sortBeats.iloc[2112:2114])"
   ]
  },
  {
   "cell_type": "code",
   "execution_count": null,
   "metadata": {},
   "outputs": [],
   "source": [
    "def addapt_numpy_float64(numpy_float64):\n",
    "  return AsIs(numpy_float64)\n",
    "register_adapter(np.float64, addapt_numpy_float64)\n",
    "def addapt_numpy_int64(numpy_int64):\n",
    "  return AsIs(numpy_int64)\n",
    "register_adapter(np.int64, addapt_numpy_int64)"
   ]
  },
  {
   "cell_type": "code",
   "execution_count": null,
   "metadata": {},
   "outputs": [],
   "source": [
    "#sortBeats = sortBeats.assign(subject_id=int(subject_id)).assign(recorddate=recorddate)\n",
    "sortBeats['record'] = record\n",
    "def saveQRST(qrst) :\n",
    "    conn = psycopg2.connect(\"dbname=mimic\")\n",
    "    cur = conn.cursor()\n",
    "    table = \"rstq\"\n",
    "    cur.execute(\"CREATE TABLE IF NOT EXISTS \"+table+\n",
    "            \" (id serial NOT NULL, \"+\n",
    "                \" record character varying(50), \"+\n",
    "                \" r_s integer, \"+\n",
    "                \" r_a double precision, \"+\n",
    "                \" s_s integer, \"+\n",
    "                \" s_a double precision, \"+\n",
    "                \" t_s integer,  \"+\n",
    "                \"  t_a double precision, \"+\n",
    "                \"  q_s integer, \"+\n",
    "                \"  q_a double precision, \"+\n",
    "                \"  qt integer, \"+\n",
    "                \"  ts integer, \"+\n",
    "                \"  sr integer, \"+\n",
    "                \"  centroid character varying(50), \"+\n",
    "                \"  wave real[], \"+\n",
    "                \"  CONSTRAINT rstq_pkey PRIMARY KEY (id));\")\n",
    "    insert_statement = 'insert into '+table+' (%s) values %s'\n",
    "    for index, row in qrst.iterrows():\n",
    "        columns = row.keys()\n",
    "        values = [row[column] for column in columns]\n",
    " #       print(cur.mogrify(insert_statement, (AsIs(','.join(columns)), tuple(values))))\n",
    "        cur.execute(insert_statement, (AsIs(','.join(columns)), tuple(values)))\n",
    "    conn.commit()\n",
    "    conn.close()\n",
    "saveQRST(sortBeats)"
   ]
  },
  {
   "cell_type": "code",
   "execution_count": null,
   "metadata": {},
   "outputs": [],
   "source": []
  }
 ],
 "metadata": {
  "kernelspec": {
   "display_name": "Python 3",
   "language": "python",
   "name": "python3"
  },
  "language_info": {
   "codemirror_mode": {
    "name": "ipython",
    "version": 3
   },
   "file_extension": ".py",
   "mimetype": "text/x-python",
   "name": "python",
   "nbconvert_exporter": "python",
   "pygments_lexer": "ipython3",
   "version": "3.4.3"
  }
 },
 "nbformat": 4,
 "nbformat_minor": 2
}
