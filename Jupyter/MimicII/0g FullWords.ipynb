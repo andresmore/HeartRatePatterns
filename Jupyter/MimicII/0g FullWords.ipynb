{
 "cells": [
  {
   "cell_type": "code",
   "execution_count": 1,
   "metadata": {},
   "outputs": [],
   "source": [
    "import psycopg2\n",
    "import gc\n",
    "from psycopg2.extensions import register_adapter, AsIs\n",
    "from time import time\n",
    "import matplotlib.pyplot as plt\n",
    "import numpy as np\n",
    "from collections import defaultdict\n"
   ]
  },
  {
   "cell_type": "code",
   "execution_count": 2,
   "metadata": {},
   "outputs": [],
   "source": [
    "def obtainMaxRecords(dbname=\"mimic\") :\n",
    "    conn = psycopg2.connect(\"dbname=\"+dbname)\n",
    "    cur = conn.cursor()\n",
    "    select_stament = (\"SELECT replace(split_part(record, '/',3),'s',''),max(record) \"\n",
    "                      \" FROM rstq \"\n",
    "                      \" WHERE cast(replace(split_part(record, '/',3),'s','') as integer) \"\n",
    "                      \" NOT IN (select subject_id from subjectrecord) \"\n",
    "                      \" AND centroid IS NOT NULL\"\n",
    "                      \" GROUP BY split_part(record, '/',3)\"\n",
    "    )\n",
    "    cur.execute(select_stament)\n",
    "    subject = []\n",
    "    for row in cur :\n",
    "        subject.append({\"subject_id\":int(row[0]),\"record\":row[1]})\n",
    "    conn.close()\n",
    "    return subject"
   ]
  },
  {
   "cell_type": "code",
   "execution_count": 3,
   "metadata": {},
   "outputs": [],
   "source": [
    "def insert(words,table,dbname=\"mimic\") :\n",
    "    conn = psycopg2.connect(\"dbname=\"+dbname)\n",
    "    cur = conn.cursor()\n",
    "    insert_statement = 'INSERT into '+table+' (%s) values %s'\n",
    "    columns = words.keys()\n",
    "    values = [words[column] for column in columns]\n",
    "#    print(cur.mogrify(insert_statement, (AsIs(','.join(columns)), tuple(values))))\n",
    "    cur.execute(insert_statement, (AsIs(','.join(columns)), tuple(values)))\n",
    "    conn.commit()\n",
    "    cur.close()\n",
    "    conn.close()"
   ]
  },
  {
   "cell_type": "code",
   "execution_count": 4,
   "metadata": {},
   "outputs": [],
   "source": [
    "def fillsubjectRecord() :\n",
    "    for subject in obtainMaxRecords() :\n",
    "        insert(subject,\"subjectrecord\")"
   ]
  },
  {
   "cell_type": "code",
   "execution_count": 5,
   "metadata": {},
   "outputs": [],
   "source": [
    "def obtainSubjects(dbname=\"mimic\") :\n",
    "    conn = psycopg2.connect(\"dbname=\"+dbname)\n",
    "    cur = conn.cursor()\n",
    "    select_stament = (\"SELECT subject_id,record \"\n",
    "                      \" FROM subjectrecord\"\n",
    "    )\n",
    "    cur.execute(select_stament)\n",
    "    subject = []\n",
    "    for row in cur :\n",
    "        subject.append({\"subject_id\":int(row[0]),\"record\":row[1]})\n",
    "    cur.close()\n",
    "    conn.close()\n",
    "    return subject"
   ]
  },
  {
   "cell_type": "code",
   "execution_count": 6,
   "metadata": {},
   "outputs": [],
   "source": [
    "def patientIsAlive(patient,dbname=\"mimic\") :\n",
    "    conn = psycopg2.connect(\"dbname=\"+dbname)\n",
    "    cur = conn.cursor()\n",
    "    select_stament = (\"SELECT dod \"\n",
    "                      \" FROM patients WHERE subject_id = \"+str(patient)+\" LIMIT 1\"\n",
    "    )\n",
    "    cur.execute(select_stament)\n",
    "    select = []\n",
    "    for row in cur :\n",
    "        select.append(1 if row[0] is not None else 0 )\n",
    "    cur.close()\n",
    "    conn.close()\n",
    "    return select"
   ]
  },
  {
   "cell_type": "code",
   "execution_count": 7,
   "metadata": {},
   "outputs": [],
   "source": [
    "def obtainWord(subject,dbname=\"mimic\") :\n",
    "    conn = psycopg2.connect(\"dbname=\"+dbname)\n",
    "    cur = conn.cursor()\n",
    "    select_stament = (\"SELECT centroid \"\n",
    "                      \" FROM rstq WHERE record='\"+str(subject)+\"' ORDER BY r_s\"\n",
    "    )\n",
    "    cur.execute(select_stament)\n",
    "    centroids = \"\"\n",
    "    for row in cur :\n",
    "        centroid = row[0]\n",
    "        if centroid is not None :\n",
    "            centroids= centroids+centroid\n",
    "    conn.close()\n",
    "    return centroids"
   ]
  },
  {
   "cell_type": "code",
   "execution_count": 8,
   "metadata": {},
   "outputs": [],
   "source": [
    "def deleteWord(dbname=\"mimic\") :\n",
    "    conn = psycopg2.connect(\"dbname=\"+dbname)\n",
    "    cur = conn.cursor()\n",
    "    select_stament = \"DELETE FROM subjectwords\"\n",
    "    cur.execute(select_stament)\n",
    "    conn.commit()\n",
    "    cur.close()\n",
    "    conn.close()"
   ]
  },
  {
   "cell_type": "code",
   "execution_count": 9,
   "metadata": {},
   "outputs": [],
   "source": [
    "def insertSubjectWords(words,dbname=\"mimic\") :\n",
    "    conn = psycopg2.connect(\"dbname=\"+dbname)\n",
    "    cur = conn.cursor()\n",
    "    insert_statement=('INSERT INTO subjectwords(word,subject_id,isalive)'\n",
    "                      ' SELECT unnest( %(word)s ) ,'\n",
    "                      ' unnest( %(subject_id)s) ,'\n",
    "                      ' unnest( %(isalive)s)')\n",
    "    word=[r['word'] for r in words]\n",
    "    subject_id=[r['subject_id'] for r in words]\n",
    "    isalive=[r['isalive'] for r in words]\n",
    "#    print(cur.mogrify(insert_statement,locals()))\n",
    "    cur.execute(insert_statement,locals())\n",
    "    conn.commit()\n",
    "    cur.close()\n",
    "    conn.close()"
   ]
  },
  {
   "cell_type": "code",
   "execution_count": 10,
   "metadata": {},
   "outputs": [],
   "source": [
    "def createListOfWords() :\n",
    "    subjects = obtainSubjects()\n",
    "    lenSubjects = len(subjects)\n",
    "    deleteWord()\n",
    "    i,j=0,0\n",
    "    words = []\n",
    "    for subject in subjects :\n",
    "        subject_id = subject['subject_id']\n",
    "        isAlive = patientIsAlive(subject_id)\n",
    "        if isAlive != [] :\n",
    "            j=j+1\n",
    "            word = obtainWord(subject['record'])\n",
    "            if word is not None:\n",
    "                words.append({'subject_id':subject_id,'word':word,'isalive':isAlive[0]})\n",
    "    insertSubjectWords(words)\n",
    "    print()\n",
    "    print(\"In a list of \"+str(lenSubjects)+\" we know the status of \"+str(j)+\" patients\")"
   ]
  },
  {
   "cell_type": "code",
   "execution_count": 11,
   "metadata": {},
   "outputs": [],
   "source": [
    "def existMatrix(word,subject,dbname=\"mimic\") :\n",
    "    conn = psycopg2.connect(\"dbname=\"+dbname)\n",
    "    cur = conn.cursor()\n",
    "    select_stament = (\"SELECT 1 \"\n",
    "                      \" FROM matrix WHERE subject_id='\"+str(subject)+\"' AND word='\"+str(word)+\"'\"\n",
    "    )\n",
    "    cur.execute(select_stament)\n",
    "    exist = False\n",
    "    for row in cur :\n",
    "        exist = True\n",
    "    cur.close()\n",
    "    conn.close()\n",
    "    return exist"
   ]
  },
  {
   "cell_type": "code",
   "execution_count": 12,
   "metadata": {},
   "outputs": [],
   "source": [
    "def printGroups(dbname=\"mimic\") :\n",
    "    conn = psycopg2.connect(\"dbname=\"+dbname)\n",
    "    cur = conn.cursor()\n",
    "    select_stament = (\"SELECT count(1),LENGTH(word) FROM subjectwords GROUP BY LENGTH(word) ORDER BY LENGTH(word)\"\n",
    "    )\n",
    "    cur.execute(select_stament)\n",
    "    words = []\n",
    "    maximun = 0\n",
    "    for row in cur :\n",
    "        words.append({\"subjects\":row[0],\"wordSize\":row[1]})\n",
    "        maximun = maximun if maximun>row[1] else row[1]\n",
    "    cur.close()\n",
    "    conn.close()\n",
    "    division = maximun/8\n",
    "    means_men = defaultdict(int) #'0':0,'1':0,'2':0,'3':0,'4':0,'5':0,'6':0,'7':0,'8':0,\n",
    "    for r in words :\n",
    "        for x in range(0, 9):\n",
    "            if(r['wordSize']>=division*x and r['wordSize']<division*(x+1)):\n",
    "                means_men[str(int(division*(x+1))).zfill(5)] += r['subjects']\n",
    "    columns = sorted(means_men.keys())\n",
    "    means_men = [means_men[column] for column in sorted(means_men)]\n",
    "    index = np.arange(len(means_men))\n",
    "    bar_width = 0.35\n",
    "    fig, ax = plt.subplots() \n",
    "    for i, v in enumerate(means_men):\n",
    "        ax.text(v+1,i-0.1, str(v), color='blue', fontweight='bold')\n",
    "    plt.barh(index,means_men,label='Subjects')\n",
    "    plt.ylabel('Lenght of Words')\n",
    "    plt.xlabel('Subjects')\n",
    "    plt.title('Subjects by Lenght of words')\n",
    "    plt.yticks(index + bar_width / 2, (columns))\n",
    "    plt.legend()\n",
    "#    plt.tight_layout()\n",
    "    plt.show()"
   ]
  },
  {
   "cell_type": "code",
   "execution_count": 13,
   "metadata": {},
   "outputs": [
    {
     "name": "stdout",
     "output_type": "stream",
     "text": [
      "fillsubjectRecord done in 36.766s.\n",
      "\n",
      "In a list of 1098 we know the status of 1074 patients\n",
      "createListOfWords done in 1378.320s.\n"
     ]
    }
   ],
   "source": [
    "t0 = time()\n",
    "fillsubjectRecord()\n",
    "print(\"fillsubjectRecord done in %0.3fs.\" % (time() - t0))\n",
    "gc.collect()\n",
    "t0 = time()\n",
    "createListOfWords()\n",
    "print(\"createListOfWords done in %0.3fs.\" % (time() - t0))"
   ]
  },
  {
   "cell_type": "code",
   "execution_count": 14,
   "metadata": {},
   "outputs": [
    {
     "data": {
      "image/png": "[encoded data removed]",
      "text/plain": [
       "<matplotlib.figure.Figure at 0x7f3dd84e4128>"
      ]
     },
     "metadata": {},
     "output_type": "display_data"
    }
   ],
   "source": [
    "printGroups()"
   ]
  },
  {
   "cell_type": "code",
   "execution_count": null,
   "metadata": {},
   "outputs": [],
   "source": []
  }
 ],
 "metadata": {
  "kernelspec": {
   "display_name": "Python 3",
   "language": "python",
   "name": "python3"
  },
  "language_info": {
   "codemirror_mode": {
    "name": "ipython",
    "version": 3
   },
   "file_extension": ".py",
   "mimetype": "text/x-python",
   "name": "python",
   "nbconvert_exporter": "python",
   "pygments_lexer": "ipython3",
   "version": "3.4.3"
  }
 },
 "nbformat": 4,
 "nbformat_minor": 2
}
