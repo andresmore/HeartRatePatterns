{
 "cells": [
  {
   "cell_type": "markdown",
   "metadata": {},
   "source": [
    "# Logistic Regression Ajusted\n",
    "We are gonna test wish one is better, the ajusted or the normal logistic regresion"
   ]
  },
  {
   "cell_type": "markdown",
   "metadata": {},
   "source": [
    "## Imports"
   ]
  },
  {
   "cell_type": "code",
   "execution_count": 1,
   "metadata": {},
   "outputs": [],
   "source": [
    "import sys \n",
    "import os\n",
    "sys.path.append(os.path.abspath(\"/home/scidb/HeartRatePatterns/Python\"))\n",
    "from LogisticRegresion import ajustLogisticRegression\n",
    "from Matrix import convert_matrix\n",
    "from sklearn.model_selection import train_test_split"
   ]
  },
  {
   "cell_type": "markdown",
   "metadata": {},
   "source": [
    "## Get the data"
   ]
  },
  {
   "cell_type": "code",
   "execution_count": 2,
   "metadata": {},
   "outputs": [
    {
     "name": "stdout",
     "output_type": "stream",
     "text": [
      "(575, 252)\n"
     ]
    }
   ],
   "source": [
    "table = convert_matrix(with_pearson=252,len_words=(3,3))\n",
    "survived = table.index.labels[1].tolist()\n",
    "patients = table.values\n",
    "patients_train, patients_test,survived_train, survived_test = train_test_split(patients, \n",
    "                                                                               survived,test_size=0.2, random_state=42)\n"
   ]
  },
  {
   "cell_type": "markdown",
   "metadata": {},
   "source": [
    "## Normal Logistic Regression"
   ]
  },
  {
   "cell_type": "code",
   "execution_count": 3,
   "metadata": {},
   "outputs": [
    {
     "data": {
      "text/plain": [
       "LogisticRegression(C=1.0, class_weight=None, dual=False, fit_intercept=True,\n",
       "          intercept_scaling=1, max_iter=100, multi_class='ovr', n_jobs=1,\n",
       "          penalty='l2', random_state=None, solver='liblinear', tol=0.0001,\n",
       "          verbose=0, warm_start=False)"
      ]
     },
     "execution_count": 3,
     "metadata": {},
     "output_type": "execute_result"
    }
   ],
   "source": [
    "from sklearn.linear_model import LogisticRegression\n",
    "model = LogisticRegression()\n",
    "model.fit(patients_train, survived_train)"
   ]
  },
  {
   "cell_type": "markdown",
   "metadata": {},
   "source": [
    "## Ajusted Logistic Regression"
   ]
  },
  {
   "cell_type": "code",
   "execution_count": 4,
   "metadata": {},
   "outputs": [
    {
     "name": "stdout",
     "output_type": "stream",
     "text": [
      "[[13 20]\n",
      " [16 66]]\n"
     ]
    }
   ],
   "source": [
    "ajustedmodel = ajustLogisticRegression(patients_train,survived_train,patients_test,survived_test)['model']"
   ]
  },
  {
   "cell_type": "markdown",
   "metadata": {},
   "source": [
    "## 1 lest check the accurracy"
   ]
  },
  {
   "cell_type": "code",
   "execution_count": 5,
   "metadata": {},
   "outputs": [
    {
     "name": "stdout",
     "output_type": "stream",
     "text": [
      "normal 0.64347826087 ajusted 0.686956521739\n"
     ]
    }
   ],
   "source": [
    "from sklearn.metrics import accuracy_score\n",
    "\n",
    "acurracy = accuracy_score(survived_test, model.predict(patients_test))\n",
    "acurracyAjust = accuracy_score(survived_test, ajustedmodel.predict(patients_test))\n",
    "print(\"normal\",acurracy,\"ajusted\",acurracyAjust)"
   ]
  },
  {
   "cell_type": "markdown",
   "metadata": {},
   "source": [
    "## 2 the ROC_AUC"
   ]
  },
  {
   "cell_type": "code",
   "execution_count": 6,
   "metadata": {},
   "outputs": [
    {
     "name": "stdout",
     "output_type": "stream",
     "text": [
      "normal\n",
      "0.60236511456\n",
      "ajusted\n",
      "0.637472283814\n"
     ]
    }
   ],
   "source": [
    "from sklearn.metrics import roc_auc_score\n",
    "print(\"normal\")\n",
    "probaNormal = model.predict_proba(patients_test)[:, 1]\n",
    "roc_auc_normal = roc_auc_score(survived_test, probaNormal)\n",
    "print(roc_auc_normal)\n",
    "print(\"ajusted\")\n",
    "probaAjusted = ajustedmodel.predict_proba(patients_test)[:, 1]\n",
    "roc_auc_ajusted = roc_auc_score(survived_test, probaAjusted)\n",
    "print(roc_auc_ajusted)"
   ]
  },
  {
   "cell_type": "markdown",
   "metadata": {},
   "source": [
    "# Confusiom Matrix"
   ]
  },
  {
   "cell_type": "code",
   "execution_count": 7,
   "metadata": {},
   "outputs": [
    {
     "name": "stdout",
     "output_type": "stream",
     "text": [
      "normal\n",
      "[[ 6 27]\n",
      " [14 68]]\n",
      "ajusted\n",
      "[[13 20]\n",
      " [16 66]]\n"
     ]
    }
   ],
   "source": [
    "from sklearn.metrics import confusion_matrix\n",
    "print(\"normal\")\n",
    "confusion_normal = confusion_matrix(survived_test,model.predict(patients_test))\n",
    "print(confusion_normal)\n",
    "print(\"ajusted\")\n",
    "confusion_ajusted = confusion_matrix(survived_test,ajustedmodel.predict(patients_test))\n",
    "print(confusion_ajusted)"
   ]
  },
  {
   "cell_type": "markdown",
   "metadata": {},
   "source": [
    "## ROC_AUC"
   ]
  },
  {
   "cell_type": "code",
   "execution_count": 8,
   "metadata": {},
   "outputs": [],
   "source": [
    "from sklearn.metrics import roc_curve\n",
    "import matplotlib.pyplot as plt"
   ]
  },
  {
   "cell_type": "code",
   "execution_count": 18,
   "metadata": {},
   "outputs": [],
   "source": [
    "def roc_curveplot(name,y_true,y_score,logit_roc_auc,acurracy):\n",
    "    fpr, tpr, thresholds = roc_curve(y_true,y_score)\n",
    "    plt.plot(fpr,tpr,label=str(name)+' AUC =%.2f' % logit_roc_auc+' acc ={:.2f}%'.format(acurracy*100)  )"
   ]
  },
  {
   "cell_type": "code",
   "execution_count": 20,
   "metadata": {},
   "outputs": [
    {
     "data": {
      "image/png": "[encoded data removed]",
      "text/plain": [
       "<matplotlib.figure.Figure at 0x7fcae372ae48>"
      ]
     },
     "metadata": {},
     "output_type": "display_data"
    }
   ],
   "source": [
    "fig_size = [6, 6]\n",
    "plt.rcParams[\"figure.figsize\"] = fig_size\n",
    "plt.figure()\n",
    "roc_curveplot('Normal',survived_test,probaNormal,roc_auc_normal,acurracy)\n",
    "roc_curveplot('Ajustado',survived_test,probaAjusted,roc_auc_ajusted,acurracyAjust)\n",
    "plt.plot([0,1],[0,1],'k--')\n",
    "plt.xlim([0.0, 1.0])\n",
    "plt.ylim([0.0, 1.05])\n",
    "plt.xlabel('Tasa de Falsos Positivos')\n",
    "plt.ylabel('Tasa de Verdaderos Positivos')\n",
    "plt.title('Curva ROC comparando resultados')\n",
    "plt.legend(loc=\"lower right\")\n",
    "plt.show()"
   ]
  },
  {
   "cell_type": "code",
   "execution_count": null,
   "metadata": {},
   "outputs": [],
   "source": []
  }
 ],
 "metadata": {
  "kernelspec": {
   "display_name": "Python 3",
   "language": "python",
   "name": "python3"
  },
  "language_info": {
   "codemirror_mode": {
    "name": "ipython",
    "version": 3
   },
   "file_extension": ".py",
   "mimetype": "text/x-python",
   "name": "python",
   "nbconvert_exporter": "python",
   "pygments_lexer": "ipython3",
   "version": "3.4.3"
  }
 },
 "nbformat": 4,
 "nbformat_minor": 2
}
