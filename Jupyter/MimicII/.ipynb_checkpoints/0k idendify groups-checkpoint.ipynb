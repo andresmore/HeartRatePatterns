{
 "cells": [
  {
   "cell_type": "markdown",
   "metadata": {},
   "source": [
    "# Identificacion de grupos con los resultados de la prediccion anterior\n",
    "## Imports"
   ]
  },
  {
   "cell_type": "code",
   "execution_count": 1,
   "metadata": {},
   "outputs": [
    {
     "ename": "ImportError",
     "evalue": "cannot import name 'auc_model'",
     "output_type": "error",
     "traceback": [
      "\u001b[0;31m---------------------------------------------------------------------------\u001b[0m",
      "\u001b[0;31mImportError\u001b[0m                               Traceback (most recent call last)",
      "\u001b[0;32m<ipython-input-1-72e5f2dae298>\u001b[0m in \u001b[0;36m<module>\u001b[0;34m()\u001b[0m\n\u001b[1;32m      5\u001b[0m \u001b[0;32mfrom\u001b[0m \u001b[0mPlotWords\u001b[0m \u001b[0;32mimport\u001b[0m \u001b[0mplot_word\u001b[0m\u001b[0;34m\u001b[0m\u001b[0m\n\u001b[1;32m      6\u001b[0m \u001b[0;32mfrom\u001b[0m \u001b[0mMatrix\u001b[0m \u001b[0;32mimport\u001b[0m \u001b[0mconvert_matrix\u001b[0m\u001b[0;34m\u001b[0m\u001b[0m\n\u001b[0;32m----> 7\u001b[0;31m \u001b[0;32mfrom\u001b[0m \u001b[0mNMF\u001b[0m \u001b[0;32mimport\u001b[0m \u001b[0mgenerateNMF\u001b[0m\u001b[0;34m,\u001b[0m\u001b[0mauc_model\u001b[0m\u001b[0;34m\u001b[0m\u001b[0m\n\u001b[0m",
      "\u001b[0;31mImportError\u001b[0m: cannot import name 'auc_model'"
     ]
    }
   ],
   "source": [
    "import sys \n",
    "import os\n",
    "sys.path.append(os.path.abspath(\"/home/scidb/HeartRatePatterns/Python\"))\n",
    "from LogisticRegresion import ajustLogisticRegression\n",
    "from PlotWords import plot_word\n",
    "from Matrix import convert_matrix\n",
    "from NMF import generateNMF"
   ]
  },
  {
   "cell_type": "markdown",
   "metadata": {},
   "source": [
    "## Número de componentes por los que se factorizara la tabla segun el resultado anterior"
   ]
  },
  {
   "cell_type": "code",
   "execution_count": null,
   "metadata": {},
   "outputs": [],
   "source": [
    "n_components=10"
   ]
  },
  {
   "cell_type": "code",
   "execution_count": null,
   "metadata": {},
   "outputs": [],
   "source": [
    "def findpatient(message,table,beats):\n",
    "    groupsize = table.shape[0]\n",
    "    deads = sum(table.index.labels[1].tolist())\n",
    "    percent = -1 if groupsize==0 else deads/groupsize\n",
    "    if groupsize!=0:\n",
    "        print(message,\"groupsize:%d\"%groupsize,\"deads:%d\"%deads,\"percent:{0:.2%}\".format(percent),beats)"
   ]
  },
  {
   "cell_type": "code",
   "execution_count": null,
   "metadata": {},
   "outputs": [],
   "source": [
    "import psycopg2\n",
    "def selectPearson(word,dbname=\"mimic\") :\n",
    "    conn = psycopg2.connect(\"dbname=\"+dbname)\n",
    "    cur = conn.cursor()\n",
    "    select_statement='SELECT patient,deadpatient,p1 FROM wordspearson WHERE word = %s'\n",
    "#    print(cur.mogrify(select_statement,locals()))\n",
    "    cur.execute(select_statement,(word,))\n",
    "    select = {}\n",
    "    for row in cur :\n",
    "        patient=row[0]\n",
    "        select = {'word':word,\"pacientes\":patient,\"porcentaje de muertos\":\"{0:.2%}\".format(row[1]/patient),\"correlación\":row[2]}\n",
    "    cur.close()\n",
    "    conn.close()\n",
    "    return select"
   ]
  },
  {
   "cell_type": "code",
   "execution_count": null,
   "metadata": {},
   "outputs": [],
   "source": [
    "def addValue(key,my_dict):\n",
    "    if key in my_dict:\n",
    "        my_dict[key] += 1\n",
    "    else:\n",
    "        my_dict[key] = 1\n",
    "    return my_dict"
   ]
  },
  {
   "cell_type": "code",
   "execution_count": null,
   "metadata": {},
   "outputs": [],
   "source": [
    "from operator import itemgetter\n",
    "def predict_proba(modelnmf,compoT,table):\n",
    "    predicts = modelnmf.predict_proba(compoT)[:,1]\n",
    "    beats = list(table)\n",
    "    sortedBeats = []\n",
    "    numPred = len(predicts)\n",
    "    nvals={}\n",
    "    for i in range(0,numPred):\n",
    "        word = beats[i]\n",
    "        sel = selectPearson(word)\n",
    "        if sel=={}:\n",
    "            print(\"palabra no encontrada en pearson:\",word)\n",
    "        cuantosMueren=sel['porcentaje de muertos']+\" de \"+str(sel['pacientes'])\n",
    "        sortedBeats.append({'word':beats[i],'predict':predicts[i],'cuantosMueren':cuantosMueren,\"correlación\":sel['correlación']})\n",
    "        if predicts[i]>.99 : addValue(\"99\",nvals)\n",
    "        elif predicts[i]>.90 : addValue(\"90\",nvals)\n",
    "        elif predicts[i]>.80 : addValue(\"80\",nvals)\n",
    "        elif predicts[i]>.70 : addValue(\"70\",nvals)\n",
    "        else: addValue(\"under\",nvals)\n",
    "    print(nvals)\n",
    "    return sorted(sortedBeats, key=itemgetter('correlación'), reverse=True)"
   ]
  },
  {
   "cell_type": "code",
   "execution_count": null,
   "metadata": {},
   "outputs": [],
   "source": [
    "table = convert_matrix()\n",
    "survived = table.index.labels[1].tolist()\n",
    "patients = table.values"
   ]
  },
  {
   "cell_type": "code",
   "execution_count": null,
   "metadata": {},
   "outputs": [],
   "source": [
    "from sklearn.model_selection import train_test_split\n",
    "patients_train, patients_test,survived_train, survived_test = train_test_split(patients,survived,test_size=0.2, random_state=42)"
   ]
  },
  {
   "cell_type": "code",
   "execution_count": null,
   "metadata": {},
   "outputs": [],
   "source": [
    "modelnmf, nmf, patients_nmf, acurracy = generateNMF(patients,survived,n_components=n_components)"
   ]
  },
  {
   "cell_type": "code",
   "execution_count": null,
   "metadata": {},
   "outputs": [],
   "source": [
    "import numpy as np\n",
    "compoT = np.transpose(nmf.components_)\n",
    "print(\"components\",nmf.components_.shape)\n",
    "print(\"components Transpose\",compoT.shape)\n",
    "print(nmf.reconstruction_err_)"
   ]
  },
  {
   "cell_type": "code",
   "execution_count": null,
   "metadata": {
    "scrolled": true
   },
   "outputs": [],
   "source": [
    "sortedBeats = predict_proba(modelnmf,compoT,table)\n",
    "beatKeys = []\n",
    "for value in sortedBeats:\n",
    "    beatKeys.append(value['word'])"
   ]
  },
  {
   "cell_type": "code",
   "execution_count": null,
   "metadata": {},
   "outputs": [],
   "source": [
    "#print(sortedBeats[:10])\n",
    "df = pd.DataFrame(sortedBeats)\n",
    "df = df.set_index('word')\n",
    "df = df.sort_values(['predict'], ascending=[False])\n",
    "df"
   ]
  },
  {
   "cell_type": "code",
   "execution_count": null,
   "metadata": {
    "scrolled": true
   },
   "outputs": [],
   "source": [
    "print(\"Top 5 HeartBeats con mayor probabilidad de muerte según la regresión logística\")\n",
    "plot_word(sortedBeats[:10])"
   ]
  },
  {
   "cell_type": "code",
   "execution_count": null,
   "metadata": {},
   "outputs": [],
   "source": [
    "from operator import itemgetter\n",
    "from scipy.stats.stats import pearsonr\n",
    "import pandas as pd\n",
    "pd.set_option('display.float_format', lambda x: '%.5f' % x)\n",
    "\n",
    "def find_pearson(value, patient, survived):\n",
    "    pearsonList = []\n",
    "    for i in range(value):\n",
    "        patientpear = patient[:, i]\n",
    "        pearson = pearsonr(patientpear, survived)\n",
    "        pearsonList.append({'grupo':i,'correlación':pearson[0],'p-valor':pearson[1]})\n",
    "    return sorted(pearsonList, key=itemgetter('correlación'), reverse=True)\n",
    "\n",
    "sortedList = find_pearson(n_components,patients_nmf,survived)\n",
    "df = pd.DataFrame(sortedList)\n",
    "df = df.set_index('grupo')\n",
    "df = df.sort_values(['correlación'], ascending=[False])\n",
    "df"
   ]
  },
  {
   "cell_type": "code",
   "execution_count": null,
   "metadata": {},
   "outputs": [],
   "source": [
    "def print_top_words(components,feature_names,topic_index=None):\n",
    "    result = []\n",
    "    for topic_idx, topic in enumerate(components):\n",
    "        features = [{\"word\":feature_names[i],\"correlación\":topic[i]} \n",
    "                    for i in topic.argsort()[:-1] if topic[i] > 0]\n",
    "        if features!=[] and (topic_index==None or topic_index==topic_idx): \n",
    "            result.append({\"topic\":topic_idx,\"features\":features})\n",
    "    return result"
   ]
  },
  {
   "cell_type": "code",
   "execution_count": null,
   "metadata": {},
   "outputs": [],
   "source": [
    "columns = list(table)\n",
    "topword = print_top_words(nmf.components_, columns,topic_index=sortedList[0]['grupo'])[0]['features']\n",
    "subwords = []\n",
    "for subword in topword:\n",
    "    if subword['correlación']>0:\n",
    "        subwords.append(subword['word'])\n",
    "print(str(subwords[:10]))"
   ]
  },
  {
   "cell_type": "code",
   "execution_count": null,
   "metadata": {},
   "outputs": [],
   "source": [
    "table = convert_matrix(sumvals=False,filter_words=tuple(subwords))\n",
    "survived = table.index.labels[1].tolist()\n",
    "patients = table.values\n",
    "table"
   ]
  },
  {
   "cell_type": "code",
   "execution_count": null,
   "metadata": {},
   "outputs": [],
   "source": [
    "patients_train, patients_test,survived_train, survived_test = train_test_split(patients,survived,test_size=0.2, random_state=42)\n",
    "print(table.shape)\n",
    "print(patients_train.shape)\n",
    "print(patients_test.shape)"
   ]
  },
  {
   "cell_type": "code",
   "execution_count": null,
   "metadata": {},
   "outputs": [],
   "source": [
    "model,acurracy = ajustLogisticRegression(patients_train,survived_train,patients_test,survived_test)"
   ]
  },
  {
   "cell_type": "code",
   "execution_count": null,
   "metadata": {},
   "outputs": [],
   "source": [
    "logit_roc_auc = auc_model(\"Logistic\",model,patients_test,survived_test)"
   ]
  },
  {
   "cell_type": "code",
   "execution_count": null,
   "metadata": {},
   "outputs": [],
   "source": [
    "def countPatients(word,dbname=\"mimic\") :\n",
    "    conn = psycopg2.connect(\"dbname=\"+dbname)\n",
    "    cur = conn.cursor()\n",
    "    select_statement='''SELECT count(1),sum(isalive) FROM matrix m LEFT JOIN subjectwords s \n",
    "    ON m.subject_id=s.subject_id where m.word = %s GROUP BY m.word'''\n",
    "#    print(cur.mogrify(select_statement,(word,)))\n",
    "    cur.execute(select_statement,(word,))\n",
    "    select = {}\n",
    "    for row in cur :\n",
    "        select = {\"patient\":row[0],\"deadPatient\":row[1],}\n",
    "    cur.close()\n",
    "    conn.close()\n",
    "    return select"
   ]
  },
  {
   "cell_type": "code",
   "execution_count": null,
   "metadata": {},
   "outputs": [],
   "source": [
    "columns = list(table.columns.values)\n",
    "pearsonList = []\n",
    "for i in range(len(columns)):\n",
    "    pearson = pearsonr(patients[:,i],survived)\n",
    "    word = columns[i]\n",
    "    count = countPatients(word)\n",
    "    deadPatient,patient = count['deadPatient'],count['patient']\n",
    "    percent = deadPatient/patient\n",
    "    pearsonList.append({'word':word,'correlación':pearson[0],'p-valor':pearson[1],\n",
    "                        'pacientes muertos':\"{0:.2%}\".format(percent)+\" de %d\" %patient})"
   ]
  },
  {
   "cell_type": "code",
   "execution_count": null,
   "metadata": {},
   "outputs": [],
   "source": [
    "pearsonList = sorted(pearsonList, key=itemgetter('correlación'), reverse=True)\n",
    "pearsonList\n",
    "df = pd.DataFrame(pearsonList)\n",
    "df = df.set_index('word')\n",
    "df = df.sort_values(['correlación'], ascending=[False])\n",
    "df"
   ]
  },
  {
   "cell_type": "code",
   "execution_count": null,
   "metadata": {},
   "outputs": [],
   "source": []
  }
 ],
 "metadata": {
  "kernelspec": {
   "display_name": "Python 3",
   "language": "python",
   "name": "python3"
  },
  "language_info": {
   "codemirror_mode": {
    "name": "ipython",
    "version": 3
   },
   "file_extension": ".py",
   "mimetype": "text/x-python",
   "name": "python",
   "nbconvert_exporter": "python",
   "pygments_lexer": "ipython3",
   "version": "3.4.3"
  }
 },
 "nbformat": 4,
 "nbformat_minor": 2
}
