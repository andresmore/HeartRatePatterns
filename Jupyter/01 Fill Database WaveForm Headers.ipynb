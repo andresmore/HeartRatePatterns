{
 "cells": [
  {
   "cell_type": "markdown",
   "metadata": {},
   "source": [
    "# Fill Database WaveForm Headers"
   ]
  },
  {
   "cell_type": "markdown",
   "metadata": {},
   "source": [
    "1) Import de las librerias que utilizaremos"
   ]
  },
  {
   "cell_type": "code",
   "execution_count": 1,
   "metadata": {},
   "outputs": [],
   "source": [
    "import urllib.request\n",
    "import wfdb\n",
    "import psycopg2\n",
    "from psycopg2.extensions import AsIs"
   ]
  },
  {
   "cell_type": "markdown",
   "metadata": {},
   "source": [
    "2) Leemos el archivo con las WaveForm que vamos a utilizar"
   ]
  },
  {
   "cell_type": "code",
   "execution_count": 2,
   "metadata": {},
   "outputs": [
    {
     "data": {
      "text/plain": [
       "\"b'p00/p000033/p000033-2116-12-24-12-35\\\\n'\""
      ]
     },
     "execution_count": 2,
     "metadata": {},
     "output_type": "execute_result"
    }
   ],
   "source": [
    "target_url = \"https://physionet.org/physiobank/database/mimic3wdb/matched/RECORDS-waveforms\"\n",
    "data = urllib.request.urlopen(target_url) # it's a file like object and works just like a file\n",
    "lines = data.readlines();\n",
    "line = str(lines[2])\n",
    "line"
   ]
  },
  {
   "cell_type": "markdown",
   "metadata": {},
   "source": [
    "3) Limpiamos los caracteres extraños y Dividimos la cadena donde pXXNNNN-YYYY-MM-DD-hh-mm donde XXNNNN es el identificador unico del paciente SUBJECT_ID y YYYY-MM-DD-hh-mm es la fecha de la estadia del paciente'"
   ]
  },
  {
   "cell_type": "code",
   "execution_count": 3,
   "metadata": {},
   "outputs": [
    {
     "name": "stdout",
     "output_type": "stream",
     "text": [
      "subject_id:  000033\n",
      "recordDate:  2116-12-24-12-35\n",
      "onda:  p000033-2116-12-24-12-35\n",
      "carpeta:  p00/p000033\n"
     ]
    }
   ],
   "source": [
    "line = line.replace('b\\'','').replace('\\'','').replace('\\\\n','')\n",
    "splited = line.split(\"/\")\n",
    "carpeta,subCarpeta,onda = line.split(\"/\")\n",
    "carpeta = carpeta+\"/\"+subCarpeta\n",
    "subject_id = subCarpeta.replace('p','')\n",
    "recordDate = onda.replace(subCarpeta+\"-\",\"\")\n",
    "print(\"subject_id: \",subject_id)\n",
    "print(\"recordDate: \",recordDate)\n",
    "print(\"onda: \",onda)\n",
    "print(\"carpeta: \",carpeta)"
   ]
  },
  {
   "cell_type": "markdown",
   "metadata": {},
   "source": [
    "4) Leemos el encabezado del waveform, para obtener la información del paciente que almacenaremos"
   ]
  },
  {
   "cell_type": "code",
   "execution_count": 4,
   "metadata": {},
   "outputs": [
    {
     "name": "stdout",
     "output_type": "stream",
     "text": [
      "{'units': ['mV', 'mV'], 'signame': ['II', 'MCL1'], 'fs': 125, 'comments': []}\n"
     ]
    }
   ],
   "source": [
    "try:\n",
    "    sig, fields = wfdb.srdsamp(onda,pbdir='mimic3wdb/matched/'+carpeta, sampto=1)\n",
    "    print(fields)\n",
    "except Exception as inst:\n",
    "    print(\"onda vacia\")"
   ]
  },
  {
   "cell_type": "markdown",
   "metadata": {},
   "source": [
    "Le agregamos el subject_id y la fecha del record a los campos"
   ]
  },
  {
   "cell_type": "code",
   "execution_count": 5,
   "metadata": {},
   "outputs": [],
   "source": [
    "fields['subject_id'] = subject_id\n",
    "fields['recordDate'] = recordDate"
   ]
  },
  {
   "cell_type": "markdown",
   "metadata": {},
   "source": [
    "convertimos los campos en un diccionario"
   ]
  },
  {
   "cell_type": "code",
   "execution_count": 6,
   "metadata": {},
   "outputs": [
    {
     "name": "stdout",
     "output_type": "stream",
     "text": [
      "dict_keys(['units', 'recordDate', 'subject_id', 'signame', 'fs', 'comments'])\n"
     ]
    }
   ],
   "source": [
    "columns = fields.keys()\n",
    "values = [fields[column] for column in columns]\n",
    "print(columns)"
   ]
  },
  {
   "cell_type": "markdown",
   "metadata": {},
   "source": [
    "Nos conectamos a la base de datos postgres donde almacenaremos los datos"
   ]
  },
  {
   "cell_type": "code",
   "execution_count": 7,
   "metadata": {},
   "outputs": [],
   "source": [
    "conn = psycopg2.connect(\"dbname=test\")\n",
    "cur = conn.cursor()"
   ]
  },
  {
   "cell_type": "markdown",
   "metadata": {},
   "source": [
    "Creamos la tabla donde quedaran almacenados los datos"
   ]
  },
  {
   "cell_type": "code",
   "execution_count": 8,
   "metadata": {},
   "outputs": [],
   "source": [
    "table = \"waveformFields\"\n",
    "#cur.execute(\"DROP TABLE \"+table)\n",
    "cur.execute(\"CREATE TABLE IF NOT EXISTS \"+table+\n",
    "            \" (id serial PRIMARY KEY,\"+\n",
    "            \"comments character varying(255)[],\"+\n",
    "            \"fs integer, signame character varying(255)[],\"+\n",
    "            \"units character varying(255)[],\"+\n",
    " \"subject_id integer,\"+\n",
    "            \"recordDate character varying(255));\")"
   ]
  },
  {
   "cell_type": "markdown",
   "metadata": {},
   "source": [
    "verificamos si ya existe el dato"
   ]
  },
  {
   "cell_type": "code",
   "execution_count": 9,
   "metadata": {},
   "outputs": [],
   "source": [
    "def track_not_exists(cur, subject_id,recordDate):\n",
    "    select_stament = 'select id from '+table+' where subject_id= %s and recorddate = %s'\n",
    "    cur.execute(select_stament,(int(subject_id),recordDate))\n",
    "    return cur.fetchone() is None\n",
    "#print(cur.mogrify(select_stament,(int(subject_id),recordDate)))\n",
    "notExist = False\n",
    "if track_not_exists(cur,subject_id,recordDate):\n",
    "    notExist = True\n",
    "    print(\"not exist\")"
   ]
  },
  {
   "cell_type": "markdown",
   "metadata": {},
   "source": [
    "Insertamos los datos"
   ]
  },
  {
   "cell_type": "code",
   "execution_count": 10,
   "metadata": {},
   "outputs": [
    {
     "name": "stdout",
     "output_type": "stream",
     "text": [
      "b\"insert into waveformFields (units,recordDate,subject_id,signame,fs,comments) values (ARRAY['mV', 'mV'], '2116-12-24-12-35', '000033', ARRAY['II', 'MCL1'], 125, '{}')\"\n"
     ]
    }
   ],
   "source": [
    "insert_statement = 'insert into '+table+' (%s) values %s'\n",
    "\n",
    "print(cur.mogrify(insert_statement, (AsIs(','.join(columns)), tuple(values))))\n",
    "if notExist:\n",
    "    cur.execute(insert_statement, (AsIs(','.join(columns)), tuple(values)))"
   ]
  },
  {
   "cell_type": "markdown",
   "metadata": {},
   "source": [
    "Hacemos commit"
   ]
  },
  {
   "cell_type": "code",
   "execution_count": 11,
   "metadata": {},
   "outputs": [],
   "source": [
    "conn.commit()"
   ]
  },
  {
   "cell_type": "markdown",
   "metadata": {},
   "source": [
    "cerramos conexion"
   ]
  },
  {
   "cell_type": "code",
   "execution_count": 12,
   "metadata": {},
   "outputs": [],
   "source": [
    "conn.close()"
   ]
  }
 ],
 "metadata": {
  "kernelspec": {
   "display_name": "Python 3",
   "language": "python",
   "name": "python3"
  },
  "language_info": {
   "codemirror_mode": {
    "name": "ipython",
    "version": 3
   },
   "file_extension": ".py",
   "mimetype": "text/x-python",
   "name": "python",
   "nbconvert_exporter": "python",
   "pygments_lexer": "ipython3",
   "version": "3.4.3"
  }
 },
 "nbformat": 4,
 "nbformat_minor": 2
}
